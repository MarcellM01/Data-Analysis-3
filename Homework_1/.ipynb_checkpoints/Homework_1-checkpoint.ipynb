{
 "cells": [
  {
   "cell_type": "markdown",
   "id": "953c5ebd-5669-4b63-9485-906dd398a1c7",
   "metadata": {},
   "source": [
    "# Data Analysis 3: Homework 1"
   ]
  },
  {
   "cell_type": "markdown",
   "id": "43120590-4da7-47c0-9e9b-dadbe76b8304",
   "metadata": {
    "tags": []
   },
   "source": [
    "## Required Libraries"
   ]
  },
  {
   "cell_type": "code",
   "execution_count": 4,
   "id": "688c03a8-572a-45e7-be95-be52637e3e3d",
   "metadata": {
    "tags": []
   },
   "outputs": [],
   "source": [
    "import warnings\n",
    "warnings.filterwarnings('ignore')\n",
    "\n",
    "import pandas as pd\n",
    "import seaborn as sns\n",
    "import matplotlib.pyplot as plt\n",
    "from mizani.formatters import percent_format\n",
    "import os\n",
    "from plotnine import *\n",
    "import numpy as np\n",
    "import sys\n",
    "import numpy as np\n",
    "import statsmodels.api as sm\n",
    "import statsmodels.formula.api as smf\n",
    "from stargazer import stargazer\n",
    "from statsmodels.tools.eval_measures import mse,rmse"
   ]
  },
  {
   "cell_type": "markdown",
   "id": "c88ee538-ebc7-4b66-b434-6193b151709f",
   "metadata": {},
   "source": [
    "## 1. Data Preparation"
   ]
  },
  {
   "cell_type": "markdown",
   "id": "8fce49e3-01f7-4dd5-92bb-747d8869c753",
   "metadata": {},
   "source": [
    "### 1.1 Importing data"
   ]
  },
  {
   "cell_type": "code",
   "execution_count": 12,
   "id": "9a4cde30-ddd4-40f2-b1b2-76560959839a",
   "metadata": {
    "tags": []
   },
   "outputs": [],
   "source": [
    "# Load the dataset\n",
    "current_path = os.getcwd()\n",
    "\n",
    "emp_data = pd.read_csv(current_path + '\\\\Homework_1\\\\morg-2014-emp.csv')"
   ]
  },
  {
   "cell_type": "code",
   "execution_count": 13,
   "id": "3660b078-2c37-4cdb-8be5-553b78d88283",
   "metadata": {
    "collapsed": true,
    "jupyter": {
     "outputs_hidden": true
    },
    "tags": []
   },
   "outputs": [
    {
     "data": {
      "text/html": [
       "<div>\n",
       "<style scoped>\n",
       "    .dataframe tbody tr th:only-of-type {\n",
       "        vertical-align: middle;\n",
       "    }\n",
       "\n",
       "    .dataframe tbody tr th {\n",
       "        vertical-align: top;\n",
       "    }\n",
       "\n",
       "    .dataframe thead th {\n",
       "        text-align: right;\n",
       "    }\n",
       "</style>\n",
       "<table border=\"1\" class=\"dataframe\">\n",
       "  <thead>\n",
       "    <tr style=\"text-align: right;\">\n",
       "      <th></th>\n",
       "      <th>Unnamed: 0</th>\n",
       "      <th>hhid</th>\n",
       "      <th>intmonth</th>\n",
       "      <th>stfips</th>\n",
       "      <th>weight</th>\n",
       "      <th>earnwke</th>\n",
       "      <th>uhours</th>\n",
       "      <th>grade92</th>\n",
       "      <th>race</th>\n",
       "      <th>ethnic</th>\n",
       "      <th>...</th>\n",
       "      <th>ownchild</th>\n",
       "      <th>chldpres</th>\n",
       "      <th>prcitshp</th>\n",
       "      <th>state</th>\n",
       "      <th>ind02</th>\n",
       "      <th>occ2012</th>\n",
       "      <th>class</th>\n",
       "      <th>unionmme</th>\n",
       "      <th>unioncov</th>\n",
       "      <th>lfsr94</th>\n",
       "    </tr>\n",
       "  </thead>\n",
       "  <tbody>\n",
       "    <tr>\n",
       "      <th>0</th>\n",
       "      <td>3</td>\n",
       "      <td>2600310997690</td>\n",
       "      <td>January</td>\n",
       "      <td>AL</td>\n",
       "      <td>3151.6801</td>\n",
       "      <td>1692.00</td>\n",
       "      <td>40</td>\n",
       "      <td>43</td>\n",
       "      <td>1</td>\n",
       "      <td>NaN</td>\n",
       "      <td>...</td>\n",
       "      <td>0</td>\n",
       "      <td>0</td>\n",
       "      <td>Native, Born In US</td>\n",
       "      <td>63</td>\n",
       "      <td>Employment services (5613)</td>\n",
       "      <td>630</td>\n",
       "      <td>Private, For Profit</td>\n",
       "      <td>No</td>\n",
       "      <td>No</td>\n",
       "      <td>Employed-At Work</td>\n",
       "    </tr>\n",
       "    <tr>\n",
       "      <th>1</th>\n",
       "      <td>5</td>\n",
       "      <td>75680310997590</td>\n",
       "      <td>January</td>\n",
       "      <td>AL</td>\n",
       "      <td>3457.1138</td>\n",
       "      <td>450.00</td>\n",
       "      <td>40</td>\n",
       "      <td>41</td>\n",
       "      <td>2</td>\n",
       "      <td>NaN</td>\n",
       "      <td>...</td>\n",
       "      <td>2</td>\n",
       "      <td>6</td>\n",
       "      <td>Native, Born In US</td>\n",
       "      <td>63</td>\n",
       "      <td>Outpatient care centers (6214)</td>\n",
       "      <td>5400</td>\n",
       "      <td>Private, For Profit</td>\n",
       "      <td>No</td>\n",
       "      <td>No</td>\n",
       "      <td>Employed-Absent</td>\n",
       "    </tr>\n",
       "    <tr>\n",
       "      <th>2</th>\n",
       "      <td>6</td>\n",
       "      <td>75680310997590</td>\n",
       "      <td>January</td>\n",
       "      <td>AL</td>\n",
       "      <td>3936.9110</td>\n",
       "      <td>1090.00</td>\n",
       "      <td>60</td>\n",
       "      <td>41</td>\n",
       "      <td>2</td>\n",
       "      <td>NaN</td>\n",
       "      <td>...</td>\n",
       "      <td>2</td>\n",
       "      <td>6</td>\n",
       "      <td>Native, Born In US</td>\n",
       "      <td>63</td>\n",
       "      <td>Motor vehicles and motor vehicle equipment man...</td>\n",
       "      <td>8140</td>\n",
       "      <td>Private, For Profit</td>\n",
       "      <td>No</td>\n",
       "      <td>No</td>\n",
       "      <td>Employed-At Work</td>\n",
       "    </tr>\n",
       "    <tr>\n",
       "      <th>3</th>\n",
       "      <td>10</td>\n",
       "      <td>179140131100930</td>\n",
       "      <td>January</td>\n",
       "      <td>AL</td>\n",
       "      <td>3288.3640</td>\n",
       "      <td>769.23</td>\n",
       "      <td>40</td>\n",
       "      <td>40</td>\n",
       "      <td>1</td>\n",
       "      <td>NaN</td>\n",
       "      <td>...</td>\n",
       "      <td>2</td>\n",
       "      <td>4</td>\n",
       "      <td>Native, Born In US</td>\n",
       "      <td>63</td>\n",
       "      <td>**Publishing, except newspapers and software (...</td>\n",
       "      <td>8255</td>\n",
       "      <td>Private, For Profit</td>\n",
       "      <td>Yes</td>\n",
       "      <td>NaN</td>\n",
       "      <td>Employed-At Work</td>\n",
       "    </tr>\n",
       "    <tr>\n",
       "      <th>4</th>\n",
       "      <td>11</td>\n",
       "      <td>179140131100930</td>\n",
       "      <td>January</td>\n",
       "      <td>AL</td>\n",
       "      <td>3422.8500</td>\n",
       "      <td>826.92</td>\n",
       "      <td>40</td>\n",
       "      <td>43</td>\n",
       "      <td>1</td>\n",
       "      <td>NaN</td>\n",
       "      <td>...</td>\n",
       "      <td>2</td>\n",
       "      <td>4</td>\n",
       "      <td>Native, Born In US</td>\n",
       "      <td>63</td>\n",
       "      <td>Banking and related activities (521, 52211,52219)</td>\n",
       "      <td>5940</td>\n",
       "      <td>Private, For Profit</td>\n",
       "      <td>No</td>\n",
       "      <td>No</td>\n",
       "      <td>Employed-At Work</td>\n",
       "    </tr>\n",
       "  </tbody>\n",
       "</table>\n",
       "<p>5 rows × 23 columns</p>\n",
       "</div>"
      ],
      "text/plain": [
       "   Unnamed: 0             hhid intmonth stfips     weight  earnwke  uhours  \\\n",
       "0           3    2600310997690  January     AL  3151.6801  1692.00      40   \n",
       "1           5   75680310997590  January     AL  3457.1138   450.00      40   \n",
       "2           6   75680310997590  January     AL  3936.9110  1090.00      60   \n",
       "3          10  179140131100930  January     AL  3288.3640   769.23      40   \n",
       "4          11  179140131100930  January     AL  3422.8500   826.92      40   \n",
       "\n",
       "   grade92  race  ethnic  ...  ownchild  chldpres            prcitshp  state  \\\n",
       "0       43     1     NaN  ...         0         0  Native, Born In US     63   \n",
       "1       41     2     NaN  ...         2         6  Native, Born In US     63   \n",
       "2       41     2     NaN  ...         2         6  Native, Born In US     63   \n",
       "3       40     1     NaN  ...         2         4  Native, Born In US     63   \n",
       "4       43     1     NaN  ...         2         4  Native, Born In US     63   \n",
       "\n",
       "                                               ind02 occ2012  \\\n",
       "0                         Employment services (5613)     630   \n",
       "1                     Outpatient care centers (6214)    5400   \n",
       "2  Motor vehicles and motor vehicle equipment man...    8140   \n",
       "3  **Publishing, except newspapers and software (...    8255   \n",
       "4  Banking and related activities (521, 52211,52219)    5940   \n",
       "\n",
       "                 class unionmme  unioncov            lfsr94  \n",
       "0  Private, For Profit       No        No  Employed-At Work  \n",
       "1  Private, For Profit       No        No   Employed-Absent  \n",
       "2  Private, For Profit       No        No  Employed-At Work  \n",
       "3  Private, For Profit      Yes       NaN  Employed-At Work  \n",
       "4  Private, For Profit       No        No  Employed-At Work  \n",
       "\n",
       "[5 rows x 23 columns]"
      ]
     },
     "execution_count": 13,
     "metadata": {},
     "output_type": "execute_result"
    }
   ],
   "source": [
    "emp_data.head()"
   ]
  },
  {
   "cell_type": "code",
   "execution_count": 15,
   "id": "593567c5-17dc-40ce-8a45-29882d11da4f",
   "metadata": {
    "tags": []
   },
   "outputs": [
    {
     "name": "stdout",
     "output_type": "stream",
     "text": [
      "<class 'pandas.core.frame.DataFrame'>\n",
      "RangeIndex: 149316 entries, 0 to 149315\n",
      "Data columns (total 23 columns):\n",
      " #   Column      Non-Null Count   Dtype  \n",
      "---  ------      --------------   -----  \n",
      " 0   Unnamed: 0  149316 non-null  int64  \n",
      " 1   hhid        149316 non-null  int64  \n",
      " 2   intmonth    149316 non-null  object \n",
      " 3   stfips      149316 non-null  object \n",
      " 4   weight      149316 non-null  float64\n",
      " 5   earnwke     149316 non-null  float64\n",
      " 6   uhours      149316 non-null  int64  \n",
      " 7   grade92     149316 non-null  int64  \n",
      " 8   race        149316 non-null  int64  \n",
      " 9   ethnic      20071 non-null   float64\n",
      " 10  age         149316 non-null  int64  \n",
      " 11  sex         149316 non-null  int64  \n",
      " 12  marital     149316 non-null  int64  \n",
      " 13  ownchild    149316 non-null  int64  \n",
      " 14  chldpres    149316 non-null  int64  \n",
      " 15  prcitshp    149316 non-null  object \n",
      " 16  state       149316 non-null  object \n",
      " 17  ind02       149316 non-null  object \n",
      " 18  occ2012     149316 non-null  int64  \n",
      " 19  class       149316 non-null  object \n",
      " 20  unionmme    149316 non-null  object \n",
      " 21  unioncov    132220 non-null  object \n",
      " 22  lfsr94      149316 non-null  object \n",
      "dtypes: float64(3), int64(11), object(9)\n",
      "memory usage: 26.2+ MB\n"
     ]
    }
   ],
   "source": [
    "emp_data.info()"
   ]
  },
  {
   "cell_type": "markdown",
   "id": "82d5b4bc-65e4-495f-bf7a-36ee6158d0cf",
   "metadata": {},
   "source": [
    "### 1.2 Cleaning the data"
   ]
  },
  {
   "cell_type": "code",
   "execution_count": 16,
   "id": "2381b780-aeba-4500-9eef-632dc3c5f187",
   "metadata": {
    "collapsed": true,
    "jupyter": {
     "outputs_hidden": true
    },
    "tags": []
   },
   "outputs": [
    {
     "data": {
      "text/plain": [
       "Unnamed: 0         0\n",
       "hhid               0\n",
       "intmonth           0\n",
       "stfips             0\n",
       "weight             0\n",
       "earnwke            0\n",
       "uhours             0\n",
       "grade92            0\n",
       "race               0\n",
       "ethnic        129245\n",
       "age                0\n",
       "sex                0\n",
       "marital            0\n",
       "ownchild           0\n",
       "chldpres           0\n",
       "prcitshp           0\n",
       "state              0\n",
       "ind02              0\n",
       "occ2012            0\n",
       "class              0\n",
       "unionmme           0\n",
       "unioncov       17096\n",
       "lfsr94             0\n",
       "dtype: int64"
      ]
     },
     "execution_count": 16,
     "metadata": {},
     "output_type": "execute_result"
    }
   ],
   "source": [
    "# Checking for missing values and getting an overview of the dataset\n",
    "missing_values_overview = emp_data.isnull().sum()\n",
    "\n",
    "# Printing out\n",
    "missing_values_overview"
   ]
  },
  {
   "cell_type": "code",
   "execution_count": 18,
   "id": "810e0f15-0b47-46cf-bf00-7685116667c0",
   "metadata": {
    "collapsed": true,
    "jupyter": {
     "outputs_hidden": true
    },
    "tags": []
   },
   "outputs": [
    {
     "name": "stdout",
     "output_type": "stream",
     "text": [
      "Number of null values: Unnamed: 0    0\n",
      "hhid          0\n",
      "intmonth      0\n",
      "stfips        0\n",
      "weight        0\n",
      "earnwke       0\n",
      "uhours        0\n",
      "grade92       0\n",
      "race          0\n",
      "ethnic        0\n",
      "age           0\n",
      "sex           0\n",
      "marital       0\n",
      "ownchild      0\n",
      "chldpres      0\n",
      "prcitshp      0\n",
      "state         0\n",
      "ind02         0\n",
      "occ2012       0\n",
      "class         0\n",
      "unionmme      0\n",
      "unioncov      0\n",
      "lfsr94        0\n",
      "dtype: int64\n"
     ]
    }
   ],
   "source": [
    "# Cleaning the data by removing rows with missing or infinite values\n",
    "emp_data = emp_data.replace(np.nan).dropna()\n",
    "\n",
    "# Check if there are any Null values left\n",
    "print('Number of null values:', emp_data.isnull().sum())"
   ]
  },
  {
   "cell_type": "markdown",
   "id": "f0062258-fa75-4f03-8471-e4dbb58c0677",
   "metadata": {},
   "source": [
    "### 1.3 Filtering for selected occupations"
   ]
  },
  {
   "cell_type": "code",
   "execution_count": 23,
   "id": "0bbf0426-dc8e-4b94-a01a-8a9cfa8c3c8b",
   "metadata": {
    "tags": []
   },
   "outputs": [
    {
     "data": {
      "text/plain": [
       "(3921, 23)"
      ]
     },
     "execution_count": 23,
     "metadata": {},
     "output_type": "execute_result"
    }
   ],
   "source": [
    "business_operations_specialists_codes = [\n",
    "    \"0500\", \"0510\", \"0520\", \"0530\", \"0540\", \"0565\", \"0600\", \"0630\", \"0640\", \n",
    "    \"0650\", \"0700\", \"0710\", \"0725\", \"0726\", \"0735\", \"0740\"\n",
    "]\n",
    "\n",
    "# Convert codes to the format used in the dataset\n",
    "business_operations_specialists_codes_formatted = [int(code) for code in business_operations_specialists_codes]\n",
    "\n",
    "# Filter the dataset to include only rows where the occupation code is one of the business operations specialists\n",
    "data_filtered_business = emp_data[emp_data['occ2012'].isin(business_operations_specialists_codes_formatted)]\n",
    "\n",
    "# Check the shape of the filtered data\n",
    "data_filtered_business.shape"
   ]
  },
  {
   "cell_type": "markdown",
   "id": "6f9db909-d252-416c-b21a-6bc55d02047a",
   "metadata": {},
   "source": [
    "## 2. Exploratory Data Analysis (EDA)"
   ]
  },
  {
   "cell_type": "markdown",
   "id": "ef646165-9ca1-4ec7-8224-f7f5bdc22287",
   "metadata": {},
   "source": [
    "### 2.1 Creating Target Variable"
   ]
  },
  {
   "cell_type": "code",
   "execution_count": 29,
   "id": "369c69be-3aa0-4fd2-9766-70d6cb9ad930",
   "metadata": {
    "tags": []
   },
   "outputs": [],
   "source": [
    "# Creating variable earnings_per_hour in a new column\n",
    "data_filtered_business['earnings_per_hour'] = data_filtered_business['earnwke'] / data_filtered_business['uhours']"
   ]
  },
  {
   "cell_type": "markdown",
   "id": "1b2dc9e6-a7fa-4cfa-9a26-1fdc30681674",
   "metadata": {},
   "source": [
    "### 2.2 Creating Dummy Variables"
   ]
  },
  {
   "cell_type": "code",
   "execution_count": 42,
   "id": "39dbfb2b-1b83-409f-a904-8e9999800ee2",
   "metadata": {
    "tags": []
   },
   "outputs": [
    {
     "data": {
      "text/plain": [
       "array(['Native, Born In US', 'Foreign Born, Not a US Citizen',\n",
       "       'Foreign Born, US Cit By Naturalization',\n",
       "       'Native, Born Abroad Of US Parent(s)',\n",
       "       'Native, Born in PR or US Outlying Area'], dtype=object)"
      ]
     },
     "execution_count": 42,
     "metadata": {},
     "output_type": "execute_result"
    }
   ],
   "source": [
    "data_filtered_business['prcitshp'].unique()"
   ]
  },
  {
   "cell_type": "code",
   "execution_count": 43,
   "id": "2f5083fe-e635-400c-850f-24f1a0d22a2e",
   "metadata": {
    "tags": []
   },
   "outputs": [],
   "source": [
    "# Generate variables for 'df'\n",
    "data_filtered_business['female'] = (data_filtered_business['sex'] == 2).astype(int)\n",
    "\n",
    "# Drop extreme values that are below 1 (hourly wages less than 1 USD per hour may be an error)\n",
    "data_filtered_business = data_filtered_business[data_filtered_business['earnings_per_hour'] >= 1]\n",
    "\n",
    "# Log of hourly wages\n",
    "data_filtered_business['ln_earnings_per_hour'] = np.log(data_filtered_business['earnings_per_hour'])\n",
    "\n",
    "# Different levels of education stored based on their codes\n",
    "\n",
    "data_filtered_business['BA_degree'] = (data_filtered_business['grade92'] == 43).astype(int)\n",
    "data_filtered_business['MA_degree'] = (data_filtered_business['grade92'] == 44).astype(int)\n",
    "data_filtered_business['Prof_degree'] = (data_filtered_business['grade92'] == 45).astype(int)\n",
    "data_filtered_business['PhD_degree'] = (data_filtered_business['grade92'] == 46).astype(int)\n",
    "\n",
    "# Employment Categories\n",
    "\n",
    "data_filtered_business['Employed-At_Work'] = (data_filtered_business['lfsr94'] == \"Employed-At Work\")\n",
    "data_filtered_business['Employed-Absent'] = (data_filtered_business['lfsr94'] == \"Employed-Absent\")\n",
    "\n",
    "# Class of Employer\n",
    "\n",
    "data_filtered_business['Private_For_Profit'] = (data_filtered_business['class'] == \"Private, For Profit\")\n",
    "data_filtered_business['Government_Federal'] = (data_filtered_business['class'] == \"Government - Federal\")\n",
    "data_filtered_business['Government_State'] = (data_filtered_business['class'] == \"Government - State\")\n",
    "data_filtered_business['Government_Local'] = (data_filtered_business['class'] == \"Government - Local\")\n",
    "data_filtered_business['Private_Nonprofit'] = (data_filtered_business['class'] == \"Private, Nonprofit\")\n",
    "\n",
    "# Type of Citizenship\n",
    "\n",
    "data_filtered_business['Native_Born_In_US'] = (data_filtered_business['prcitshp'] == \"Native, Born In US\")\n",
    "data_filtered_business['Foreign_Born_Not_US_Citizen'] = (data_filtered_business['prcitshp'] == \"Foreign Born, Not a US Citizen\")\n",
    "data_filtered_business['Foreign_Born_US_Citizen_By_Naturalization'] = (data_filtered_business['prcitshp'] == \"Foreign Born, US Cit By Naturalization\")\n",
    "data_filtered_business['Native_Born_Abroad_Of_US_Parents'] = (data_filtered_business['prcitshp'] == \"Native, Born Abroad Of US Parent(s)\")\n",
    "data_filtered_business['Native_Born_in_PR_or_US_Outlying'] = (data_filtered_business['prcitshp'] == \"Native, Born in PR or US Outlying Area\")\n",
    "\n"
   ]
  },
  {
   "cell_type": "markdown",
   "id": "24063957-90ff-4f53-a2cd-2397337fb123",
   "metadata": {},
   "source": [
    "### 2.3 Selecting variables to be used - Planning"
   ]
  },
  {
   "cell_type": "markdown",
   "id": "b90e2f49-efb9-4382-9ed8-ad37b94cd492",
   "metadata": {},
   "source": [
    "#### Planned Models:\n",
    "- Model 1:\n",
    "    - Target: *ln_earnings_per_hour*\n",
    "    - Explainatory: *female*\n",
    "- Model 2:\n",
    "    - Target: *ln_earnings_per_hour*\n",
    "    - Explainatory: *female, unionmme, MA_degree, Prof_degree, PhD_degree*\n",
    "- Model 3:\n",
    "    - Target: *ln_earnings_per_hour*\n",
    "    - Explainatory: *female, unionmme, MA_degree, Prof_degree, PhD_degree, age, ownchild*\n",
    "- Model 4:\n",
    "    - Target: *ln_earnings_per_hour*\n",
    "    - Explainatory: *female, unionmme, MA_degree, Prof_degree, PhD_degree, age, ownchild, Private_For_Profit, Government_Federal, Government_State, Government_Local, Native_Born_In_US, Foreign_Born_Not_US_Citizen, Foreign_Born_US_Citizen_By_Naturalization, Native_Born_Abroad_Of_US_Parents*"
   ]
  },
  {
   "cell_type": "markdown",
   "id": "f1a9e92a-6795-4e28-bbea-d968a84121b6",
   "metadata": {},
   "source": [
    "### 2.5 Graphs"
   ]
  },
  {
   "cell_type": "markdown",
   "id": "1c23184f-62a1-41cf-a727-cd4ed4ea0a7d",
   "metadata": {},
   "source": [
    "## 3. Model Building"
   ]
  },
  {
   "cell_type": "markdown",
   "id": "56667327-cb76-4b07-b5f3-aa85b618ef57",
   "metadata": {
    "tags": []
   },
   "source": [
    "### 3.1 Model 1 - Gender"
   ]
  },
  {
   "cell_type": "code",
   "execution_count": 45,
   "id": "337d9405-9a3d-449a-893e-a5b9975baf46",
   "metadata": {
    "collapsed": true,
    "jupyter": {
     "outputs_hidden": true
    },
    "tags": []
   },
   "outputs": [
    {
     "data": {
      "text/html": [
       "<table class=\"simpletable\">\n",
       "<caption>OLS Regression Results</caption>\n",
       "<tr>\n",
       "  <th>Dep. Variable:</th>    <td>ln_earnings_per_hour</td> <th>  R-squared:         </th> <td>   0.027</td>\n",
       "</tr>\n",
       "<tr>\n",
       "  <th>Model:</th>                     <td>OLS</td>         <th>  Adj. R-squared:    </th> <td>   0.026</td>\n",
       "</tr>\n",
       "<tr>\n",
       "  <th>Method:</th>               <td>Least Squares</td>    <th>  F-statistic:       </th> <td>   105.4</td>\n",
       "</tr>\n",
       "<tr>\n",
       "  <th>Date:</th>               <td>Sat, 20 Jan 2024</td>   <th>  Prob (F-statistic):</th> <td>2.03e-24</td>\n",
       "</tr>\n",
       "<tr>\n",
       "  <th>Time:</th>                   <td>13:45:21</td>       <th>  Log-Likelihood:    </th> <td> -2984.3</td>\n",
       "</tr>\n",
       "<tr>\n",
       "  <th>No. Observations:</th>        <td>  3917</td>        <th>  AIC:               </th> <td>   5973.</td>\n",
       "</tr>\n",
       "<tr>\n",
       "  <th>Df Residuals:</th>            <td>  3915</td>        <th>  BIC:               </th> <td>   5985.</td>\n",
       "</tr>\n",
       "<tr>\n",
       "  <th>Df Model:</th>                <td>     1</td>        <th>                     </th>     <td> </td>   \n",
       "</tr>\n",
       "<tr>\n",
       "  <th>Covariance Type:</th>           <td>HC0</td>         <th>                     </th>     <td> </td>   \n",
       "</tr>\n",
       "</table>\n",
       "<table class=\"simpletable\">\n",
       "<tr>\n",
       "      <td></td>         <th>coef</th>     <th>std err</th>      <th>z</th>      <th>P>|z|</th>  <th>[0.025</th>    <th>0.975]</th>  \n",
       "</tr>\n",
       "<tr>\n",
       "  <th>Intercept</th> <td>    3.3303</td> <td>    0.013</td> <td>  251.200</td> <td> 0.000</td> <td>    3.304</td> <td>    3.356</td>\n",
       "</tr>\n",
       "<tr>\n",
       "  <th>female</th>    <td>   -0.1741</td> <td>    0.017</td> <td>  -10.267</td> <td> 0.000</td> <td>   -0.207</td> <td>   -0.141</td>\n",
       "</tr>\n",
       "</table>\n",
       "<table class=\"simpletable\">\n",
       "<tr>\n",
       "  <th>Omnibus:</th>       <td>171.541</td> <th>  Durbin-Watson:     </th> <td>   1.928</td>\n",
       "</tr>\n",
       "<tr>\n",
       "  <th>Prob(Omnibus):</th> <td> 0.000</td>  <th>  Jarque-Bera (JB):  </th> <td> 331.204</td>\n",
       "</tr>\n",
       "<tr>\n",
       "  <th>Skew:</th>          <td>-0.323</td>  <th>  Prob(JB):          </th> <td>1.20e-72</td>\n",
       "</tr>\n",
       "<tr>\n",
       "  <th>Kurtosis:</th>      <td> 4.270</td>  <th>  Cond. No.          </th> <td>    2.86</td>\n",
       "</tr>\n",
       "</table><br/><br/>Notes:<br/>[1] Standard Errors are heteroscedasticity robust (HC0)"
      ],
      "text/latex": [
       "\\begin{center}\n",
       "\\begin{tabular}{lclc}\n",
       "\\toprule\n",
       "\\textbf{Dep. Variable:}    & ln\\_earnings\\_per\\_hour & \\textbf{  R-squared:         } &     0.027   \\\\\n",
       "\\textbf{Model:}            &           OLS           & \\textbf{  Adj. R-squared:    } &     0.026   \\\\\n",
       "\\textbf{Method:}           &      Least Squares      & \\textbf{  F-statistic:       } &     105.4   \\\\\n",
       "\\textbf{Date:}             &     Sat, 20 Jan 2024    & \\textbf{  Prob (F-statistic):} &  2.03e-24   \\\\\n",
       "\\textbf{Time:}             &         13:45:21        & \\textbf{  Log-Likelihood:    } &   -2984.3   \\\\\n",
       "\\textbf{No. Observations:} &            3917         & \\textbf{  AIC:               } &     5973.   \\\\\n",
       "\\textbf{Df Residuals:}     &            3915         & \\textbf{  BIC:               } &     5985.   \\\\\n",
       "\\textbf{Df Model:}         &               1         & \\textbf{                     } &             \\\\\n",
       "\\textbf{Covariance Type:}  &           HC0           & \\textbf{                     } &             \\\\\n",
       "\\bottomrule\n",
       "\\end{tabular}\n",
       "\\begin{tabular}{lcccccc}\n",
       "                   & \\textbf{coef} & \\textbf{std err} & \\textbf{z} & \\textbf{P$> |$z$|$} & \\textbf{[0.025} & \\textbf{0.975]}  \\\\\n",
       "\\midrule\n",
       "\\textbf{Intercept} &       3.3303  &        0.013     &   251.200  &         0.000        &        3.304    &        3.356     \\\\\n",
       "\\textbf{female}    &      -0.1741  &        0.017     &   -10.267  &         0.000        &       -0.207    &       -0.141     \\\\\n",
       "\\bottomrule\n",
       "\\end{tabular}\n",
       "\\begin{tabular}{lclc}\n",
       "\\textbf{Omnibus:}       & 171.541 & \\textbf{  Durbin-Watson:     } &    1.928  \\\\\n",
       "\\textbf{Prob(Omnibus):} &   0.000 & \\textbf{  Jarque-Bera (JB):  } &  331.204  \\\\\n",
       "\\textbf{Skew:}          &  -0.323 & \\textbf{  Prob(JB):          } & 1.20e-72  \\\\\n",
       "\\textbf{Kurtosis:}      &   4.270 & \\textbf{  Cond. No.          } &     2.86  \\\\\n",
       "\\bottomrule\n",
       "\\end{tabular}\n",
       "%\\caption{OLS Regression Results}\n",
       "\\end{center}\n",
       "\n",
       "Notes: \\newline\n",
       " [1] Standard Errors are heteroscedasticity robust (HC0)"
      ],
      "text/plain": [
       "<class 'statsmodels.iolib.summary.Summary'>\n",
       "\"\"\"\n",
       "                             OLS Regression Results                             \n",
       "================================================================================\n",
       "Dep. Variable:     ln_earnings_per_hour   R-squared:                       0.027\n",
       "Model:                              OLS   Adj. R-squared:                  0.026\n",
       "Method:                   Least Squares   F-statistic:                     105.4\n",
       "Date:                  Sat, 20 Jan 2024   Prob (F-statistic):           2.03e-24\n",
       "Time:                          13:45:21   Log-Likelihood:                -2984.3\n",
       "No. Observations:                  3917   AIC:                             5973.\n",
       "Df Residuals:                      3915   BIC:                             5985.\n",
       "Df Model:                             1                                         \n",
       "Covariance Type:                    HC0                                         \n",
       "==============================================================================\n",
       "                 coef    std err          z      P>|z|      [0.025      0.975]\n",
       "------------------------------------------------------------------------------\n",
       "Intercept      3.3303      0.013    251.200      0.000       3.304       3.356\n",
       "female        -0.1741      0.017    -10.267      0.000      -0.207      -0.141\n",
       "==============================================================================\n",
       "Omnibus:                      171.541   Durbin-Watson:                   1.928\n",
       "Prob(Omnibus):                  0.000   Jarque-Bera (JB):              331.204\n",
       "Skew:                          -0.323   Prob(JB):                     1.20e-72\n",
       "Kurtosis:                       4.270   Cond. No.                         2.86\n",
       "==============================================================================\n",
       "\n",
       "Notes:\n",
       "[1] Standard Errors are heteroscedasticity robust (HC0)\n",
       "\"\"\""
      ]
     },
     "execution_count": 45,
     "metadata": {},
     "output_type": "execute_result"
    }
   ],
   "source": [
    "# Model 1: hourly wage gap for women in edu_trai_lib\n",
    "model1 = smf.ols(formula=\"ln_earnings_per_hour ~ female\", data=data_filtered_business).fit(cov_type=\"HC0\")\n",
    "model1.summary()"
   ]
  },
  {
   "cell_type": "markdown",
   "id": "d3a87d4d-8226-49a9-af93-b381134d244d",
   "metadata": {},
   "source": [
    "### 3.2 Model 2 - Gender, Union Membership, Education Level"
   ]
  },
  {
   "cell_type": "code",
   "execution_count": 46,
   "id": "77380950-e205-4d24-9be8-17b974f863c8",
   "metadata": {
    "collapsed": true,
    "jupyter": {
     "outputs_hidden": true
    },
    "tags": []
   },
   "outputs": [
    {
     "data": {
      "text/html": [
       "<table class=\"simpletable\">\n",
       "<caption>OLS Regression Results</caption>\n",
       "<tr>\n",
       "  <th>Dep. Variable:</th>    <td>ln_earnings_per_hour</td> <th>  R-squared:         </th> <td>   0.085</td>\n",
       "</tr>\n",
       "<tr>\n",
       "  <th>Model:</th>                     <td>OLS</td>         <th>  Adj. R-squared:    </th> <td>   0.084</td>\n",
       "</tr>\n",
       "<tr>\n",
       "  <th>Method:</th>               <td>Least Squares</td>    <th>  F-statistic:       </th> <td>   82.35</td>\n",
       "</tr>\n",
       "<tr>\n",
       "  <th>Date:</th>               <td>Sat, 20 Jan 2024</td>   <th>  Prob (F-statistic):</th> <td>1.89e-82</td>\n",
       "</tr>\n",
       "<tr>\n",
       "  <th>Time:</th>                   <td>13:45:26</td>       <th>  Log-Likelihood:    </th> <td> -2863.9</td>\n",
       "</tr>\n",
       "<tr>\n",
       "  <th>No. Observations:</th>        <td>  3917</td>        <th>  AIC:               </th> <td>   5740.</td>\n",
       "</tr>\n",
       "<tr>\n",
       "  <th>Df Residuals:</th>            <td>  3911</td>        <th>  BIC:               </th> <td>   5777.</td>\n",
       "</tr>\n",
       "<tr>\n",
       "  <th>Df Model:</th>                <td>     5</td>        <th>                     </th>     <td> </td>   \n",
       "</tr>\n",
       "<tr>\n",
       "  <th>Covariance Type:</th>           <td>HC0</td>         <th>                     </th>     <td> </td>   \n",
       "</tr>\n",
       "</table>\n",
       "<table class=\"simpletable\">\n",
       "<tr>\n",
       "         <td></td>            <th>coef</th>     <th>std err</th>      <th>z</th>      <th>P>|z|</th>  <th>[0.025</th>    <th>0.975]</th>  \n",
       "</tr>\n",
       "<tr>\n",
       "  <th>Intercept</th>       <td>    3.2613</td> <td>    0.014</td> <td>  233.964</td> <td> 0.000</td> <td>    3.234</td> <td>    3.289</td>\n",
       "</tr>\n",
       "<tr>\n",
       "  <th>unionmme[T.Yes]</th> <td>    0.0435</td> <td>    0.031</td> <td>    1.423</td> <td> 0.155</td> <td>   -0.016</td> <td>    0.103</td>\n",
       "</tr>\n",
       "<tr>\n",
       "  <th>female</th>          <td>   -0.1598</td> <td>    0.016</td> <td>   -9.687</td> <td> 0.000</td> <td>   -0.192</td> <td>   -0.127</td>\n",
       "</tr>\n",
       "<tr>\n",
       "  <th>MA_degree</th>       <td>    0.3055</td> <td>    0.021</td> <td>   14.725</td> <td> 0.000</td> <td>    0.265</td> <td>    0.346</td>\n",
       "</tr>\n",
       "<tr>\n",
       "  <th>Prof_degree</th>     <td>    0.3497</td> <td>    0.061</td> <td>    5.770</td> <td> 0.000</td> <td>    0.231</td> <td>    0.469</td>\n",
       "</tr>\n",
       "<tr>\n",
       "  <th>PhD_degree</th>      <td>    0.5217</td> <td>    0.066</td> <td>    7.958</td> <td> 0.000</td> <td>    0.393</td> <td>    0.650</td>\n",
       "</tr>\n",
       "</table>\n",
       "<table class=\"simpletable\">\n",
       "<tr>\n",
       "  <th>Omnibus:</th>       <td>205.160</td> <th>  Durbin-Watson:     </th> <td>   1.953</td> \n",
       "</tr>\n",
       "<tr>\n",
       "  <th>Prob(Omnibus):</th> <td> 0.000</td>  <th>  Jarque-Bera (JB):  </th> <td> 486.822</td> \n",
       "</tr>\n",
       "<tr>\n",
       "  <th>Skew:</th>          <td>-0.315</td>  <th>  Prob(JB):          </th> <td>1.94e-106</td>\n",
       "</tr>\n",
       "<tr>\n",
       "  <th>Kurtosis:</th>      <td> 4.608</td>  <th>  Cond. No.          </th> <td>    11.3</td> \n",
       "</tr>\n",
       "</table><br/><br/>Notes:<br/>[1] Standard Errors are heteroscedasticity robust (HC0)"
      ],
      "text/latex": [
       "\\begin{center}\n",
       "\\begin{tabular}{lclc}\n",
       "\\toprule\n",
       "\\textbf{Dep. Variable:}    & ln\\_earnings\\_per\\_hour & \\textbf{  R-squared:         } &     0.085   \\\\\n",
       "\\textbf{Model:}            &           OLS           & \\textbf{  Adj. R-squared:    } &     0.084   \\\\\n",
       "\\textbf{Method:}           &      Least Squares      & \\textbf{  F-statistic:       } &     82.35   \\\\\n",
       "\\textbf{Date:}             &     Sat, 20 Jan 2024    & \\textbf{  Prob (F-statistic):} &  1.89e-82   \\\\\n",
       "\\textbf{Time:}             &         13:45:26        & \\textbf{  Log-Likelihood:    } &   -2863.9   \\\\\n",
       "\\textbf{No. Observations:} &            3917         & \\textbf{  AIC:               } &     5740.   \\\\\n",
       "\\textbf{Df Residuals:}     &            3911         & \\textbf{  BIC:               } &     5777.   \\\\\n",
       "\\textbf{Df Model:}         &               5         & \\textbf{                     } &             \\\\\n",
       "\\textbf{Covariance Type:}  &           HC0           & \\textbf{                     } &             \\\\\n",
       "\\bottomrule\n",
       "\\end{tabular}\n",
       "\\begin{tabular}{lcccccc}\n",
       "                         & \\textbf{coef} & \\textbf{std err} & \\textbf{z} & \\textbf{P$> |$z$|$} & \\textbf{[0.025} & \\textbf{0.975]}  \\\\\n",
       "\\midrule\n",
       "\\textbf{Intercept}       &       3.2613  &        0.014     &   233.964  &         0.000        &        3.234    &        3.289     \\\\\n",
       "\\textbf{unionmme[T.Yes]} &       0.0435  &        0.031     &     1.423  &         0.155        &       -0.016    &        0.103     \\\\\n",
       "\\textbf{female}          &      -0.1598  &        0.016     &    -9.687  &         0.000        &       -0.192    &       -0.127     \\\\\n",
       "\\textbf{MA\\_degree}      &       0.3055  &        0.021     &    14.725  &         0.000        &        0.265    &        0.346     \\\\\n",
       "\\textbf{Prof\\_degree}    &       0.3497  &        0.061     &     5.770  &         0.000        &        0.231    &        0.469     \\\\\n",
       "\\textbf{PhD\\_degree}     &       0.5217  &        0.066     &     7.958  &         0.000        &        0.393    &        0.650     \\\\\n",
       "\\bottomrule\n",
       "\\end{tabular}\n",
       "\\begin{tabular}{lclc}\n",
       "\\textbf{Omnibus:}       & 205.160 & \\textbf{  Durbin-Watson:     } &     1.953  \\\\\n",
       "\\textbf{Prob(Omnibus):} &   0.000 & \\textbf{  Jarque-Bera (JB):  } &   486.822  \\\\\n",
       "\\textbf{Skew:}          &  -0.315 & \\textbf{  Prob(JB):          } & 1.94e-106  \\\\\n",
       "\\textbf{Kurtosis:}      &   4.608 & \\textbf{  Cond. No.          } &      11.3  \\\\\n",
       "\\bottomrule\n",
       "\\end{tabular}\n",
       "%\\caption{OLS Regression Results}\n",
       "\\end{center}\n",
       "\n",
       "Notes: \\newline\n",
       " [1] Standard Errors are heteroscedasticity robust (HC0)"
      ],
      "text/plain": [
       "<class 'statsmodels.iolib.summary.Summary'>\n",
       "\"\"\"\n",
       "                             OLS Regression Results                             \n",
       "================================================================================\n",
       "Dep. Variable:     ln_earnings_per_hour   R-squared:                       0.085\n",
       "Model:                              OLS   Adj. R-squared:                  0.084\n",
       "Method:                   Least Squares   F-statistic:                     82.35\n",
       "Date:                  Sat, 20 Jan 2024   Prob (F-statistic):           1.89e-82\n",
       "Time:                          13:45:26   Log-Likelihood:                -2863.9\n",
       "No. Observations:                  3917   AIC:                             5740.\n",
       "Df Residuals:                      3911   BIC:                             5777.\n",
       "Df Model:                             5                                         \n",
       "Covariance Type:                    HC0                                         \n",
       "===================================================================================\n",
       "                      coef    std err          z      P>|z|      [0.025      0.975]\n",
       "-----------------------------------------------------------------------------------\n",
       "Intercept           3.2613      0.014    233.964      0.000       3.234       3.289\n",
       "unionmme[T.Yes]     0.0435      0.031      1.423      0.155      -0.016       0.103\n",
       "female             -0.1598      0.016     -9.687      0.000      -0.192      -0.127\n",
       "MA_degree           0.3055      0.021     14.725      0.000       0.265       0.346\n",
       "Prof_degree         0.3497      0.061      5.770      0.000       0.231       0.469\n",
       "PhD_degree          0.5217      0.066      7.958      0.000       0.393       0.650\n",
       "==============================================================================\n",
       "Omnibus:                      205.160   Durbin-Watson:                   1.953\n",
       "Prob(Omnibus):                  0.000   Jarque-Bera (JB):              486.822\n",
       "Skew:                          -0.315   Prob(JB):                    1.94e-106\n",
       "Kurtosis:                       4.608   Cond. No.                         11.3\n",
       "==============================================================================\n",
       "\n",
       "Notes:\n",
       "[1] Standard Errors are heteroscedasticity robust (HC0)\n",
       "\"\"\""
      ]
     },
     "execution_count": 46,
     "metadata": {},
     "output_type": "execute_result"
    }
   ],
   "source": [
    "# Model 2: Hourly wage gap for women in edu_trai_lib who are union members\n",
    "model2 = smf.ols(formula=\"ln_earnings_per_hour ~ female + unionmme + MA_degree + Prof_degree + PhD_degree\", data=data_filtered_business).fit(cov_type=\"HC0\")\n",
    "model2.summary()"
   ]
  },
  {
   "cell_type": "markdown",
   "id": "2e1a2d88-8e7e-4447-9bcf-f2f8fcdd5de0",
   "metadata": {},
   "source": [
    "### 3.3 Model 3 - Gender, Age, Number of Childeren, Union Membership, Education Level"
   ]
  },
  {
   "cell_type": "code",
   "execution_count": 47,
   "id": "1e255697-08fd-45c9-9f44-c5216be72eba",
   "metadata": {
    "collapsed": true,
    "jupyter": {
     "outputs_hidden": true
    },
    "tags": []
   },
   "outputs": [
    {
     "data": {
      "text/html": [
       "<table class=\"simpletable\">\n",
       "<caption>OLS Regression Results</caption>\n",
       "<tr>\n",
       "  <th>Dep. Variable:</th>    <td>ln_earnings_per_hour</td> <th>  R-squared:         </th> <td>   0.155</td> \n",
       "</tr>\n",
       "<tr>\n",
       "  <th>Model:</th>                     <td>OLS</td>         <th>  Adj. R-squared:    </th> <td>   0.153</td> \n",
       "</tr>\n",
       "<tr>\n",
       "  <th>Method:</th>               <td>Least Squares</td>    <th>  F-statistic:       </th> <td>   103.7</td> \n",
       "</tr>\n",
       "<tr>\n",
       "  <th>Date:</th>               <td>Sat, 20 Jan 2024</td>   <th>  Prob (F-statistic):</th> <td>1.44e-139</td>\n",
       "</tr>\n",
       "<tr>\n",
       "  <th>Time:</th>                   <td>13:45:32</td>       <th>  Log-Likelihood:    </th> <td> -2708.1</td> \n",
       "</tr>\n",
       "<tr>\n",
       "  <th>No. Observations:</th>        <td>  3917</td>        <th>  AIC:               </th> <td>   5432.</td> \n",
       "</tr>\n",
       "<tr>\n",
       "  <th>Df Residuals:</th>            <td>  3909</td>        <th>  BIC:               </th> <td>   5482.</td> \n",
       "</tr>\n",
       "<tr>\n",
       "  <th>Df Model:</th>                <td>     7</td>        <th>                     </th>     <td> </td>    \n",
       "</tr>\n",
       "<tr>\n",
       "  <th>Covariance Type:</th>           <td>HC0</td>         <th>                     </th>     <td> </td>    \n",
       "</tr>\n",
       "</table>\n",
       "<table class=\"simpletable\">\n",
       "<tr>\n",
       "         <td></td>            <th>coef</th>     <th>std err</th>      <th>z</th>      <th>P>|z|</th>  <th>[0.025</th>    <th>0.975]</th>  \n",
       "</tr>\n",
       "<tr>\n",
       "  <th>Intercept</th>       <td>    2.7639</td> <td>    0.032</td> <td>   86.630</td> <td> 0.000</td> <td>    2.701</td> <td>    2.826</td>\n",
       "</tr>\n",
       "<tr>\n",
       "  <th>unionmme[T.Yes]</th> <td>   -0.0002</td> <td>    0.030</td> <td>   -0.007</td> <td> 0.994</td> <td>   -0.059</td> <td>    0.059</td>\n",
       "</tr>\n",
       "<tr>\n",
       "  <th>female</th>          <td>   -0.1550</td> <td>    0.016</td> <td>   -9.801</td> <td> 0.000</td> <td>   -0.186</td> <td>   -0.124</td>\n",
       "</tr>\n",
       "<tr>\n",
       "  <th>MA_degree</th>       <td>    0.2944</td> <td>    0.020</td> <td>   14.545</td> <td> 0.000</td> <td>    0.255</td> <td>    0.334</td>\n",
       "</tr>\n",
       "<tr>\n",
       "  <th>Prof_degree</th>     <td>    0.3235</td> <td>    0.060</td> <td>    5.349</td> <td> 0.000</td> <td>    0.205</td> <td>    0.442</td>\n",
       "</tr>\n",
       "<tr>\n",
       "  <th>PhD_degree</th>      <td>    0.4554</td> <td>    0.066</td> <td>    6.900</td> <td> 0.000</td> <td>    0.326</td> <td>    0.585</td>\n",
       "</tr>\n",
       "<tr>\n",
       "  <th>age</th>             <td>    0.0114</td> <td>    0.001</td> <td>   16.609</td> <td> 0.000</td> <td>    0.010</td> <td>    0.013</td>\n",
       "</tr>\n",
       "<tr>\n",
       "  <th>ownchild</th>        <td>    0.0454</td> <td>    0.008</td> <td>    5.696</td> <td> 0.000</td> <td>    0.030</td> <td>    0.061</td>\n",
       "</tr>\n",
       "</table>\n",
       "<table class=\"simpletable\">\n",
       "<tr>\n",
       "  <th>Omnibus:</th>       <td>242.519</td> <th>  Durbin-Watson:     </th> <td>   1.907</td> \n",
       "</tr>\n",
       "<tr>\n",
       "  <th>Prob(Omnibus):</th> <td> 0.000</td>  <th>  Jarque-Bera (JB):  </th> <td> 626.878</td> \n",
       "</tr>\n",
       "<tr>\n",
       "  <th>Skew:</th>          <td>-0.350</td>  <th>  Prob(JB):          </th> <td>7.50e-137</td>\n",
       "</tr>\n",
       "<tr>\n",
       "  <th>Kurtosis:</th>      <td> 4.831</td>  <th>  Cond. No.          </th> <td>    407.</td> \n",
       "</tr>\n",
       "</table><br/><br/>Notes:<br/>[1] Standard Errors are heteroscedasticity robust (HC0)"
      ],
      "text/latex": [
       "\\begin{center}\n",
       "\\begin{tabular}{lclc}\n",
       "\\toprule\n",
       "\\textbf{Dep. Variable:}    & ln\\_earnings\\_per\\_hour & \\textbf{  R-squared:         } &     0.155   \\\\\n",
       "\\textbf{Model:}            &           OLS           & \\textbf{  Adj. R-squared:    } &     0.153   \\\\\n",
       "\\textbf{Method:}           &      Least Squares      & \\textbf{  F-statistic:       } &     103.7   \\\\\n",
       "\\textbf{Date:}             &     Sat, 20 Jan 2024    & \\textbf{  Prob (F-statistic):} & 1.44e-139   \\\\\n",
       "\\textbf{Time:}             &         13:45:32        & \\textbf{  Log-Likelihood:    } &   -2708.1   \\\\\n",
       "\\textbf{No. Observations:} &            3917         & \\textbf{  AIC:               } &     5432.   \\\\\n",
       "\\textbf{Df Residuals:}     &            3909         & \\textbf{  BIC:               } &     5482.   \\\\\n",
       "\\textbf{Df Model:}         &               7         & \\textbf{                     } &             \\\\\n",
       "\\textbf{Covariance Type:}  &           HC0           & \\textbf{                     } &             \\\\\n",
       "\\bottomrule\n",
       "\\end{tabular}\n",
       "\\begin{tabular}{lcccccc}\n",
       "                         & \\textbf{coef} & \\textbf{std err} & \\textbf{z} & \\textbf{P$> |$z$|$} & \\textbf{[0.025} & \\textbf{0.975]}  \\\\\n",
       "\\midrule\n",
       "\\textbf{Intercept}       &       2.7639  &        0.032     &    86.630  &         0.000        &        2.701    &        2.826     \\\\\n",
       "\\textbf{unionmme[T.Yes]} &      -0.0002  &        0.030     &    -0.007  &         0.994        &       -0.059    &        0.059     \\\\\n",
       "\\textbf{female}          &      -0.1550  &        0.016     &    -9.801  &         0.000        &       -0.186    &       -0.124     \\\\\n",
       "\\textbf{MA\\_degree}      &       0.2944  &        0.020     &    14.545  &         0.000        &        0.255    &        0.334     \\\\\n",
       "\\textbf{Prof\\_degree}    &       0.3235  &        0.060     &     5.349  &         0.000        &        0.205    &        0.442     \\\\\n",
       "\\textbf{PhD\\_degree}     &       0.4554  &        0.066     &     6.900  &         0.000        &        0.326    &        0.585     \\\\\n",
       "\\textbf{age}             &       0.0114  &        0.001     &    16.609  &         0.000        &        0.010    &        0.013     \\\\\n",
       "\\textbf{ownchild}        &       0.0454  &        0.008     &     5.696  &         0.000        &        0.030    &        0.061     \\\\\n",
       "\\bottomrule\n",
       "\\end{tabular}\n",
       "\\begin{tabular}{lclc}\n",
       "\\textbf{Omnibus:}       & 242.519 & \\textbf{  Durbin-Watson:     } &     1.907  \\\\\n",
       "\\textbf{Prob(Omnibus):} &   0.000 & \\textbf{  Jarque-Bera (JB):  } &   626.878  \\\\\n",
       "\\textbf{Skew:}          &  -0.350 & \\textbf{  Prob(JB):          } & 7.50e-137  \\\\\n",
       "\\textbf{Kurtosis:}      &   4.831 & \\textbf{  Cond. No.          } &      407.  \\\\\n",
       "\\bottomrule\n",
       "\\end{tabular}\n",
       "%\\caption{OLS Regression Results}\n",
       "\\end{center}\n",
       "\n",
       "Notes: \\newline\n",
       " [1] Standard Errors are heteroscedasticity robust (HC0)"
      ],
      "text/plain": [
       "<class 'statsmodels.iolib.summary.Summary'>\n",
       "\"\"\"\n",
       "                             OLS Regression Results                             \n",
       "================================================================================\n",
       "Dep. Variable:     ln_earnings_per_hour   R-squared:                       0.155\n",
       "Model:                              OLS   Adj. R-squared:                  0.153\n",
       "Method:                   Least Squares   F-statistic:                     103.7\n",
       "Date:                  Sat, 20 Jan 2024   Prob (F-statistic):          1.44e-139\n",
       "Time:                          13:45:32   Log-Likelihood:                -2708.1\n",
       "No. Observations:                  3917   AIC:                             5432.\n",
       "Df Residuals:                      3909   BIC:                             5482.\n",
       "Df Model:                             7                                         \n",
       "Covariance Type:                    HC0                                         \n",
       "===================================================================================\n",
       "                      coef    std err          z      P>|z|      [0.025      0.975]\n",
       "-----------------------------------------------------------------------------------\n",
       "Intercept           2.7639      0.032     86.630      0.000       2.701       2.826\n",
       "unionmme[T.Yes]    -0.0002      0.030     -0.007      0.994      -0.059       0.059\n",
       "female             -0.1550      0.016     -9.801      0.000      -0.186      -0.124\n",
       "MA_degree           0.2944      0.020     14.545      0.000       0.255       0.334\n",
       "Prof_degree         0.3235      0.060      5.349      0.000       0.205       0.442\n",
       "PhD_degree          0.4554      0.066      6.900      0.000       0.326       0.585\n",
       "age                 0.0114      0.001     16.609      0.000       0.010       0.013\n",
       "ownchild            0.0454      0.008      5.696      0.000       0.030       0.061\n",
       "==============================================================================\n",
       "Omnibus:                      242.519   Durbin-Watson:                   1.907\n",
       "Prob(Omnibus):                  0.000   Jarque-Bera (JB):              626.878\n",
       "Skew:                          -0.350   Prob(JB):                    7.50e-137\n",
       "Kurtosis:                       4.831   Cond. No.                         407.\n",
       "==============================================================================\n",
       "\n",
       "Notes:\n",
       "[1] Standard Errors are heteroscedasticity robust (HC0)\n",
       "\"\"\""
      ]
     },
     "execution_count": 47,
     "metadata": {},
     "output_type": "execute_result"
    }
   ],
   "source": [
    "# Model 3: Hourly wage gap for edu_trai_lib subset including unionship and education levels\n",
    "model3 = smf.ols(formula=\"ln_earnings_per_hour ~ female + unionmme + MA_degree + Prof_degree + PhD_degree + age + ownchild\", data=data_filtered_business).fit(cov_type=\"HC0\")\n",
    "model3.summary()"
   ]
  },
  {
   "cell_type": "markdown",
   "id": "f0a3360b-4f4b-4a18-8028-eed6c43dbcb7",
   "metadata": {},
   "source": [
    "### 3.4 Model 4"
   ]
  },
  {
   "cell_type": "code",
   "execution_count": 48,
   "id": "f584078c-2388-4720-9a0c-f62bcb94595a",
   "metadata": {
    "collapsed": true,
    "jupyter": {
     "outputs_hidden": true
    },
    "tags": []
   },
   "outputs": [
    {
     "data": {
      "text/html": [
       "<table class=\"simpletable\">\n",
       "<caption>OLS Regression Results</caption>\n",
       "<tr>\n",
       "  <th>Dep. Variable:</th>    <td>ln_earnings_per_hour</td> <th>  R-squared:         </th> <td>   0.168</td> \n",
       "</tr>\n",
       "<tr>\n",
       "  <th>Model:</th>                     <td>OLS</td>         <th>  Adj. R-squared:    </th> <td>   0.164</td> \n",
       "</tr>\n",
       "<tr>\n",
       "  <th>Method:</th>               <td>Least Squares</td>    <th>  F-statistic:       </th> <td>   55.84</td> \n",
       "</tr>\n",
       "<tr>\n",
       "  <th>Date:</th>               <td>Sat, 20 Jan 2024</td>   <th>  Prob (F-statistic):</th> <td>2.88e-152</td>\n",
       "</tr>\n",
       "<tr>\n",
       "  <th>Time:</th>                   <td>13:45:37</td>       <th>  Log-Likelihood:    </th> <td> -2678.2</td> \n",
       "</tr>\n",
       "<tr>\n",
       "  <th>No. Observations:</th>        <td>  3917</td>        <th>  AIC:               </th> <td>   5388.</td> \n",
       "</tr>\n",
       "<tr>\n",
       "  <th>Df Residuals:</th>            <td>  3901</td>        <th>  BIC:               </th> <td>   5489.</td> \n",
       "</tr>\n",
       "<tr>\n",
       "  <th>Df Model:</th>                <td>    15</td>        <th>                     </th>     <td> </td>    \n",
       "</tr>\n",
       "<tr>\n",
       "  <th>Covariance Type:</th>           <td>HC0</td>         <th>                     </th>     <td> </td>    \n",
       "</tr>\n",
       "</table>\n",
       "<table class=\"simpletable\">\n",
       "<tr>\n",
       "                          <td></td>                             <th>coef</th>     <th>std err</th>      <th>z</th>      <th>P>|z|</th>  <th>[0.025</th>    <th>0.975]</th>  \n",
       "</tr>\n",
       "<tr>\n",
       "  <th>Intercept</th>                                         <td>    2.6710</td> <td>    0.149</td> <td>   17.985</td> <td> 0.000</td> <td>    2.380</td> <td>    2.962</td>\n",
       "</tr>\n",
       "<tr>\n",
       "  <th>unionmme[T.Yes]</th>                                   <td>    0.0352</td> <td>    0.032</td> <td>    1.101</td> <td> 0.271</td> <td>   -0.027</td> <td>    0.098</td>\n",
       "</tr>\n",
       "<tr>\n",
       "  <th>Private_For_Profit[T.True]</th>                        <td>    0.0718</td> <td>    0.027</td> <td>    2.626</td> <td> 0.009</td> <td>    0.018</td> <td>    0.125</td>\n",
       "</tr>\n",
       "<tr>\n",
       "  <th>Government_Federal[T.True]</th>                        <td>    0.1941</td> <td>    0.037</td> <td>    5.194</td> <td> 0.000</td> <td>    0.121</td> <td>    0.267</td>\n",
       "</tr>\n",
       "<tr>\n",
       "  <th>Government_State[T.True]</th>                          <td>   -0.1114</td> <td>    0.042</td> <td>   -2.639</td> <td> 0.008</td> <td>   -0.194</td> <td>   -0.029</td>\n",
       "</tr>\n",
       "<tr>\n",
       "  <th>Government_Local[T.True]</th>                          <td>    0.0208</td> <td>    0.044</td> <td>    0.473</td> <td> 0.636</td> <td>   -0.066</td> <td>    0.107</td>\n",
       "</tr>\n",
       "<tr>\n",
       "  <th>Native_Born_In_US[T.True]</th>                         <td>    0.0320</td> <td>    0.143</td> <td>    0.223</td> <td> 0.823</td> <td>   -0.249</td> <td>    0.313</td>\n",
       "</tr>\n",
       "<tr>\n",
       "  <th>Foreign_Born_Not_US_Citizen[T.True]</th>               <td>   -0.0392</td> <td>    0.153</td> <td>   -0.256</td> <td> 0.798</td> <td>   -0.339</td> <td>    0.260</td>\n",
       "</tr>\n",
       "<tr>\n",
       "  <th>Foreign_Born_US_Citizen_By_Naturalization[T.True]</th> <td>    0.0687</td> <td>    0.147</td> <td>    0.467</td> <td> 0.640</td> <td>   -0.219</td> <td>    0.357</td>\n",
       "</tr>\n",
       "<tr>\n",
       "  <th>Native_Born_Abroad_Of_US_Parents[T.True]</th>          <td>   -0.0281</td> <td>    0.155</td> <td>   -0.181</td> <td> 0.856</td> <td>   -0.332</td> <td>    0.276</td>\n",
       "</tr>\n",
       "<tr>\n",
       "  <th>female</th>                                            <td>   -0.1486</td> <td>    0.016</td> <td>   -9.392</td> <td> 0.000</td> <td>   -0.180</td> <td>   -0.118</td>\n",
       "</tr>\n",
       "<tr>\n",
       "  <th>MA_degree</th>                                         <td>    0.2968</td> <td>    0.020</td> <td>   14.583</td> <td> 0.000</td> <td>    0.257</td> <td>    0.337</td>\n",
       "</tr>\n",
       "<tr>\n",
       "  <th>Prof_degree</th>                                       <td>    0.3338</td> <td>    0.059</td> <td>    5.644</td> <td> 0.000</td> <td>    0.218</td> <td>    0.450</td>\n",
       "</tr>\n",
       "<tr>\n",
       "  <th>PhD_degree</th>                                        <td>    0.4322</td> <td>    0.066</td> <td>    6.531</td> <td> 0.000</td> <td>    0.302</td> <td>    0.562</td>\n",
       "</tr>\n",
       "<tr>\n",
       "  <th>age</th>                                               <td>    0.0113</td> <td>    0.001</td> <td>   16.418</td> <td> 0.000</td> <td>    0.010</td> <td>    0.013</td>\n",
       "</tr>\n",
       "<tr>\n",
       "  <th>ownchild</th>                                          <td>    0.0441</td> <td>    0.008</td> <td>    5.572</td> <td> 0.000</td> <td>    0.029</td> <td>    0.060</td>\n",
       "</tr>\n",
       "</table>\n",
       "<table class=\"simpletable\">\n",
       "<tr>\n",
       "  <th>Omnibus:</th>       <td>229.315</td> <th>  Durbin-Watson:     </th> <td>   1.910</td> \n",
       "</tr>\n",
       "<tr>\n",
       "  <th>Prob(Omnibus):</th> <td> 0.000</td>  <th>  Jarque-Bera (JB):  </th> <td> 588.629</td> \n",
       "</tr>\n",
       "<tr>\n",
       "  <th>Skew:</th>          <td>-0.330</td>  <th>  Prob(JB):          </th> <td>1.52e-128</td>\n",
       "</tr>\n",
       "<tr>\n",
       "  <th>Kurtosis:</th>      <td> 4.781</td>  <th>  Cond. No.          </th> <td>1.77e+03</td> \n",
       "</tr>\n",
       "</table><br/><br/>Notes:<br/>[1] Standard Errors are heteroscedasticity robust (HC0)<br/>[2] The condition number is large, 1.77e+03. This might indicate that there are<br/>strong multicollinearity or other numerical problems."
      ],
      "text/latex": [
       "\\begin{center}\n",
       "\\begin{tabular}{lclc}\n",
       "\\toprule\n",
       "\\textbf{Dep. Variable:}                                         & ln\\_earnings\\_per\\_hour & \\textbf{  R-squared:         } &     0.168   \\\\\n",
       "\\textbf{Model:}                                                 &           OLS           & \\textbf{  Adj. R-squared:    } &     0.164   \\\\\n",
       "\\textbf{Method:}                                                &      Least Squares      & \\textbf{  F-statistic:       } &     55.84   \\\\\n",
       "\\textbf{Date:}                                                  &     Sat, 20 Jan 2024    & \\textbf{  Prob (F-statistic):} & 2.88e-152   \\\\\n",
       "\\textbf{Time:}                                                  &         13:45:37        & \\textbf{  Log-Likelihood:    } &   -2678.2   \\\\\n",
       "\\textbf{No. Observations:}                                      &            3917         & \\textbf{  AIC:               } &     5388.   \\\\\n",
       "\\textbf{Df Residuals:}                                          &            3901         & \\textbf{  BIC:               } &     5489.   \\\\\n",
       "\\textbf{Df Model:}                                              &              15         & \\textbf{                     } &             \\\\\n",
       "\\textbf{Covariance Type:}                                       &           HC0           & \\textbf{                     } &             \\\\\n",
       "\\bottomrule\n",
       "\\end{tabular}\n",
       "\\begin{tabular}{lcccccc}\n",
       "                                                                & \\textbf{coef} & \\textbf{std err} & \\textbf{z} & \\textbf{P$> |$z$|$} & \\textbf{[0.025} & \\textbf{0.975]}  \\\\\n",
       "\\midrule\n",
       "\\textbf{Intercept}                                              &       2.6710  &        0.149     &    17.985  &         0.000        &        2.380    &        2.962     \\\\\n",
       "\\textbf{unionmme[T.Yes]}                                        &       0.0352  &        0.032     &     1.101  &         0.271        &       -0.027    &        0.098     \\\\\n",
       "\\textbf{Private\\_For\\_Profit[T.True]}                           &       0.0718  &        0.027     &     2.626  &         0.009        &        0.018    &        0.125     \\\\\n",
       "\\textbf{Government\\_Federal[T.True]}                            &       0.1941  &        0.037     &     5.194  &         0.000        &        0.121    &        0.267     \\\\\n",
       "\\textbf{Government\\_State[T.True]}                              &      -0.1114  &        0.042     &    -2.639  &         0.008        &       -0.194    &       -0.029     \\\\\n",
       "\\textbf{Government\\_Local[T.True]}                              &       0.0208  &        0.044     &     0.473  &         0.636        &       -0.066    &        0.107     \\\\\n",
       "\\textbf{Native\\_Born\\_In\\_US[T.True]}                           &       0.0320  &        0.143     &     0.223  &         0.823        &       -0.249    &        0.313     \\\\\n",
       "\\textbf{Foreign\\_Born\\_Not\\_US\\_Citizen[T.True]}                &      -0.0392  &        0.153     &    -0.256  &         0.798        &       -0.339    &        0.260     \\\\\n",
       "\\textbf{Foreign\\_Born\\_US\\_Citizen\\_By\\_Naturalization[T.True]} &       0.0687  &        0.147     &     0.467  &         0.640        &       -0.219    &        0.357     \\\\\n",
       "\\textbf{Native\\_Born\\_Abroad\\_Of\\_US\\_Parents[T.True]}          &      -0.0281  &        0.155     &    -0.181  &         0.856        &       -0.332    &        0.276     \\\\\n",
       "\\textbf{female}                                                 &      -0.1486  &        0.016     &    -9.392  &         0.000        &       -0.180    &       -0.118     \\\\\n",
       "\\textbf{MA\\_degree}                                             &       0.2968  &        0.020     &    14.583  &         0.000        &        0.257    &        0.337     \\\\\n",
       "\\textbf{Prof\\_degree}                                           &       0.3338  &        0.059     &     5.644  &         0.000        &        0.218    &        0.450     \\\\\n",
       "\\textbf{PhD\\_degree}                                            &       0.4322  &        0.066     &     6.531  &         0.000        &        0.302    &        0.562     \\\\\n",
       "\\textbf{age}                                                    &       0.0113  &        0.001     &    16.418  &         0.000        &        0.010    &        0.013     \\\\\n",
       "\\textbf{ownchild}                                               &       0.0441  &        0.008     &     5.572  &         0.000        &        0.029    &        0.060     \\\\\n",
       "\\bottomrule\n",
       "\\end{tabular}\n",
       "\\begin{tabular}{lclc}\n",
       "\\textbf{Omnibus:}       & 229.315 & \\textbf{  Durbin-Watson:     } &     1.910  \\\\\n",
       "\\textbf{Prob(Omnibus):} &   0.000 & \\textbf{  Jarque-Bera (JB):  } &   588.629  \\\\\n",
       "\\textbf{Skew:}          &  -0.330 & \\textbf{  Prob(JB):          } & 1.52e-128  \\\\\n",
       "\\textbf{Kurtosis:}      &   4.781 & \\textbf{  Cond. No.          } &  1.77e+03  \\\\\n",
       "\\bottomrule\n",
       "\\end{tabular}\n",
       "%\\caption{OLS Regression Results}\n",
       "\\end{center}\n",
       "\n",
       "Notes: \\newline\n",
       " [1] Standard Errors are heteroscedasticity robust (HC0) \\newline\n",
       " [2] The condition number is large, 1.77e+03. This might indicate that there are \\newline\n",
       " strong multicollinearity or other numerical problems."
      ],
      "text/plain": [
       "<class 'statsmodels.iolib.summary.Summary'>\n",
       "\"\"\"\n",
       "                             OLS Regression Results                             \n",
       "================================================================================\n",
       "Dep. Variable:     ln_earnings_per_hour   R-squared:                       0.168\n",
       "Model:                              OLS   Adj. R-squared:                  0.164\n",
       "Method:                   Least Squares   F-statistic:                     55.84\n",
       "Date:                  Sat, 20 Jan 2024   Prob (F-statistic):          2.88e-152\n",
       "Time:                          13:45:37   Log-Likelihood:                -2678.2\n",
       "No. Observations:                  3917   AIC:                             5388.\n",
       "Df Residuals:                      3901   BIC:                             5489.\n",
       "Df Model:                            15                                         \n",
       "Covariance Type:                    HC0                                         \n",
       "=====================================================================================================================\n",
       "                                                        coef    std err          z      P>|z|      [0.025      0.975]\n",
       "---------------------------------------------------------------------------------------------------------------------\n",
       "Intercept                                             2.6710      0.149     17.985      0.000       2.380       2.962\n",
       "unionmme[T.Yes]                                       0.0352      0.032      1.101      0.271      -0.027       0.098\n",
       "Private_For_Profit[T.True]                            0.0718      0.027      2.626      0.009       0.018       0.125\n",
       "Government_Federal[T.True]                            0.1941      0.037      5.194      0.000       0.121       0.267\n",
       "Government_State[T.True]                             -0.1114      0.042     -2.639      0.008      -0.194      -0.029\n",
       "Government_Local[T.True]                              0.0208      0.044      0.473      0.636      -0.066       0.107\n",
       "Native_Born_In_US[T.True]                             0.0320      0.143      0.223      0.823      -0.249       0.313\n",
       "Foreign_Born_Not_US_Citizen[T.True]                  -0.0392      0.153     -0.256      0.798      -0.339       0.260\n",
       "Foreign_Born_US_Citizen_By_Naturalization[T.True]     0.0687      0.147      0.467      0.640      -0.219       0.357\n",
       "Native_Born_Abroad_Of_US_Parents[T.True]             -0.0281      0.155     -0.181      0.856      -0.332       0.276\n",
       "female                                               -0.1486      0.016     -9.392      0.000      -0.180      -0.118\n",
       "MA_degree                                             0.2968      0.020     14.583      0.000       0.257       0.337\n",
       "Prof_degree                                           0.3338      0.059      5.644      0.000       0.218       0.450\n",
       "PhD_degree                                            0.4322      0.066      6.531      0.000       0.302       0.562\n",
       "age                                                   0.0113      0.001     16.418      0.000       0.010       0.013\n",
       "ownchild                                              0.0441      0.008      5.572      0.000       0.029       0.060\n",
       "==============================================================================\n",
       "Omnibus:                      229.315   Durbin-Watson:                   1.910\n",
       "Prob(Omnibus):                  0.000   Jarque-Bera (JB):              588.629\n",
       "Skew:                          -0.330   Prob(JB):                    1.52e-128\n",
       "Kurtosis:                       4.781   Cond. No.                     1.77e+03\n",
       "==============================================================================\n",
       "\n",
       "Notes:\n",
       "[1] Standard Errors are heteroscedasticity robust (HC0)\n",
       "[2] The condition number is large, 1.77e+03. This might indicate that there are\n",
       "strong multicollinearity or other numerical problems.\n",
       "\"\"\""
      ]
     },
     "execution_count": 48,
     "metadata": {},
     "output_type": "execute_result"
    }
   ],
   "source": [
    "# Model 3: Hourly wage gap for edu_trai_lib subset including unionship and education levels\n",
    "model4 = smf.ols(formula=\"ln_earnings_per_hour ~ female + unionmme + MA_degree + Prof_degree + PhD_degree + age + ownchild + Private_For_Profit + Government_Federal + Government_State + Government_Local + Native_Born_In_US + Foreign_Born_Not_US_Citizen + Foreign_Born_US_Citizen_By_Naturalization + Native_Born_Abroad_Of_US_Parents\", data=data_filtered_business).fit(cov_type=\"HC0\")\n",
    "model4.summary()"
   ]
  },
  {
   "cell_type": "markdown",
   "id": "34c9df08-857c-4459-afe9-d0c74c983037",
   "metadata": {},
   "source": [
    "### 3.5 Summary with Stargazer"
   ]
  },
  {
   "cell_type": "code",
   "execution_count": null,
   "id": "eec5bae6-aeda-45f1-a9ef-4a82e2fd5058",
   "metadata": {},
   "outputs": [],
   "source": []
  },
  {
   "cell_type": "markdown",
   "id": "3a7f7926-afa7-4bde-b737-349e849bb92c",
   "metadata": {},
   "source": [
    "## 4. Model Evaluation"
   ]
  },
  {
   "cell_type": "markdown",
   "id": "5c92c6ea-ef85-4a30-b8c9-5617af43a1b7",
   "metadata": {},
   "source": [
    "### 4.1 BIC"
   ]
  },
  {
   "cell_type": "markdown",
   "id": "15b59f83-be1d-4812-92e0-91ef834d4457",
   "metadata": {},
   "source": [
    "### 4.2 RMSE - Full sample"
   ]
  },
  {
   "cell_type": "markdown",
   "id": "b0c7c520-8f69-4da6-b6c2-8aff7d0fd9c5",
   "metadata": {},
   "source": [
    "### 4.3 RMSE - cross validated"
   ]
  },
  {
   "cell_type": "markdown",
   "id": "f47e3831-56ac-4d74-b4a6-2b21db31718f",
   "metadata": {},
   "source": [
    "## 5. Analysis of Model Performance"
   ]
  },
  {
   "cell_type": "markdown",
   "id": "10ced13c-4f58-493f-a0ff-51de29b5668b",
   "metadata": {},
   "source": [
    "### 5.1 Model Comparison"
   ]
  },
  {
   "cell_type": "markdown",
   "id": "4ee37beb-a0e8-471a-8613-97ce68681f6e",
   "metadata": {},
   "source": [
    "### 5.2 Complexity vs. performance (include visuals)"
   ]
  },
  {
   "cell_type": "code",
   "execution_count": null,
   "id": "ece063a6-8801-4937-8bb7-8a75536330bf",
   "metadata": {},
   "outputs": [],
   "source": []
  }
 ],
 "metadata": {
  "kernelspec": {
   "display_name": "Python 3 (ipykernel)",
   "language": "python",
   "name": "python3"
  },
  "language_info": {
   "codemirror_mode": {
    "name": "ipython",
    "version": 3
   },
   "file_extension": ".py",
   "mimetype": "text/x-python",
   "name": "python",
   "nbconvert_exporter": "python",
   "pygments_lexer": "ipython3",
   "version": "3.11.4"
  }
 },
 "nbformat": 4,
 "nbformat_minor": 5
}
