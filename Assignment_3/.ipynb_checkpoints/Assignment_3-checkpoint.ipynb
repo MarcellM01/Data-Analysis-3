{
 "cells": [
  {
   "cell_type": "markdown",
   "id": "db548262-c2db-4602-8398-91c7dde36c94",
   "metadata": {
    "tags": []
   },
   "source": [
    "https://ec.europa.eu/competition/mergers/cases/index/nace_all.html"
   ]
  },
  {
   "cell_type": "code",
   "execution_count": 1,
   "id": "d3428402-bf0f-42bc-94bd-7c80b35ebb56",
   "metadata": {
    "tags": []
   },
   "outputs": [],
   "source": [
    "import os\n",
    "import sys\n",
    "import warnings\n",
    "\n",
    "import matplotlib.pyplot as plt\n",
    "import numpy as np\n",
    "import pandas as pd\n",
    "import patsy\n",
    "import sklearn.metrics as metrics\n",
    "import statsmodels.formula.api as smf\n",
    "from plotnine import *\n",
    "from sklearn.ensemble import RandomForestClassifier\n",
    "from sklearn.linear_model import (\n",
    "    LinearRegression,\n",
    "    LogisticRegression,\n",
    "    LogisticRegressionCV,\n",
    ")\n",
    "from sklearn.metrics import (\n",
    "    auc,\n",
    "    brier_score_loss,\n",
    "    confusion_matrix,\n",
    "    mean_squared_error,\n",
    "    roc_auc_score,\n",
    "    roc_curve,\n",
    ")\n",
    "from sklearn.model_selection import GridSearchCV, KFold, train_test_split\n",
    "from sklearn.preprocessing import StandardScaler\n",
    "from statsmodels.tools.eval_measures import rmse\n",
    "\n",
    "warnings.filterwarnings(\"ignore\")"
   ]
  },
  {
   "cell_type": "code",
   "execution_count": 2,
   "id": "df5725f9-09d2-44a3-a075-5625aec727b0",
   "metadata": {},
   "outputs": [],
   "source": [
    "data = pd.read_csv(\"cs_bisnode_panel.csv\")"
   ]
  },
  {
   "cell_type": "code",
   "execution_count": 3,
   "id": "1d8be2a3-d5b1-48c8-83b9-57e641cbf264",
   "metadata": {
    "tags": []
   },
   "outputs": [],
   "source": [
    "# add all missing year and comp_id combinations -\n",
    "# originally missing combinations will have NAs in all other columns\n",
    "data = (\n",
    "    data.set_index([\"year\", \"comp_id\"])\n",
    "    .unstack(fill_value=\"toReplace\")\n",
    "    .stack()\n",
    "    .reset_index()\n",
    ")\n",
    "data = data.replace(\"toReplace\", np.nan)  # only way I could define it as NaN"
   ]
  },
  {
   "cell_type": "code",
   "execution_count": 4,
   "id": "d2825597-1d46-49cb-a1d5-9e2bc368f0f1",
   "metadata": {
    "tags": []
   },
   "outputs": [],
   "source": [
    "# generate status_alive; if sales larger than zero and not-NA, then firm is alive\n",
    "data[\"status_alive\"] = (data[\"sales\"] > 0 & (False == data[\"sales\"].isna())).astype(int)\n",
    "\n",
    "# defaults in two years if there are sales in this year but no sales two years later\n",
    "# Status_in_two_years: data.groupby('comp_id')['status_alive'].shift(-2)\n",
    "data[\"default\"] = (\n",
    "    (data[\"status_alive\"] == 1)\n",
    "    & (data.groupby(\"comp_id\")[\"status_alive\"].shift(-1) == 0)\n",
    ").astype(int)"
   ]
  },
  {
   "cell_type": "code",
   "execution_count": 6,
   "id": "356bfda8-10db-4211-b12e-6e747e7976e4",
   "metadata": {
    "collapsed": true,
    "jupyter": {
     "outputs_hidden": true
    },
    "tags": []
   },
   "outputs": [
    {
     "name": "stdout",
     "output_type": "stream",
     "text": [
      "<class 'pandas.core.frame.DataFrame'>\n",
      "RangeIndex: 556944 entries, 0 to 556943\n",
      "Data columns (total 50 columns):\n",
      " #   Column                Non-Null Count   Dtype  \n",
      "---  ------                --------------   -----  \n",
      " 0   year                  556944 non-null  int64  \n",
      " 1   comp_id               556944 non-null  float64\n",
      " 2   begin                 287829 non-null  object \n",
      " 3   end                   287829 non-null  object \n",
      " 4   COGS                  18257 non-null   float64\n",
      " 5   amort                 279789 non-null  float64\n",
      " 6   curr_assets           287698 non-null  float64\n",
      " 7   curr_liab             287698 non-null  float64\n",
      " 8   extra_exp             269300 non-null  float64\n",
      " 9   extra_inc             269300 non-null  float64\n",
      " 10  extra_profit_loss     270626 non-null  float64\n",
      " 11  finished_prod         17485 non-null   float64\n",
      " 12  fixed_assets          287698 non-null  float64\n",
      " 13  inc_bef_tax           280392 non-null  float64\n",
      " 14  intang_assets         287689 non-null  float64\n",
      " 15  inventories           287698 non-null  float64\n",
      " 16  liq_assets            287698 non-null  float64\n",
      " 17  material_exp          279789 non-null  float64\n",
      " 18  net_dom_sales         18257 non-null   float64\n",
      " 19  net_exp_sales         18257 non-null   float64\n",
      " 20  personnel_exp         279789 non-null  float64\n",
      " 21  profit_loss_year      277945 non-null  float64\n",
      " 22  sales                 280392 non-null  float64\n",
      " 23  share_eq              287698 non-null  float64\n",
      " 24  subscribed_cap        287698 non-null  float64\n",
      " 25  tang_assets           286359 non-null  float64\n",
      " 26  wages                 17983 non-null   float64\n",
      " 27  D                     0 non-null       float64\n",
      " 28  balsheet_flag         287829 non-null  float64\n",
      " 29  balsheet_length       287829 non-null  float64\n",
      " 30  balsheet_notfullyear  287829 non-null  float64\n",
      " 31  founded_year          231372 non-null  float64\n",
      " 32  exit_year             38859 non-null   float64\n",
      " 33  ceo_count             231402 non-null  float64\n",
      " 34  foreign               231402 non-null  float64\n",
      " 35  female                231402 non-null  float64\n",
      " 36  birth_year            176011 non-null  float64\n",
      " 37  inoffice_days         231402 non-null  float64\n",
      " 38  gender                231402 non-null  object \n",
      " 39  origin                231402 non-null  object \n",
      " 40  nace_main             286791 non-null  float64\n",
      " 41  ind2                  286791 non-null  float64\n",
      " 42  ind                   278060 non-null  float64\n",
      " 43  urban_m               287829 non-null  float64\n",
      " 44  region_m              286989 non-null  object \n",
      " 45  founded_date          287778 non-null  object \n",
      " 46  exit_date             56180 non-null   object \n",
      " 47  labor_avg             141297 non-null  float64\n",
      " 48  status_alive          556944 non-null  int32  \n",
      " 49  default               556944 non-null  int32  \n",
      "dtypes: float64(40), int32(2), int64(1), object(7)\n",
      "memory usage: 208.2+ MB\n"
     ]
    }
   ],
   "source": [
    "data.info()"
   ]
  },
  {
   "cell_type": "code",
   "execution_count": 9,
   "id": "19fd5559-f432-4eae-96d4-1396fb232440",
   "metadata": {
    "tags": []
   },
   "outputs": [
    {
     "name": "stdout",
     "output_type": "stream",
     "text": [
      "default\n",
      "0    981\n",
      "1     56\n",
      "Name: count, dtype: int64\n"
     ]
    }
   ],
   "source": [
    "data_2014 = data[(data['ind2'] == 26) & \n",
    "                 (data['year'] == 2014) & \n",
    "                 (data['sales'] >= 1000) & \n",
    "                 (data['sales'] <= 10000000)]\n",
    "\n",
    "data_2014['year'].value_counts()\n",
    "\n",
    "print(data_2014['default'].value_counts())"
   ]
  },
  {
   "cell_type": "code",
   "execution_count": null,
   "id": "5825a66e-9a9d-4055-8fbb-8c9b3d604ca2",
   "metadata": {},
   "outputs": [],
   "source": []
  }
 ],
 "metadata": {
  "kernelspec": {
   "display_name": "Python 3 (ipykernel)",
   "language": "python",
   "name": "python3"
  },
  "language_info": {
   "codemirror_mode": {
    "name": "ipython",
    "version": 3
   },
   "file_extension": ".py",
   "mimetype": "text/x-python",
   "name": "python",
   "nbconvert_exporter": "python",
   "pygments_lexer": "ipython3",
   "version": "3.11.4"
  }
 },
 "nbformat": 4,
 "nbformat_minor": 5
}
