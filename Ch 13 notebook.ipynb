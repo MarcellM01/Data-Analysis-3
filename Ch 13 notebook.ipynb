{
 "cells": [
  {
   "cell_type": "markdown",
   "metadata": {},
   "source": [
    "### Chapter 13\n",
    "**CH11 Used cars with linear regression**\n",
    "\n",
    "using the used-cars dataset\n",
    "\n",
    "version 1.0 2023-12-28"
   ]
  },
  {
   "cell_type": "code",
   "execution_count": 1,
   "metadata": {
    "tags": []
   },
   "outputs": [],
   "source": [
    "import warnings\n",
    "warnings.filterwarnings('ignore')\n",
    "\n",
    "import pandas as pd\n",
    "import seaborn as sns\n",
    "import matplotlib.pyplot as plt\n",
    "from mizani.formatters import percent_format\n",
    "import os\n",
    "from plotnine import *\n",
    "import numpy as np\n",
    "import sys\n",
    "import numpy as np\n",
    "import statsmodels.api as sm\n",
    "import statsmodels.formula.api as smf\n",
    "from stargazer import stargazer\n",
    "from statsmodels.tools.eval_measures import mse,rmse"
   ]
  },
  {
   "cell_type": "markdown",
   "metadata": {},
   "source": [
    "### Get Data"
   ]
  },
  {
   "cell_type": "code",
   "execution_count": 2,
   "metadata": {
    "tags": []
   },
   "outputs": [],
   "source": [
    "# Current script and repository folder\n",
    "current_path = os.getcwd()\n",
    "repository_path = current_path.split('Ch13-a-framework-for-prediction')[0]"
   ]
  },
  {
   "cell_type": "code",
   "execution_count": 3,
   "metadata": {
    "tags": []
   },
   "outputs": [],
   "source": [
    "# Add utils folder to sys path \n",
    "# Note: os.path.join() creates a string with the right syntax for defining a path for your operating sytem.\n",
    "sys.path.append(os.path.join(repository_path, 'utils'))"
   ]
  },
  {
   "cell_type": "code",
   "execution_count": 4,
   "metadata": {
    "tags": []
   },
   "outputs": [],
   "source": [
    "# Define data folder\n",
    "data_path = os.path.join(repository_path, 'data')"
   ]
  },
  {
   "cell_type": "code",
   "execution_count": 5,
   "metadata": {
    "tags": []
   },
   "outputs": [],
   "source": [
    "# Import the prewritten helper functions\n",
    "# from py_helper_functions import *"
   ]
  },
  {
   "cell_type": "raw",
   "metadata": {},
   "source": [
    "# DATA IMPORT - FROM FILE\n",
    "data = pd.read_csv(os.path.join(data_path, 'used-cars_2cities_prep.csv'))"
   ]
  },
  {
   "cell_type": "code",
   "execution_count": 6,
   "metadata": {
    "tags": []
   },
   "outputs": [],
   "source": [
    "# DATA IMPORT - FROM GITHUB\n",
    "data = pd.read_csv('https://raw.githubusercontent.com/peterduronelly/DA3-Python-Codes/main/data/used-cars_2cities_prep.csv')"
   ]
  },
  {
   "cell_type": "code",
   "execution_count": 7,
   "metadata": {
    "tags": []
   },
   "outputs": [
    {
     "data": {
      "text/html": [
       "<div>\n",
       "<style scoped>\n",
       "    .dataframe tbody tr th:only-of-type {\n",
       "        vertical-align: middle;\n",
       "    }\n",
       "\n",
       "    .dataframe tbody tr th {\n",
       "        vertical-align: top;\n",
       "    }\n",
       "\n",
       "    .dataframe thead th {\n",
       "        text-align: right;\n",
       "    }\n",
       "</style>\n",
       "<table border=\"1\" class=\"dataframe\">\n",
       "  <thead>\n",
       "    <tr style=\"text-align: right;\">\n",
       "      <th></th>\n",
       "      <th>pricestr</th>\n",
       "      <th>area</th>\n",
       "      <th>subarea</th>\n",
       "      <th>name</th>\n",
       "      <th>condition</th>\n",
       "      <th>cylinders</th>\n",
       "      <th>drive</th>\n",
       "      <th>fuel</th>\n",
       "      <th>odometer</th>\n",
       "      <th>paintcolor</th>\n",
       "      <th>...</th>\n",
       "      <th>dealer</th>\n",
       "      <th>price</th>\n",
       "      <th>lnprice</th>\n",
       "      <th>year</th>\n",
       "      <th>age</th>\n",
       "      <th>lnodometer</th>\n",
       "      <th>LE</th>\n",
       "      <th>XLE</th>\n",
       "      <th>SE</th>\n",
       "      <th>Hybrid</th>\n",
       "    </tr>\n",
       "  </thead>\n",
       "  <tbody>\n",
       "    <tr>\n",
       "      <th>0</th>\n",
       "      <td>$4990</td>\n",
       "      <td>chicago</td>\n",
       "      <td>chicago city</td>\n",
       "      <td>2007 Toyota Camry Hybrid</td>\n",
       "      <td>good</td>\n",
       "      <td>4 cylinders</td>\n",
       "      <td>fwd</td>\n",
       "      <td>gas</td>\n",
       "      <td>11.6236</td>\n",
       "      <td>grey</td>\n",
       "      <td>...</td>\n",
       "      <td>1</td>\n",
       "      <td>4990</td>\n",
       "      <td>8.515191</td>\n",
       "      <td>2007</td>\n",
       "      <td>11</td>\n",
       "      <td>2.453038</td>\n",
       "      <td>0</td>\n",
       "      <td>0</td>\n",
       "      <td>0</td>\n",
       "      <td>1</td>\n",
       "    </tr>\n",
       "    <tr>\n",
       "      <th>1</th>\n",
       "      <td>$10625</td>\n",
       "      <td>chicago</td>\n",
       "      <td>chicago city</td>\n",
       "      <td>2009 Toyota Camry Hybrid</td>\n",
       "      <td>NaN</td>\n",
       "      <td>4 cylinders</td>\n",
       "      <td>fwd</td>\n",
       "      <td>hybrid</td>\n",
       "      <td>4.3702</td>\n",
       "      <td>grey</td>\n",
       "      <td>...</td>\n",
       "      <td>1</td>\n",
       "      <td>10625</td>\n",
       "      <td>9.270965</td>\n",
       "      <td>2009</td>\n",
       "      <td>9</td>\n",
       "      <td>1.474809</td>\n",
       "      <td>0</td>\n",
       "      <td>0</td>\n",
       "      <td>0</td>\n",
       "      <td>1</td>\n",
       "    </tr>\n",
       "    <tr>\n",
       "      <th>2</th>\n",
       "      <td>$14850</td>\n",
       "      <td>chicago</td>\n",
       "      <td>chicago city</td>\n",
       "      <td>2015 Toyota_ Camry_</td>\n",
       "      <td>excellent</td>\n",
       "      <td>other</td>\n",
       "      <td>NaN</td>\n",
       "      <td>gas</td>\n",
       "      <td>3.5721</td>\n",
       "      <td>NaN</td>\n",
       "      <td>...</td>\n",
       "      <td>1</td>\n",
       "      <td>14850</td>\n",
       "      <td>9.605755</td>\n",
       "      <td>2015</td>\n",
       "      <td>3</td>\n",
       "      <td>1.273154</td>\n",
       "      <td>0</td>\n",
       "      <td>0</td>\n",
       "      <td>0</td>\n",
       "      <td>0</td>\n",
       "    </tr>\n",
       "    <tr>\n",
       "      <th>3</th>\n",
       "      <td>$15630</td>\n",
       "      <td>chicago</td>\n",
       "      <td>chicago city</td>\n",
       "      <td>2016 TOYOTA CAMRY</td>\n",
       "      <td>NaN</td>\n",
       "      <td>NaN</td>\n",
       "      <td>fwd</td>\n",
       "      <td>gas</td>\n",
       "      <td>1.3152</td>\n",
       "      <td>NaN</td>\n",
       "      <td>...</td>\n",
       "      <td>1</td>\n",
       "      <td>15630</td>\n",
       "      <td>9.656947</td>\n",
       "      <td>2016</td>\n",
       "      <td>2</td>\n",
       "      <td>0.273989</td>\n",
       "      <td>0</td>\n",
       "      <td>0</td>\n",
       "      <td>0</td>\n",
       "      <td>0</td>\n",
       "    </tr>\n",
       "    <tr>\n",
       "      <th>4</th>\n",
       "      <td>$850</td>\n",
       "      <td>chicago</td>\n",
       "      <td>chicago city</td>\n",
       "      <td>1993 toyota camry</td>\n",
       "      <td>good</td>\n",
       "      <td>6 cylinders</td>\n",
       "      <td>fwd</td>\n",
       "      <td>gas</td>\n",
       "      <td>18.7000</td>\n",
       "      <td>red</td>\n",
       "      <td>...</td>\n",
       "      <td>0</td>\n",
       "      <td>850</td>\n",
       "      <td>6.745236</td>\n",
       "      <td>1993</td>\n",
       "      <td>25</td>\n",
       "      <td>2.928523</td>\n",
       "      <td>0</td>\n",
       "      <td>0</td>\n",
       "      <td>0</td>\n",
       "      <td>0</td>\n",
       "    </tr>\n",
       "  </tbody>\n",
       "</table>\n",
       "<p>5 rows × 23 columns</p>\n",
       "</div>"
      ],
      "text/plain": [
       "  pricestr     area       subarea                      name  condition  \\\n",
       "0    $4990  chicago  chicago city  2007 Toyota Camry Hybrid       good   \n",
       "1   $10625  chicago  chicago city  2009 Toyota Camry Hybrid        NaN   \n",
       "2   $14850  chicago  chicago city       2015 Toyota_ Camry_  excellent   \n",
       "3   $15630  chicago  chicago city         2016 TOYOTA CAMRY        NaN   \n",
       "4     $850  chicago  chicago city         1993 toyota camry       good   \n",
       "\n",
       "     cylinders drive    fuel  odometer paintcolor  ... dealer  price  \\\n",
       "0  4 cylinders   fwd     gas   11.6236       grey  ...      1   4990   \n",
       "1  4 cylinders   fwd  hybrid    4.3702       grey  ...      1  10625   \n",
       "2        other   NaN     gas    3.5721        NaN  ...      1  14850   \n",
       "3          NaN   fwd     gas    1.3152        NaN  ...      1  15630   \n",
       "4  6 cylinders   fwd     gas   18.7000        red  ...      0    850   \n",
       "\n",
       "    lnprice  year  age  lnodometer  LE  XLE  SE  Hybrid  \n",
       "0  8.515191  2007   11    2.453038   0    0   0       1  \n",
       "1  9.270965  2009    9    1.474809   0    0   0       1  \n",
       "2  9.605755  2015    3    1.273154   0    0   0       0  \n",
       "3  9.656947  2016    2    0.273989   0    0   0       0  \n",
       "4  6.745236  1993   25    2.928523   0    0   0       0  \n",
       "\n",
       "[5 rows x 23 columns]"
      ]
     },
     "execution_count": 7,
     "metadata": {},
     "output_type": "execute_result"
    }
   ],
   "source": [
    "data.head()"
   ]
  },
  {
   "cell_type": "code",
   "execution_count": 8,
   "metadata": {
    "tags": []
   },
   "outputs": [
    {
     "name": "stdout",
     "output_type": "stream",
     "text": [
      "<class 'pandas.core.frame.DataFrame'>\n",
      "RangeIndex: 549 entries, 0 to 548\n",
      "Data columns (total 23 columns):\n",
      " #   Column        Non-Null Count  Dtype  \n",
      "---  ------        --------------  -----  \n",
      " 0   pricestr      549 non-null    object \n",
      " 1   area          549 non-null    object \n",
      " 2   subarea       540 non-null    object \n",
      " 3   name          549 non-null    object \n",
      " 4   condition     327 non-null    object \n",
      " 5   cylinders     360 non-null    object \n",
      " 6   drive         294 non-null    object \n",
      " 7   fuel          548 non-null    object \n",
      " 8   odometer      549 non-null    float64\n",
      " 9   paintcolor    316 non-null    object \n",
      " 10  size          193 non-null    object \n",
      " 11  transmission  549 non-null    object \n",
      " 12  type          301 non-null    object \n",
      " 13  dealer        549 non-null    int64  \n",
      " 14  price         549 non-null    int64  \n",
      " 15  lnprice       549 non-null    float64\n",
      " 16  year          549 non-null    int64  \n",
      " 17  age           549 non-null    int64  \n",
      " 18  lnodometer    549 non-null    float64\n",
      " 19  LE            549 non-null    int64  \n",
      " 20  XLE           549 non-null    int64  \n",
      " 21  SE            549 non-null    int64  \n",
      " 22  Hybrid        549 non-null    int64  \n",
      "dtypes: float64(3), int64(8), object(12)\n",
      "memory usage: 98.8+ KB\n"
     ]
    }
   ],
   "source": [
    "data.info()"
   ]
  },
  {
   "cell_type": "markdown",
   "metadata": {},
   "source": [
    "### EDA"
   ]
  },
  {
   "cell_type": "code",
   "execution_count": 9,
   "metadata": {
    "tags": []
   },
   "outputs": [],
   "source": [
    "# SAMPLE DESIGN\n",
    "\n",
    "# Manage missing\n",
    "data[\"fuel\"] = data[\"fuel\"].fillna(\"Missing\")\n",
    "data[\"condition\"] = data[\"condition\"].fillna(\"Missing\")\n",
    "data[\"drive\"] = data[\"drive\"].fillna(\"Missing\")\n",
    "data[\"cylinders\"] = data[\"cylinders\"].fillna(\"Missing\")\n",
    "data[\"transmission\"] = data[\"transmission\"].fillna(\"Missing\")\n",
    "data[\"type\"] = data[\"type\"].fillna(\"Missing\")"
   ]
  },
  {
   "cell_type": "code",
   "execution_count": 10,
   "metadata": {
    "tags": []
   },
   "outputs": [],
   "source": [
    "# drop hybrid models then drop column\n",
    "data = data[data.Hybrid == 0].drop(\n",
    "    [\"Hybrid\"], axis=1\n",
    ") "
   ]
  },
  {
   "cell_type": "code",
   "execution_count": 11,
   "metadata": {
    "tags": []
   },
   "outputs": [
    {
     "data": {
      "text/plain": [
       "(526, 22)"
      ]
     },
     "execution_count": 11,
     "metadata": {},
     "output_type": "execute_result"
    }
   ],
   "source": [
    "data.shape"
   ]
  },
  {
   "cell_type": "code",
   "execution_count": 12,
   "metadata": {
    "tags": []
   },
   "outputs": [
    {
     "data": {
      "text/html": [
       "<div>\n",
       "<style scoped>\n",
       "    .dataframe tbody tr th:only-of-type {\n",
       "        vertical-align: middle;\n",
       "    }\n",
       "\n",
       "    .dataframe tbody tr th {\n",
       "        vertical-align: top;\n",
       "    }\n",
       "\n",
       "    .dataframe thead th {\n",
       "        text-align: right;\n",
       "    }\n",
       "</style>\n",
       "<table border=\"1\" class=\"dataframe\">\n",
       "  <thead>\n",
       "    <tr style=\"text-align: right;\">\n",
       "      <th></th>\n",
       "      <th>frequency</th>\n",
       "      <th>percent</th>\n",
       "      <th>cumulative_percent</th>\n",
       "    </tr>\n",
       "    <tr>\n",
       "      <th>fuel</th>\n",
       "      <th></th>\n",
       "      <th></th>\n",
       "      <th></th>\n",
       "    </tr>\n",
       "  </thead>\n",
       "  <tbody>\n",
       "    <tr>\n",
       "      <th>Missing</th>\n",
       "      <td>1</td>\n",
       "      <td>0.190</td>\n",
       "      <td>0.190</td>\n",
       "    </tr>\n",
       "    <tr>\n",
       "      <th>diesel</th>\n",
       "      <td>1</td>\n",
       "      <td>0.190</td>\n",
       "      <td>0.380</td>\n",
       "    </tr>\n",
       "    <tr>\n",
       "      <th>gas</th>\n",
       "      <td>516</td>\n",
       "      <td>98.099</td>\n",
       "      <td>98.479</td>\n",
       "    </tr>\n",
       "    <tr>\n",
       "      <th>hybrid</th>\n",
       "      <td>1</td>\n",
       "      <td>0.190</td>\n",
       "      <td>98.669</td>\n",
       "    </tr>\n",
       "    <tr>\n",
       "      <th>other</th>\n",
       "      <td>7</td>\n",
       "      <td>1.331</td>\n",
       "      <td>100.000</td>\n",
       "    </tr>\n",
       "  </tbody>\n",
       "</table>\n",
       "</div>"
      ],
      "text/plain": [
       "         frequency  percent  cumulative_percent\n",
       "fuel                                           \n",
       "Missing          1    0.190               0.190\n",
       "diesel           1    0.190               0.380\n",
       "gas            516   98.099              98.479\n",
       "hybrid           1    0.190              98.669\n",
       "other            7    1.331             100.000"
      ]
     },
     "execution_count": 12,
     "metadata": {},
     "output_type": "execute_result"
    }
   ],
   "source": [
    "# check frequency by fuel type\n",
    "freq = data.groupby(\"fuel\").agg(frequency=(\"type\", \"size\"))\n",
    "freq[\"percent\"] = round(freq[\"frequency\"] / sum(freq[\"frequency\"]) * 100, 3)\n",
    "freq[\"cumulative_percent\"] = np.cumsum(freq[\"percent\"])\n",
    "freq"
   ]
  },
  {
   "cell_type": "code",
   "execution_count": 13,
   "metadata": {
    "tags": []
   },
   "outputs": [],
   "source": [
    "# keep gas-fuelled vehicles\n",
    "data = data[data.fuel == \"gas\"]"
   ]
  },
  {
   "cell_type": "code",
   "execution_count": 14,
   "metadata": {
    "tags": []
   },
   "outputs": [
    {
     "data": {
      "text/html": [
       "<div>\n",
       "<style scoped>\n",
       "    .dataframe tbody tr th:only-of-type {\n",
       "        vertical-align: middle;\n",
       "    }\n",
       "\n",
       "    .dataframe tbody tr th {\n",
       "        vertical-align: top;\n",
       "    }\n",
       "\n",
       "    .dataframe thead th {\n",
       "        text-align: right;\n",
       "    }\n",
       "</style>\n",
       "<table border=\"1\" class=\"dataframe\">\n",
       "  <thead>\n",
       "    <tr style=\"text-align: right;\">\n",
       "      <th></th>\n",
       "      <th>frequency</th>\n",
       "      <th>percent</th>\n",
       "      <th>cumulative_percent</th>\n",
       "    </tr>\n",
       "    <tr>\n",
       "      <th>condition</th>\n",
       "      <th></th>\n",
       "      <th></th>\n",
       "      <th></th>\n",
       "    </tr>\n",
       "  </thead>\n",
       "  <tbody>\n",
       "    <tr>\n",
       "      <th>Missing</th>\n",
       "      <td>207</td>\n",
       "      <td>40.116</td>\n",
       "      <td>40.116</td>\n",
       "    </tr>\n",
       "    <tr>\n",
       "      <th>excellent</th>\n",
       "      <td>133</td>\n",
       "      <td>25.775</td>\n",
       "      <td>65.891</td>\n",
       "    </tr>\n",
       "    <tr>\n",
       "      <th>fair</th>\n",
       "      <td>14</td>\n",
       "      <td>2.713</td>\n",
       "      <td>68.604</td>\n",
       "    </tr>\n",
       "    <tr>\n",
       "      <th>good</th>\n",
       "      <td>106</td>\n",
       "      <td>20.543</td>\n",
       "      <td>89.147</td>\n",
       "    </tr>\n",
       "    <tr>\n",
       "      <th>like new</th>\n",
       "      <td>53</td>\n",
       "      <td>10.271</td>\n",
       "      <td>99.418</td>\n",
       "    </tr>\n",
       "    <tr>\n",
       "      <th>new</th>\n",
       "      <td>3</td>\n",
       "      <td>0.581</td>\n",
       "      <td>99.999</td>\n",
       "    </tr>\n",
       "  </tbody>\n",
       "</table>\n",
       "</div>"
      ],
      "text/plain": [
       "           frequency  percent  cumulative_percent\n",
       "condition                                        \n",
       "Missing          207   40.116              40.116\n",
       "excellent        133   25.775              65.891\n",
       "fair              14    2.713              68.604\n",
       "good             106   20.543              89.147\n",
       "like new          53   10.271              99.418\n",
       "new                3    0.581              99.999"
      ]
     },
     "execution_count": 14,
     "metadata": {},
     "output_type": "execute_result"
    }
   ],
   "source": [
    "# check frequency by vehicle condition\n",
    "freq = data.groupby(\"condition\").agg(frequency=(\"type\", \"size\"))\n",
    "freq[\"percent\"] = round(freq[\"frequency\"] / sum(freq[\"frequency\"]) * 100, 3)\n",
    "freq[\"cumulative_percent\"] = np.cumsum(freq[\"percent\"])\n",
    "freq"
   ]
  },
  {
   "cell_type": "code",
   "execution_count": 15,
   "metadata": {
    "tags": []
   },
   "outputs": [],
   "source": [
    "# drop vehicles in fair and new condition, trucks\n",
    "data = data[~data.condition.isin([\"new\", \"fair\"])]\n",
    "\n",
    "# drop unrealistic values for price and odometer reading\n",
    "data = data[(data.price >= 500) & (data.price <= 25000) & (data.odometer <= 100)]\n",
    "\n",
    "# drop if price is smaller than 1000 and condition is like new or age is less than 8\n",
    "data = data[\n",
    "    ~((data.price < 1000) & ((data.condition == \"like new\") | (data.age < 8)))\n",
    "]"
   ]
  },
  {
   "cell_type": "code",
   "execution_count": 16,
   "metadata": {
    "tags": []
   },
   "outputs": [
    {
     "data": {
      "text/html": [
       "<div>\n",
       "<style scoped>\n",
       "    .dataframe tbody tr th:only-of-type {\n",
       "        vertical-align: middle;\n",
       "    }\n",
       "\n",
       "    .dataframe tbody tr th {\n",
       "        vertical-align: top;\n",
       "    }\n",
       "\n",
       "    .dataframe thead th {\n",
       "        text-align: right;\n",
       "    }\n",
       "</style>\n",
       "<table border=\"1\" class=\"dataframe\">\n",
       "  <thead>\n",
       "    <tr style=\"text-align: right;\">\n",
       "      <th></th>\n",
       "      <th>frequency</th>\n",
       "      <th>percent</th>\n",
       "      <th>cumulative_percent</th>\n",
       "    </tr>\n",
       "    <tr>\n",
       "      <th>transmission</th>\n",
       "      <th></th>\n",
       "      <th></th>\n",
       "      <th></th>\n",
       "    </tr>\n",
       "  </thead>\n",
       "  <tbody>\n",
       "    <tr>\n",
       "      <th>automatic</th>\n",
       "      <td>478</td>\n",
       "      <td>98.557</td>\n",
       "      <td>98.557</td>\n",
       "    </tr>\n",
       "    <tr>\n",
       "      <th>manual</th>\n",
       "      <td>7</td>\n",
       "      <td>1.443</td>\n",
       "      <td>100.000</td>\n",
       "    </tr>\n",
       "  </tbody>\n",
       "</table>\n",
       "</div>"
      ],
      "text/plain": [
       "              frequency  percent  cumulative_percent\n",
       "transmission                                        \n",
       "automatic           478   98.557              98.557\n",
       "manual                7    1.443             100.000"
      ]
     },
     "execution_count": 16,
     "metadata": {},
     "output_type": "execute_result"
    }
   ],
   "source": [
    "# check frequency by transmission\n",
    "freq = data.groupby(\"transmission\").agg(frequency=(\"type\", \"size\"))\n",
    "freq[\"percent\"] = round(freq[\"frequency\"] / sum(freq[\"frequency\"]) * 100, 3)\n",
    "freq[\"cumulative_percent\"] = np.cumsum(freq[\"percent\"])\n",
    "freq"
   ]
  },
  {
   "cell_type": "code",
   "execution_count": 17,
   "metadata": {
    "tags": []
   },
   "outputs": [],
   "source": [
    "data = data[~(data.transmission == \"manual\")]"
   ]
  },
  {
   "cell_type": "code",
   "execution_count": 18,
   "metadata": {
    "tags": []
   },
   "outputs": [
    {
     "data": {
      "text/html": [
       "<div>\n",
       "<style scoped>\n",
       "    .dataframe tbody tr th:only-of-type {\n",
       "        vertical-align: middle;\n",
       "    }\n",
       "\n",
       "    .dataframe tbody tr th {\n",
       "        vertical-align: top;\n",
       "    }\n",
       "\n",
       "    .dataframe thead th {\n",
       "        text-align: right;\n",
       "    }\n",
       "</style>\n",
       "<table border=\"1\" class=\"dataframe\">\n",
       "  <thead>\n",
       "    <tr style=\"text-align: right;\">\n",
       "      <th></th>\n",
       "      <th>frequency</th>\n",
       "      <th>percent</th>\n",
       "      <th>cumulative_percent</th>\n",
       "    </tr>\n",
       "    <tr>\n",
       "      <th>type</th>\n",
       "      <th></th>\n",
       "      <th></th>\n",
       "      <th></th>\n",
       "    </tr>\n",
       "  </thead>\n",
       "  <tbody>\n",
       "    <tr>\n",
       "      <th>Missing</th>\n",
       "      <td>223</td>\n",
       "      <td>46.653</td>\n",
       "      <td>46.653</td>\n",
       "    </tr>\n",
       "    <tr>\n",
       "      <th>SUV</th>\n",
       "      <td>1</td>\n",
       "      <td>0.209</td>\n",
       "      <td>46.862</td>\n",
       "    </tr>\n",
       "    <tr>\n",
       "      <th>convertible</th>\n",
       "      <td>6</td>\n",
       "      <td>1.255</td>\n",
       "      <td>48.117</td>\n",
       "    </tr>\n",
       "    <tr>\n",
       "      <th>coupe</th>\n",
       "      <td>19</td>\n",
       "      <td>3.975</td>\n",
       "      <td>52.092</td>\n",
       "    </tr>\n",
       "    <tr>\n",
       "      <th>pickup</th>\n",
       "      <td>1</td>\n",
       "      <td>0.209</td>\n",
       "      <td>52.301</td>\n",
       "    </tr>\n",
       "    <tr>\n",
       "      <th>sedan</th>\n",
       "      <td>227</td>\n",
       "      <td>47.490</td>\n",
       "      <td>99.791</td>\n",
       "    </tr>\n",
       "    <tr>\n",
       "      <th>wagon</th>\n",
       "      <td>1</td>\n",
       "      <td>0.209</td>\n",
       "      <td>100.000</td>\n",
       "    </tr>\n",
       "  </tbody>\n",
       "</table>\n",
       "</div>"
      ],
      "text/plain": [
       "             frequency  percent  cumulative_percent\n",
       "type                                               \n",
       "Missing            223   46.653              46.653\n",
       "SUV                  1    0.209              46.862\n",
       "convertible          6    1.255              48.117\n",
       "coupe               19    3.975              52.092\n",
       "pickup               1    0.209              52.301\n",
       "sedan              227   47.490              99.791\n",
       "wagon                1    0.209             100.000"
      ]
     },
     "execution_count": 18,
     "metadata": {},
     "output_type": "execute_result"
    }
   ],
   "source": [
    "# check frequency by transmission\n",
    "freq = data.groupby(\"type\").agg(frequency=(\"type\", \"size\"))\n",
    "freq[\"percent\"] = round(freq[\"frequency\"] / sum(freq[\"frequency\"]) * 100, 3)\n",
    "freq[\"cumulative_percent\"] = np.cumsum(freq[\"percent\"])\n",
    "freq\n"
   ]
  },
  {
   "cell_type": "code",
   "execution_count": 19,
   "metadata": {
    "tags": []
   },
   "outputs": [],
   "source": [
    "# drop if truck\n",
    "data = data[~(data.type == \"truck\")]\n",
    "# drop pricestr\n",
    "data = data.drop([\"pricestr\"], axis=1)"
   ]
  },
  {
   "cell_type": "markdown",
   "metadata": {},
   "source": [
    "### Feature Engineering"
   ]
  },
  {
   "cell_type": "code",
   "execution_count": 20,
   "metadata": {
    "tags": []
   },
   "outputs": [],
   "source": [
    "# condition\n",
    "data[\"cond_excellent\"] = np.where(data[\"condition\"] == \"excellent\", 1, 0)\n",
    "data[\"cond_good\"] = np.where(data[\"condition\"] == \"good\", 1, 0)\n",
    "data[\"cond_likenew\"] = np.where(data[\"condition\"] == \"like new\", 1, 0)"
   ]
  },
  {
   "cell_type": "code",
   "execution_count": 21,
   "metadata": {
    "tags": []
   },
   "outputs": [],
   "source": [
    "# cylinders\n",
    "data[\"cylind6\"] = np.where(data[\"cylinders\"] == \"6 cylinders\", 1, 0)"
   ]
  },
  {
   "cell_type": "code",
   "execution_count": 22,
   "metadata": {
    "tags": []
   },
   "outputs": [
    {
     "data": {
      "text/plain": [
       "cylinders\n",
       "4 cylinders    248\n",
       "Missing        169\n",
       "6 cylinders     59\n",
       "other            1\n",
       "8 cylinders      1\n",
       "Name: count, dtype: int64"
      ]
     },
     "execution_count": 22,
     "metadata": {},
     "output_type": "execute_result"
    }
   ],
   "source": [
    "data.cylinders.value_counts()"
   ]
  },
  {
   "cell_type": "code",
   "execution_count": 23,
   "metadata": {
    "tags": []
   },
   "outputs": [
    {
     "data": {
      "text/plain": [
       "cylind6\n",
       "0    419\n",
       "1     59\n",
       "Name: count, dtype: int64"
      ]
     },
     "execution_count": 23,
     "metadata": {},
     "output_type": "execute_result"
    }
   ],
   "source": [
    "data.cylind6.value_counts()"
   ]
  },
  {
   "cell_type": "code",
   "execution_count": 24,
   "metadata": {
    "tags": []
   },
   "outputs": [],
   "source": [
    "# age: quadratic, cubic\n",
    "data[\"agesq\"] = data[\"age\"] ** 2\n",
    "data[\"agecu\"] = data[\"age\"] ** 3"
   ]
  },
  {
   "cell_type": "code",
   "execution_count": 25,
   "metadata": {
    "tags": []
   },
   "outputs": [],
   "source": [
    "# odometer quadratic\n",
    "data[\"odometersq\"] = data[\"odometer\"] ** 2"
   ]
  },
  {
   "cell_type": "markdown",
   "metadata": {},
   "source": [
    "### Frequency tables"
   ]
  },
  {
   "cell_type": "code",
   "execution_count": 26,
   "metadata": {
    "tags": []
   },
   "outputs": [
    {
     "data": {
      "text/html": [
       "<div>\n",
       "<style scoped>\n",
       "    .dataframe tbody tr th:only-of-type {\n",
       "        vertical-align: middle;\n",
       "    }\n",
       "\n",
       "    .dataframe tbody tr th {\n",
       "        vertical-align: top;\n",
       "    }\n",
       "\n",
       "    .dataframe thead th {\n",
       "        text-align: right;\n",
       "    }\n",
       "</style>\n",
       "<table border=\"1\" class=\"dataframe\">\n",
       "  <thead>\n",
       "    <tr style=\"text-align: right;\">\n",
       "      <th></th>\n",
       "      <th>frequency</th>\n",
       "      <th>mean</th>\n",
       "    </tr>\n",
       "    <tr>\n",
       "      <th>area</th>\n",
       "      <th></th>\n",
       "      <th></th>\n",
       "    </tr>\n",
       "  </thead>\n",
       "  <tbody>\n",
       "    <tr>\n",
       "      <th>chicago</th>\n",
       "      <td>281</td>\n",
       "      <td>6060.975089</td>\n",
       "    </tr>\n",
       "    <tr>\n",
       "      <th>los angeles</th>\n",
       "      <td>197</td>\n",
       "      <td>5518.253807</td>\n",
       "    </tr>\n",
       "  </tbody>\n",
       "</table>\n",
       "</div>"
      ],
      "text/plain": [
       "             frequency         mean\n",
       "area                               \n",
       "chicago            281  6060.975089\n",
       "los angeles        197  5518.253807"
      ]
     },
     "execution_count": 26,
     "metadata": {},
     "output_type": "execute_result"
    }
   ],
   "source": [
    "# area\n",
    "data.groupby(\"area\").agg(frequency=(\"price\", 'size'), mean=(\"price\", np.mean))"
   ]
  },
  {
   "cell_type": "markdown",
   "metadata": {},
   "source": [
    "Another way to calculate multiple aggregations:"
   ]
  },
  {
   "cell_type": "code",
   "execution_count": 27,
   "metadata": {
    "tags": []
   },
   "outputs": [
    {
     "data": {
      "text/html": [
       "<div>\n",
       "<style scoped>\n",
       "    .dataframe tbody tr th:only-of-type {\n",
       "        vertical-align: middle;\n",
       "    }\n",
       "\n",
       "    .dataframe tbody tr th {\n",
       "        vertical-align: top;\n",
       "    }\n",
       "\n",
       "    .dataframe thead tr th {\n",
       "        text-align: left;\n",
       "    }\n",
       "\n",
       "    .dataframe thead tr:last-of-type th {\n",
       "        text-align: right;\n",
       "    }\n",
       "</style>\n",
       "<table border=\"1\" class=\"dataframe\">\n",
       "  <thead>\n",
       "    <tr>\n",
       "      <th></th>\n",
       "      <th colspan=\"2\" halign=\"left\">price</th>\n",
       "    </tr>\n",
       "    <tr>\n",
       "      <th></th>\n",
       "      <th>count</th>\n",
       "      <th>mean</th>\n",
       "    </tr>\n",
       "    <tr>\n",
       "      <th>area</th>\n",
       "      <th></th>\n",
       "      <th></th>\n",
       "    </tr>\n",
       "  </thead>\n",
       "  <tbody>\n",
       "    <tr>\n",
       "      <th>chicago</th>\n",
       "      <td>281</td>\n",
       "      <td>6060.975089</td>\n",
       "    </tr>\n",
       "    <tr>\n",
       "      <th>los angeles</th>\n",
       "      <td>197</td>\n",
       "      <td>5518.253807</td>\n",
       "    </tr>\n",
       "  </tbody>\n",
       "</table>\n",
       "</div>"
      ],
      "text/plain": [
       "            price             \n",
       "            count         mean\n",
       "area                          \n",
       "chicago       281  6060.975089\n",
       "los angeles   197  5518.253807"
      ]
     },
     "execution_count": 27,
     "metadata": {},
     "output_type": "execute_result"
    }
   ],
   "source": [
    "# area\n",
    "data.groupby(\"area\").agg({'price': ['count', 'mean']})"
   ]
  },
  {
   "cell_type": "code",
   "execution_count": 28,
   "metadata": {
    "tags": []
   },
   "outputs": [],
   "source": [
    "# focus only on Chicago\n",
    "data = data[data.area == \"chicago\"]"
   ]
  },
  {
   "cell_type": "code",
   "execution_count": 29,
   "metadata": {
    "tags": []
   },
   "outputs": [
    {
     "data": {
      "text/html": [
       "<div>\n",
       "<style scoped>\n",
       "    .dataframe tbody tr th:only-of-type {\n",
       "        vertical-align: middle;\n",
       "    }\n",
       "\n",
       "    .dataframe tbody tr th {\n",
       "        vertical-align: top;\n",
       "    }\n",
       "\n",
       "    .dataframe thead th {\n",
       "        text-align: right;\n",
       "    }\n",
       "</style>\n",
       "<table border=\"1\" class=\"dataframe\">\n",
       "  <thead>\n",
       "    <tr style=\"text-align: right;\">\n",
       "      <th></th>\n",
       "      <th>frequency</th>\n",
       "      <th>mean</th>\n",
       "    </tr>\n",
       "    <tr>\n",
       "      <th>condition</th>\n",
       "      <th></th>\n",
       "      <th></th>\n",
       "    </tr>\n",
       "  </thead>\n",
       "  <tbody>\n",
       "    <tr>\n",
       "      <th>Missing</th>\n",
       "      <td>124</td>\n",
       "      <td>6611.161290</td>\n",
       "    </tr>\n",
       "    <tr>\n",
       "      <th>excellent</th>\n",
       "      <td>75</td>\n",
       "      <td>6724.186667</td>\n",
       "    </tr>\n",
       "    <tr>\n",
       "      <th>good</th>\n",
       "      <td>67</td>\n",
       "      <td>3988.179104</td>\n",
       "    </tr>\n",
       "    <tr>\n",
       "      <th>like new</th>\n",
       "      <td>15</td>\n",
       "      <td>7455.200000</td>\n",
       "    </tr>\n",
       "  </tbody>\n",
       "</table>\n",
       "</div>"
      ],
      "text/plain": [
       "           frequency         mean\n",
       "condition                        \n",
       "Missing          124  6611.161290\n",
       "excellent         75  6724.186667\n",
       "good              67  3988.179104\n",
       "like new          15  7455.200000"
      ]
     },
     "execution_count": 29,
     "metadata": {},
     "output_type": "execute_result"
    }
   ],
   "source": [
    "# condition\n",
    "data.groupby(\"condition\").agg(frequency=(\"price\", \"size\"), mean=(\"price\", np.mean))"
   ]
  },
  {
   "cell_type": "code",
   "execution_count": 30,
   "metadata": {
    "tags": []
   },
   "outputs": [
    {
     "data": {
      "text/html": [
       "<div>\n",
       "<style scoped>\n",
       "    .dataframe tbody tr th:only-of-type {\n",
       "        vertical-align: middle;\n",
       "    }\n",
       "\n",
       "    .dataframe tbody tr th {\n",
       "        vertical-align: top;\n",
       "    }\n",
       "\n",
       "    .dataframe thead th {\n",
       "        text-align: right;\n",
       "    }\n",
       "</style>\n",
       "<table border=\"1\" class=\"dataframe\">\n",
       "  <thead>\n",
       "    <tr style=\"text-align: right;\">\n",
       "      <th></th>\n",
       "      <th>frequency</th>\n",
       "      <th>mean</th>\n",
       "    </tr>\n",
       "    <tr>\n",
       "      <th>drive</th>\n",
       "      <th></th>\n",
       "      <th></th>\n",
       "    </tr>\n",
       "  </thead>\n",
       "  <tbody>\n",
       "    <tr>\n",
       "      <th>4wd</th>\n",
       "      <td>4</td>\n",
       "      <td>10168.750000</td>\n",
       "    </tr>\n",
       "    <tr>\n",
       "      <th>Missing</th>\n",
       "      <td>106</td>\n",
       "      <td>4575.094340</td>\n",
       "    </tr>\n",
       "    <tr>\n",
       "      <th>fwd</th>\n",
       "      <td>169</td>\n",
       "      <td>6893.485207</td>\n",
       "    </tr>\n",
       "    <tr>\n",
       "      <th>rwd</th>\n",
       "      <td>2</td>\n",
       "      <td>6250.000000</td>\n",
       "    </tr>\n",
       "  </tbody>\n",
       "</table>\n",
       "</div>"
      ],
      "text/plain": [
       "         frequency          mean\n",
       "drive                           \n",
       "4wd              4  10168.750000\n",
       "Missing        106   4575.094340\n",
       "fwd            169   6893.485207\n",
       "rwd              2   6250.000000"
      ]
     },
     "execution_count": 30,
     "metadata": {},
     "output_type": "execute_result"
    }
   ],
   "source": [
    "# drive\n",
    "data.groupby(\"drive\").agg(frequency=(\"price\", \"size\"), mean=(\"price\", np.mean))"
   ]
  },
  {
   "cell_type": "code",
   "execution_count": 31,
   "metadata": {
    "tags": []
   },
   "outputs": [
    {
     "data": {
      "text/html": [
       "<div>\n",
       "<style scoped>\n",
       "    .dataframe tbody tr th:only-of-type {\n",
       "        vertical-align: middle;\n",
       "    }\n",
       "\n",
       "    .dataframe tbody tr th {\n",
       "        vertical-align: top;\n",
       "    }\n",
       "\n",
       "    .dataframe thead th {\n",
       "        text-align: right;\n",
       "    }\n",
       "</style>\n",
       "<table border=\"1\" class=\"dataframe\">\n",
       "  <thead>\n",
       "    <tr style=\"text-align: right;\">\n",
       "      <th></th>\n",
       "      <th>frequency</th>\n",
       "      <th>mean</th>\n",
       "    </tr>\n",
       "    <tr>\n",
       "      <th>dealer</th>\n",
       "      <th></th>\n",
       "      <th></th>\n",
       "    </tr>\n",
       "  </thead>\n",
       "  <tbody>\n",
       "    <tr>\n",
       "      <th>0</th>\n",
       "      <td>193</td>\n",
       "      <td>4402.181347</td>\n",
       "    </tr>\n",
       "    <tr>\n",
       "      <th>1</th>\n",
       "      <td>88</td>\n",
       "      <td>9699.011364</td>\n",
       "    </tr>\n",
       "  </tbody>\n",
       "</table>\n",
       "</div>"
      ],
      "text/plain": [
       "        frequency         mean\n",
       "dealer                        \n",
       "0             193  4402.181347\n",
       "1              88  9699.011364"
      ]
     },
     "execution_count": 31,
     "metadata": {},
     "output_type": "execute_result"
    }
   ],
   "source": [
    "# dealer\n",
    "data.groupby(\"dealer\").agg(frequency=(\"price\", \"size\"), mean=(\"price\", np.mean))"
   ]
  },
  {
   "cell_type": "code",
   "execution_count": 32,
   "metadata": {
    "tags": []
   },
   "outputs": [
    {
     "data": {
      "text/html": [
       "<div>\n",
       "<style scoped>\n",
       "    .dataframe tbody tr th:only-of-type {\n",
       "        vertical-align: middle;\n",
       "    }\n",
       "\n",
       "    .dataframe tbody tr th {\n",
       "        vertical-align: top;\n",
       "    }\n",
       "\n",
       "    .dataframe thead th {\n",
       "        text-align: right;\n",
       "    }\n",
       "</style>\n",
       "<table border=\"1\" class=\"dataframe\">\n",
       "  <thead>\n",
       "    <tr style=\"text-align: right;\">\n",
       "      <th></th>\n",
       "      <th>count</th>\n",
       "      <th>mean</th>\n",
       "      <th>std</th>\n",
       "      <th>min</th>\n",
       "      <th>25%</th>\n",
       "      <th>50%</th>\n",
       "      <th>75%</th>\n",
       "      <th>max</th>\n",
       "    </tr>\n",
       "  </thead>\n",
       "  <tbody>\n",
       "    <tr>\n",
       "      <th>age</th>\n",
       "      <td>281.0</td>\n",
       "      <td>12.298932</td>\n",
       "      <td>5.892153</td>\n",
       "      <td>1.0000</td>\n",
       "      <td>7.00</td>\n",
       "      <td>13.0000</td>\n",
       "      <td>17.00</td>\n",
       "      <td>27.0</td>\n",
       "    </tr>\n",
       "    <tr>\n",
       "      <th>odometer</th>\n",
       "      <td>281.0</td>\n",
       "      <td>12.521702</td>\n",
       "      <td>5.172572</td>\n",
       "      <td>0.2319</td>\n",
       "      <td>8.14</td>\n",
       "      <td>13.6559</td>\n",
       "      <td>16.43</td>\n",
       "      <td>25.3</td>\n",
       "    </tr>\n",
       "    <tr>\n",
       "      <th>LE</th>\n",
       "      <td>281.0</td>\n",
       "      <td>0.192171</td>\n",
       "      <td>0.394710</td>\n",
       "      <td>0.0000</td>\n",
       "      <td>0.00</td>\n",
       "      <td>0.0000</td>\n",
       "      <td>0.00</td>\n",
       "      <td>1.0</td>\n",
       "    </tr>\n",
       "    <tr>\n",
       "      <th>XLE</th>\n",
       "      <td>281.0</td>\n",
       "      <td>0.071174</td>\n",
       "      <td>0.257575</td>\n",
       "      <td>0.0000</td>\n",
       "      <td>0.00</td>\n",
       "      <td>0.0000</td>\n",
       "      <td>0.00</td>\n",
       "      <td>1.0</td>\n",
       "    </tr>\n",
       "    <tr>\n",
       "      <th>SE</th>\n",
       "      <td>281.0</td>\n",
       "      <td>0.064057</td>\n",
       "      <td>0.245291</td>\n",
       "      <td>0.0000</td>\n",
       "      <td>0.00</td>\n",
       "      <td>0.0000</td>\n",
       "      <td>0.00</td>\n",
       "      <td>1.0</td>\n",
       "    </tr>\n",
       "    <tr>\n",
       "      <th>cond_likenew</th>\n",
       "      <td>281.0</td>\n",
       "      <td>0.053381</td>\n",
       "      <td>0.225193</td>\n",
       "      <td>0.0000</td>\n",
       "      <td>0.00</td>\n",
       "      <td>0.0000</td>\n",
       "      <td>0.00</td>\n",
       "      <td>1.0</td>\n",
       "    </tr>\n",
       "    <tr>\n",
       "      <th>cond_excellent</th>\n",
       "      <td>281.0</td>\n",
       "      <td>0.266904</td>\n",
       "      <td>0.443131</td>\n",
       "      <td>0.0000</td>\n",
       "      <td>0.00</td>\n",
       "      <td>0.0000</td>\n",
       "      <td>1.00</td>\n",
       "      <td>1.0</td>\n",
       "    </tr>\n",
       "    <tr>\n",
       "      <th>cond_good</th>\n",
       "      <td>281.0</td>\n",
       "      <td>0.238434</td>\n",
       "      <td>0.426886</td>\n",
       "      <td>0.0000</td>\n",
       "      <td>0.00</td>\n",
       "      <td>0.0000</td>\n",
       "      <td>0.00</td>\n",
       "      <td>1.0</td>\n",
       "    </tr>\n",
       "    <tr>\n",
       "      <th>cylind6</th>\n",
       "      <td>281.0</td>\n",
       "      <td>0.145907</td>\n",
       "      <td>0.353643</td>\n",
       "      <td>0.0000</td>\n",
       "      <td>0.00</td>\n",
       "      <td>0.0000</td>\n",
       "      <td>0.00</td>\n",
       "      <td>1.0</td>\n",
       "    </tr>\n",
       "  </tbody>\n",
       "</table>\n",
       "</div>"
      ],
      "text/plain": [
       "                count       mean       std     min   25%      50%    75%   max\n",
       "age             281.0  12.298932  5.892153  1.0000  7.00  13.0000  17.00  27.0\n",
       "odometer        281.0  12.521702  5.172572  0.2319  8.14  13.6559  16.43  25.3\n",
       "LE              281.0   0.192171  0.394710  0.0000  0.00   0.0000   0.00   1.0\n",
       "XLE             281.0   0.071174  0.257575  0.0000  0.00   0.0000   0.00   1.0\n",
       "SE              281.0   0.064057  0.245291  0.0000  0.00   0.0000   0.00   1.0\n",
       "cond_likenew    281.0   0.053381  0.225193  0.0000  0.00   0.0000   0.00   1.0\n",
       "cond_excellent  281.0   0.266904  0.443131  0.0000  0.00   0.0000   1.00   1.0\n",
       "cond_good       281.0   0.238434  0.426886  0.0000  0.00   0.0000   0.00   1.0\n",
       "cylind6         281.0   0.145907  0.353643  0.0000  0.00   0.0000   0.00   1.0"
      ]
     },
     "execution_count": 32,
     "metadata": {},
     "output_type": "execute_result"
    }
   ],
   "source": [
    "# data summary\n",
    "data[[\n",
    "    \"age\",\n",
    "    \"odometer\",\n",
    "    \"LE\",\n",
    "    \"XLE\",\n",
    "    \"SE\",\n",
    "    \"cond_likenew\",\n",
    "    \"cond_excellent\",\n",
    "    \"cond_good\",\n",
    "    \"cylind6\",\n",
    "    ]].describe().T"
   ]
  },
  {
   "cell_type": "markdown",
   "metadata": {},
   "source": [
    "### Charts\n",
    "\n",
    "We are using multiple ways to plot certain charts in this notebook. Python's primary plotting library is `matplotlib`(https://matplotlib.org/), which is very straightforward to start with but can easily be overwhelming when it comes to intricacies. A good intro can be found [here](https://fritz.ai/introduction-to-matplotlib-data-visualization-in-python/). \n",
    "\n",
    "There are multiple other plotting tools and libraries, most of which are some sort of wrapper around `matplotlib`. `seaborn` is a library for [analytical and statistical graphics](https://seaborn.pydata.org/tutorial/introduction.html), but sometimes it is sufficient to use `Pandas` `plot()` method for quick and simple charts.\n",
    "\n",
    "`R`, one of the data science & analytics alternatives for Python, is famous for its `ggplot` package which has been implemented in Python under the name `plotnine`. The syntaxes for building plotnine charts are almost the same as in `ggplot`. "
   ]
  },
  {
   "cell_type": "code",
   "execution_count": 33,
   "metadata": {
    "tags": []
   },
   "outputs": [],
   "source": [
    "# For certain charts, we need to sort values by age\n",
    "\n",
    "data.sort_values(by = 'age', inplace = True)"
   ]
  },
  {
   "cell_type": "code",
   "execution_count": 34,
   "metadata": {
    "tags": []
   },
   "outputs": [
    {
     "data": {
      "image/png": "[encoded data removed]",
      "text/plain": [
       "<Figure size 640x480 with 1 Axes>"
      ]
     },
     "metadata": {
      "image/png": {
       "height": 480,
       "width": 640
      }
     },
     "output_type": "display_data"
    },
    {
     "data": {
      "text/plain": [
       "<Figure Size: (640 x 480)>"
      ]
     },
     "execution_count": 34,
     "metadata": {},
     "output_type": "execute_result"
    }
   ],
   "source": [
    "# using plotnine\n",
    "ggplot(data, aes(x=\"price\")) + geom_histogram(\n",
    "    aes(y=\"(stat(count))/sum(stat(count))\"),\n",
    "    binwidth=1000,\n",
    "    boundary=0,\n",
    "    fill=\"black\",\n",
    "    size=0.25,\n",
    "    alpha=0.8,\n",
    "    show_legend=False,\n",
    "    na_rm=True,\n",
    ") + coord_cartesian(xlim=(0, 20000)) + labs(\n",
    "    x=\"Price (US dollars)\", y=\"Percent\"\n",
    ") + theme_bw() + expand_limits(\n",
    "    x=0.01, y=0.01\n",
    ") + scale_y_continuous(\n",
    "    expand=(0.01, 0.01), labels=percent_format()\n",
    ") + scale_x_continuous(\n",
    "    expand=(0.01, 0.01), breaks=np.arange(0, 20001, 2500)\n",
    ")\n"
   ]
  },
  {
   "cell_type": "code",
   "execution_count": 35,
   "metadata": {
    "tags": []
   },
   "outputs": [
    {
     "data": {
      "image/png": "[encoded data removed]",
      "text/plain": [
       "<Figure size 1000x600 with 1 Axes>"
      ]
     },
     "metadata": {
      "image/png": {
       "height": 600,
       "width": 1000
      }
     },
     "output_type": "display_data"
    }
   ],
   "source": [
    "# using Pandas plot()\n",
    "# tedious to plot relative frequencies\n",
    "data.plot(\n",
    "    kind = 'hist', figsize = (10,6),\n",
    "    y = 'price', bins = range(0, data.price.max(), 1000),\n",
    "    xticks = range(0, data.price.max(), 2000),\n",
    "    rwidth = 0.9, legend = False, \n",
    "    xlabel = 'price in USD', title = 'Absolute frequency by prices')\n",
    "plt.show();"
   ]
  },
  {
   "cell_type": "code",
   "execution_count": 36,
   "metadata": {
    "tags": []
   },
   "outputs": [
    {
     "data": {
      "image/png": "[encoded data removed]",
      "text/plain": [
       "<Figure size 1000x600 with 1 Axes>"
      ]
     },
     "metadata": {
      "image/png": {
       "height": 600,
       "width": 1000
      }
     },
     "output_type": "display_data"
    }
   ],
   "source": [
    "# relative frequencies with matplotlib\n",
    "from matplotlib.ticker import PercentFormatter\n",
    "fig = plt.figure(figsize = (10,6))\n",
    "ax = fig.add_subplot(111)\n",
    "ax.hist(data.price,range(0, data.price.max(), 1000), density = True, rwidth = 0.9, color = 'steelblue')\n",
    "ax.set_xticks(range(0, data.price.max(), 2000))\n",
    "ax.set_xlabel('price in USD')\n",
    "ax.yaxis.set_major_formatter(PercentFormatter(xmax=0.001, decimals = 0))\n",
    "ax.set_title('Relative frequency of car prices')\n",
    "plt.show()"
   ]
  },
  {
   "cell_type": "code",
   "execution_count": 37,
   "metadata": {
    "tags": []
   },
   "outputs": [
    {
     "data": {
      "image/png": "[encoded data removed]",
      "text/plain": [
       "<Figure size 640x480 with 1 Axes>"
      ]
     },
     "metadata": {
      "image/png": {
       "height": 480,
       "width": 640
      }
     },
     "output_type": "display_data"
    },
    {
     "data": {
      "text/plain": [
       "<Figure Size: (640 x 480)>"
      ]
     },
     "execution_count": 37,
     "metadata": {},
     "output_type": "execute_result"
    }
   ],
   "source": [
    "ggplot(data, aes(x=\"lnprice\")) + geom_histogram(\n",
    "    aes(y=\"(stat(count)) / sum(stat(count))\"),\n",
    "    binwidth=0.2,\n",
    "    boundary=0,\n",
    "    fill=\"black\",\n",
    "    size=0.25,\n",
    "    alpha=0.8,\n",
    "    show_legend=False,\n",
    "    na_rm=True,\n",
    ") + coord_cartesian(xlim=(6, 10)) + labs(\n",
    "    x=\"ln(Price, US dollars)\", y=\"Percent\"\n",
    ") + expand_limits(\n",
    "    x=0.01, y=0.01\n",
    ") + scale_y_continuous(\n",
    "    expand=(0.01, 0.01), labels=percent_format()\n",
    ") + scale_x_continuous(\n",
    "    expand=(0.01, 0.01), breaks=np.arange(6, 10, 1)\n",
    ") + theme_bw()"
   ]
  },
  {
   "cell_type": "code",
   "execution_count": 38,
   "metadata": {
    "tags": []
   },
   "outputs": [
    {
     "data": {
      "image/png": "[encoded data removed]",
      "text/plain": [
       "<Figure size 1000x600 with 1 Axes>"
      ]
     },
     "metadata": {
      "image/png": {
       "height": 600,
       "width": 1000
      }
     },
     "output_type": "display_data"
    }
   ],
   "source": [
    "# using Pandas plot()\n",
    "data.plot(\n",
    "    kind = 'hist', figsize = (10,6),\n",
    "    y = 'lnprice', \n",
    "    bins = 18,\n",
    "    rwidth = 0.9, legend = False, \n",
    "    xlabel = 'log price in USD', title = 'Frequency by log prices')\n",
    "plt.show();"
   ]
  },
  {
   "cell_type": "markdown",
   "metadata": {},
   "source": [
    "### Regression analysis - lo(w)ess\n",
    "\n",
    "We start with *loess* using first `ggplot` then `seaborn`. "
   ]
  },
  {
   "cell_type": "code",
   "execution_count": 39,
   "metadata": {
    "tags": []
   },
   "outputs": [
    {
     "ename": "NameError",
     "evalue": "name 'color' is not defined",
     "output_type": "error",
     "traceback": [
      "\u001b[1;31m---------------------------------------------------------------------------\u001b[0m",
      "\u001b[1;31mNameError\u001b[0m                                 Traceback (most recent call last)",
      "Cell \u001b[1;32mIn[39], line 3\u001b[0m\n\u001b[0;32m      1\u001b[0m \u001b[38;5;66;03m#lowess with ggplot\u001b[39;00m\n\u001b[0;32m      2\u001b[0m ggplot(data, aes(x\u001b[38;5;241m=\u001b[39m\u001b[38;5;124m\"\u001b[39m\u001b[38;5;124mage\u001b[39m\u001b[38;5;124m\"\u001b[39m, y\u001b[38;5;241m=\u001b[39m\u001b[38;5;124m\"\u001b[39m\u001b[38;5;124mprice\u001b[39m\u001b[38;5;124m\"\u001b[39m)) \u001b[38;5;241m+\u001b[39m geom_point(\n\u001b[1;32m----> 3\u001b[0m     color\u001b[38;5;241m=\u001b[39mcolor[\u001b[38;5;241m0\u001b[39m], size\u001b[38;5;241m=\u001b[39m\u001b[38;5;241m1\u001b[39m, alpha\u001b[38;5;241m=\u001b[39m\u001b[38;5;241m0.8\u001b[39m, show_legend\u001b[38;5;241m=\u001b[39m\u001b[38;5;28;01mFalse\u001b[39;00m, na_rm\u001b[38;5;241m=\u001b[39m\u001b[38;5;28;01mTrue\u001b[39;00m\n\u001b[0;32m      4\u001b[0m ) \u001b[38;5;241m+\u001b[39m geom_smooth(method\u001b[38;5;241m=\u001b[39m\u001b[38;5;124m\"\u001b[39m\u001b[38;5;124mloess\u001b[39m\u001b[38;5;124m\"\u001b[39m, se\u001b[38;5;241m=\u001b[39m\u001b[38;5;28;01mFalse\u001b[39;00m, colour\u001b[38;5;241m=\u001b[39mcolor[\u001b[38;5;241m0\u001b[39m], size\u001b[38;5;241m=\u001b[39m\u001b[38;5;241m1\u001b[39m, span\u001b[38;5;241m=\u001b[39m\u001b[38;5;241m0.9\u001b[39m) \u001b[38;5;241m+\u001b[39m labs(\n\u001b[0;32m      5\u001b[0m     x\u001b[38;5;241m=\u001b[39m\u001b[38;5;124m\"\u001b[39m\u001b[38;5;124mAge (years)\u001b[39m\u001b[38;5;124m\"\u001b[39m, y\u001b[38;5;241m=\u001b[39m\u001b[38;5;124m\"\u001b[39m\u001b[38;5;124mPrice (US dollars)\u001b[39m\u001b[38;5;124m\"\u001b[39m\n\u001b[0;32m      6\u001b[0m ) \u001b[38;5;241m+\u001b[39m theme_bw() \u001b[38;5;241m+\u001b[39m expand_limits(\n\u001b[0;32m      7\u001b[0m     x\u001b[38;5;241m=\u001b[39m\u001b[38;5;241m0.01\u001b[39m, y\u001b[38;5;241m=\u001b[39m\u001b[38;5;241m0.01\u001b[39m\n\u001b[0;32m      8\u001b[0m ) \u001b[38;5;241m+\u001b[39m scale_y_continuous(\n\u001b[0;32m      9\u001b[0m     expand\u001b[38;5;241m=\u001b[39m(\u001b[38;5;241m0.01\u001b[39m, \u001b[38;5;241m0.01\u001b[39m), limits\u001b[38;5;241m=\u001b[39m(\u001b[38;5;241m0\u001b[39m, \u001b[38;5;241m20000\u001b[39m), breaks\u001b[38;5;241m=\u001b[39mseq(\u001b[38;5;241m0\u001b[39m, \u001b[38;5;241m20000\u001b[39m, \u001b[38;5;241m5000\u001b[39m)\n\u001b[0;32m     10\u001b[0m ) \u001b[38;5;241m+\u001b[39m scale_x_continuous(\n\u001b[0;32m     11\u001b[0m     expand\u001b[38;5;241m=\u001b[39m(\u001b[38;5;241m0.01\u001b[39m, \u001b[38;5;241m0.01\u001b[39m), limits\u001b[38;5;241m=\u001b[39m(\u001b[38;5;241m0\u001b[39m, \u001b[38;5;241m30\u001b[39m), breaks\u001b[38;5;241m=\u001b[39mseq(\u001b[38;5;241m0\u001b[39m, \u001b[38;5;241m30\u001b[39m, \u001b[38;5;241m5\u001b[39m)\n\u001b[0;32m     12\u001b[0m )\n",
      "\u001b[1;31mNameError\u001b[0m: name 'color' is not defined"
     ]
    }
   ],
   "source": [
    "#lowess with ggplot\n",
    "ggplot(data, aes(x=\"age\", y=\"price\")) + geom_point(\n",
    "    color=color[0], size=1, alpha=0.8, show_legend=False, na_rm=True\n",
    ") + geom_smooth(method=\"loess\", se=False, colour=color[0], size=1, span=0.9) + labs(\n",
    "    x=\"Age (years)\", y=\"Price (US dollars)\"\n",
    ") + theme_bw() + expand_limits(\n",
    "    x=0.01, y=0.01\n",
    ") + scale_y_continuous(\n",
    "    expand=(0.01, 0.01), limits=(0, 20000), breaks=seq(0, 20000, 5000)\n",
    ") + scale_x_continuous(\n",
    "    expand=(0.01, 0.01), limits=(0, 30), breaks=seq(0, 30, 5)\n",
    ")\n"
   ]
  },
  {
   "cell_type": "markdown",
   "metadata": {},
   "source": [
    "For `seaborn` it’s recommended to use a Jupyter/IPython interface in [matplotlib mode](https://ipython.readthedocs.io/en/stable/interactive/plotting.html) using the `%matplotlib inline` magic command. "
   ]
  },
  {
   "cell_type": "code",
   "execution_count": 40,
   "metadata": {
    "tags": []
   },
   "outputs": [],
   "source": [
    "%matplotlib inline"
   ]
  },
  {
   "cell_type": "code",
   "execution_count": 41,
   "metadata": {
    "tags": []
   },
   "outputs": [
    {
     "data": {
      "image/png": "[encoded data removed]",
      "text/plain": [
       "<Figure size 640x480 with 1 Axes>"
      ]
     },
     "metadata": {
      "image/png": {
       "height": 480,
       "width": 640
      }
     },
     "output_type": "display_data"
    }
   ],
   "source": [
    "sns.regplot(\n",
    "    data = data,\n",
    "    x = 'age', y = 'price', \n",
    "    marker= '.',\n",
    "    fit_reg= True, lowess= True);"
   ]
  },
  {
   "cell_type": "code",
   "execution_count": 42,
   "metadata": {
    "tags": []
   },
   "outputs": [
    {
     "data": {
      "text/html": [
       "<div>\n",
       "<style scoped>\n",
       "    .dataframe tbody tr th:only-of-type {\n",
       "        vertical-align: middle;\n",
       "    }\n",
       "\n",
       "    .dataframe tbody tr th {\n",
       "        vertical-align: top;\n",
       "    }\n",
       "\n",
       "    .dataframe thead th {\n",
       "        text-align: right;\n",
       "    }\n",
       "</style>\n",
       "<table border=\"1\" class=\"dataframe\">\n",
       "  <thead>\n",
       "    <tr style=\"text-align: right;\">\n",
       "      <th></th>\n",
       "      <th>count</th>\n",
       "      <th>mean</th>\n",
       "      <th>std</th>\n",
       "      <th>min</th>\n",
       "      <th>25%</th>\n",
       "      <th>50%</th>\n",
       "      <th>75%</th>\n",
       "      <th>max</th>\n",
       "    </tr>\n",
       "  </thead>\n",
       "  <tbody>\n",
       "    <tr>\n",
       "      <th>odometer</th>\n",
       "      <td>281.0</td>\n",
       "      <td>12.521702</td>\n",
       "      <td>5.172572</td>\n",
       "      <td>0.231900</td>\n",
       "      <td>8.140000</td>\n",
       "      <td>13.655900</td>\n",
       "      <td>16.430000</td>\n",
       "      <td>25.300000</td>\n",
       "    </tr>\n",
       "    <tr>\n",
       "      <th>dealer</th>\n",
       "      <td>281.0</td>\n",
       "      <td>0.313167</td>\n",
       "      <td>0.464609</td>\n",
       "      <td>0.000000</td>\n",
       "      <td>0.000000</td>\n",
       "      <td>0.000000</td>\n",
       "      <td>1.000000</td>\n",
       "      <td>1.000000</td>\n",
       "    </tr>\n",
       "    <tr>\n",
       "      <th>price</th>\n",
       "      <td>281.0</td>\n",
       "      <td>6060.975089</td>\n",
       "      <td>4490.818067</td>\n",
       "      <td>550.000000</td>\n",
       "      <td>2500.000000</td>\n",
       "      <td>4400.000000</td>\n",
       "      <td>8995.000000</td>\n",
       "      <td>18495.000000</td>\n",
       "    </tr>\n",
       "    <tr>\n",
       "      <th>lnprice</th>\n",
       "      <td>281.0</td>\n",
       "      <td>8.410963</td>\n",
       "      <td>0.812821</td>\n",
       "      <td>6.309918</td>\n",
       "      <td>7.824046</td>\n",
       "      <td>8.389359</td>\n",
       "      <td>9.104425</td>\n",
       "      <td>9.825255</td>\n",
       "    </tr>\n",
       "    <tr>\n",
       "      <th>year</th>\n",
       "      <td>281.0</td>\n",
       "      <td>2005.701068</td>\n",
       "      <td>5.892153</td>\n",
       "      <td>1991.000000</td>\n",
       "      <td>2001.000000</td>\n",
       "      <td>2005.000000</td>\n",
       "      <td>2011.000000</td>\n",
       "      <td>2017.000000</td>\n",
       "    </tr>\n",
       "    <tr>\n",
       "      <th>age</th>\n",
       "      <td>281.0</td>\n",
       "      <td>12.298932</td>\n",
       "      <td>5.892153</td>\n",
       "      <td>1.000000</td>\n",
       "      <td>7.000000</td>\n",
       "      <td>13.000000</td>\n",
       "      <td>17.000000</td>\n",
       "      <td>27.000000</td>\n",
       "    </tr>\n",
       "    <tr>\n",
       "      <th>lnodometer</th>\n",
       "      <td>281.0</td>\n",
       "      <td>2.399433</td>\n",
       "      <td>0.590359</td>\n",
       "      <td>-1.461449</td>\n",
       "      <td>2.096790</td>\n",
       "      <td>2.614172</td>\n",
       "      <td>2.799109</td>\n",
       "      <td>3.230804</td>\n",
       "    </tr>\n",
       "    <tr>\n",
       "      <th>LE</th>\n",
       "      <td>281.0</td>\n",
       "      <td>0.192171</td>\n",
       "      <td>0.394710</td>\n",
       "      <td>0.000000</td>\n",
       "      <td>0.000000</td>\n",
       "      <td>0.000000</td>\n",
       "      <td>0.000000</td>\n",
       "      <td>1.000000</td>\n",
       "    </tr>\n",
       "    <tr>\n",
       "      <th>XLE</th>\n",
       "      <td>281.0</td>\n",
       "      <td>0.071174</td>\n",
       "      <td>0.257575</td>\n",
       "      <td>0.000000</td>\n",
       "      <td>0.000000</td>\n",
       "      <td>0.000000</td>\n",
       "      <td>0.000000</td>\n",
       "      <td>1.000000</td>\n",
       "    </tr>\n",
       "    <tr>\n",
       "      <th>SE</th>\n",
       "      <td>281.0</td>\n",
       "      <td>0.064057</td>\n",
       "      <td>0.245291</td>\n",
       "      <td>0.000000</td>\n",
       "      <td>0.000000</td>\n",
       "      <td>0.000000</td>\n",
       "      <td>0.000000</td>\n",
       "      <td>1.000000</td>\n",
       "    </tr>\n",
       "    <tr>\n",
       "      <th>cond_excellent</th>\n",
       "      <td>281.0</td>\n",
       "      <td>0.266904</td>\n",
       "      <td>0.443131</td>\n",
       "      <td>0.000000</td>\n",
       "      <td>0.000000</td>\n",
       "      <td>0.000000</td>\n",
       "      <td>1.000000</td>\n",
       "      <td>1.000000</td>\n",
       "    </tr>\n",
       "    <tr>\n",
       "      <th>cond_good</th>\n",
       "      <td>281.0</td>\n",
       "      <td>0.238434</td>\n",
       "      <td>0.426886</td>\n",
       "      <td>0.000000</td>\n",
       "      <td>0.000000</td>\n",
       "      <td>0.000000</td>\n",
       "      <td>0.000000</td>\n",
       "      <td>1.000000</td>\n",
       "    </tr>\n",
       "    <tr>\n",
       "      <th>cond_likenew</th>\n",
       "      <td>281.0</td>\n",
       "      <td>0.053381</td>\n",
       "      <td>0.225193</td>\n",
       "      <td>0.000000</td>\n",
       "      <td>0.000000</td>\n",
       "      <td>0.000000</td>\n",
       "      <td>0.000000</td>\n",
       "      <td>1.000000</td>\n",
       "    </tr>\n",
       "    <tr>\n",
       "      <th>cylind6</th>\n",
       "      <td>281.0</td>\n",
       "      <td>0.145907</td>\n",
       "      <td>0.353643</td>\n",
       "      <td>0.000000</td>\n",
       "      <td>0.000000</td>\n",
       "      <td>0.000000</td>\n",
       "      <td>0.000000</td>\n",
       "      <td>1.000000</td>\n",
       "    </tr>\n",
       "    <tr>\n",
       "      <th>agesq</th>\n",
       "      <td>281.0</td>\n",
       "      <td>185.857651</td>\n",
       "      <td>150.578697</td>\n",
       "      <td>1.000000</td>\n",
       "      <td>49.000000</td>\n",
       "      <td>169.000000</td>\n",
       "      <td>289.000000</td>\n",
       "      <td>729.000000</td>\n",
       "    </tr>\n",
       "    <tr>\n",
       "      <th>agecu</th>\n",
       "      <td>281.0</td>\n",
       "      <td>3141.096085</td>\n",
       "      <td>3504.795719</td>\n",
       "      <td>1.000000</td>\n",
       "      <td>343.000000</td>\n",
       "      <td>2197.000000</td>\n",
       "      <td>4913.000000</td>\n",
       "      <td>19683.000000</td>\n",
       "    </tr>\n",
       "    <tr>\n",
       "      <th>odometersq</th>\n",
       "      <td>281.0</td>\n",
       "      <td>183.453306</td>\n",
       "      <td>127.300387</td>\n",
       "      <td>0.053778</td>\n",
       "      <td>66.259600</td>\n",
       "      <td>186.483605</td>\n",
       "      <td>269.944900</td>\n",
       "      <td>640.090000</td>\n",
       "    </tr>\n",
       "  </tbody>\n",
       "</table>\n",
       "</div>"
      ],
      "text/plain": [
       "                count         mean          std          min          25%  \\\n",
       "odometer        281.0    12.521702     5.172572     0.231900     8.140000   \n",
       "dealer          281.0     0.313167     0.464609     0.000000     0.000000   \n",
       "price           281.0  6060.975089  4490.818067   550.000000  2500.000000   \n",
       "lnprice         281.0     8.410963     0.812821     6.309918     7.824046   \n",
       "year            281.0  2005.701068     5.892153  1991.000000  2001.000000   \n",
       "age             281.0    12.298932     5.892153     1.000000     7.000000   \n",
       "lnodometer      281.0     2.399433     0.590359    -1.461449     2.096790   \n",
       "LE              281.0     0.192171     0.394710     0.000000     0.000000   \n",
       "XLE             281.0     0.071174     0.257575     0.000000     0.000000   \n",
       "SE              281.0     0.064057     0.245291     0.000000     0.000000   \n",
       "cond_excellent  281.0     0.266904     0.443131     0.000000     0.000000   \n",
       "cond_good       281.0     0.238434     0.426886     0.000000     0.000000   \n",
       "cond_likenew    281.0     0.053381     0.225193     0.000000     0.000000   \n",
       "cylind6         281.0     0.145907     0.353643     0.000000     0.000000   \n",
       "agesq           281.0   185.857651   150.578697     1.000000    49.000000   \n",
       "agecu           281.0  3141.096085  3504.795719     1.000000   343.000000   \n",
       "odometersq      281.0   183.453306   127.300387     0.053778    66.259600   \n",
       "\n",
       "                        50%          75%           max  \n",
       "odometer          13.655900    16.430000     25.300000  \n",
       "dealer             0.000000     1.000000      1.000000  \n",
       "price           4400.000000  8995.000000  18495.000000  \n",
       "lnprice            8.389359     9.104425      9.825255  \n",
       "year            2005.000000  2011.000000   2017.000000  \n",
       "age               13.000000    17.000000     27.000000  \n",
       "lnodometer         2.614172     2.799109      3.230804  \n",
       "LE                 0.000000     0.000000      1.000000  \n",
       "XLE                0.000000     0.000000      1.000000  \n",
       "SE                 0.000000     0.000000      1.000000  \n",
       "cond_excellent     0.000000     1.000000      1.000000  \n",
       "cond_good          0.000000     0.000000      1.000000  \n",
       "cond_likenew       0.000000     0.000000      1.000000  \n",
       "cylind6            0.000000     0.000000      1.000000  \n",
       "agesq            169.000000   289.000000    729.000000  \n",
       "agecu           2197.000000  4913.000000  19683.000000  \n",
       "odometersq       186.483605   269.944900    640.090000  "
      ]
     },
     "execution_count": 42,
     "metadata": {},
     "output_type": "execute_result"
    }
   ],
   "source": [
    "data.describe().T"
   ]
  },
  {
   "cell_type": "markdown",
   "metadata": {},
   "source": [
    "### Linear regressions"
   ]
  },
  {
   "cell_type": "markdown",
   "metadata": {},
   "source": [
    "Tools: on of the most-known tools data scientists use for predictive analysis is `scikit-learn`. Here, however, we use the `statsmodels` library that allows users to explore data, estimate statistical models, and perform statistical tests. `Scikit-learn` is great for building all kinds of predictive machine learning models, including linear regression, but spends little effort on providing insights into the models themselves. That's why we turn to `statsmodels` instead. "
   ]
  },
  {
   "cell_type": "markdown",
   "metadata": {},
   "source": [
    "#### Model 0: lowess on age\n",
    "\n",
    "Note: the result of a lo(w)ess regression depends on the tools used. The values calculated below will be different compared to those seen on the `seaborn` regplot output."
   ]
  },
  {
   "cell_type": "code",
   "execution_count": 43,
   "metadata": {
    "tags": []
   },
   "outputs": [],
   "source": [
    "lowess = sm.nonparametric.lowess\n",
    "y_hat_lowess = lowess(data.price, data.age)"
   ]
  },
  {
   "cell_type": "code",
   "execution_count": 44,
   "metadata": {
    "tags": []
   },
   "outputs": [
    {
     "data": {
      "text/plain": [
       "array([[1.00000000e+00, 1.64759277e+04],\n",
       "       [1.00000000e+00, 1.64759277e+04],\n",
       "       [1.00000000e+00, 1.64759277e+04],\n",
       "       [1.00000000e+00, 1.64759277e+04],\n",
       "       [2.00000000e+00, 1.53455191e+04],\n",
       "       [2.00000000e+00, 1.53455191e+04],\n",
       "       [2.00000000e+00, 1.53455191e+04],\n",
       "       [2.00000000e+00, 1.53455191e+04],\n",
       "       [3.00000000e+00, 1.42219674e+04],\n",
       "       [3.00000000e+00, 1.42219674e+04]])"
      ]
     },
     "execution_count": 44,
     "metadata": {},
     "output_type": "execute_result"
    }
   ],
   "source": [
    "y_hat_lowess[0:10]"
   ]
  },
  {
   "cell_type": "code",
   "execution_count": 45,
   "metadata": {
    "tags": []
   },
   "outputs": [
    {
     "data": {
      "text/plain": [
       "[16475.927680248376,\n",
       " 16475.927680248376,\n",
       " 16475.927680248376,\n",
       " 16475.927680248376,\n",
       " 15345.519124325241,\n",
       " 15345.519124325241,\n",
       " 15345.519124325241,\n",
       " 15345.519124325241,\n",
       " 14221.96739814394,\n",
       " 14221.96739814394]"
      ]
     },
     "execution_count": 45,
     "metadata": {},
     "output_type": "execute_result"
    }
   ],
   "source": [
    "y_hat_lowess = [x[1] for x in y_hat_lowess]\n",
    "y_hat_lowess[0:10]"
   ]
  },
  {
   "cell_type": "markdown",
   "metadata": {},
   "source": [
    "\n",
    "#### Model 1: Linear regression on age\n",
    "\n",
    "We are building models by adding more and more explanatory variables. "
   ]
  },
  {
   "cell_type": "code",
   "execution_count": 46,
   "metadata": {
    "tags": []
   },
   "outputs": [],
   "source": [
    "reg1 = smf.ols(\"price ~ age + agesq\", data=data).fit(cov_type=\"HC0\")"
   ]
  },
  {
   "cell_type": "code",
   "execution_count": 47,
   "metadata": {
    "tags": []
   },
   "outputs": [
    {
     "data": {
      "text/plain": [
       "statsmodels.regression.linear_model.RegressionResultsWrapper"
      ]
     },
     "execution_count": 47,
     "metadata": {},
     "output_type": "execute_result"
    }
   ],
   "source": [
    "type(reg1)"
   ]
  },
  {
   "cell_type": "code",
   "execution_count": 48,
   "metadata": {
    "tags": []
   },
   "outputs": [
    {
     "name": "stdout",
     "output_type": "stream",
     "text": [
      "                            OLS Regression Results                            \n",
      "==============================================================================\n",
      "Dep. Variable:                  price   R-squared:                       0.847\n",
      "Model:                            OLS   Adj. R-squared:                  0.846\n",
      "Method:                 Least Squares   F-statistic:                     1065.\n",
      "Date:                Sat, 20 Jan 2024   Prob (F-statistic):          4.54e-131\n",
      "Time:                        16:33:16   Log-Likelihood:                -2497.9\n",
      "No. Observations:                 281   AIC:                             5002.\n",
      "Df Residuals:                     278   BIC:                             5013.\n",
      "Df Model:                           2                                         \n",
      "Covariance Type:                  HC1                                         \n",
      "==============================================================================\n",
      "                 coef    std err          z      P>|z|      [0.025      0.975]\n",
      "------------------------------------------------------------------------------\n",
      "Intercept   1.837e+04    353.534     51.948      0.000    1.77e+04    1.91e+04\n",
      "age        -1530.0883     59.643    -25.654      0.000   -1646.987   -1413.190\n",
      "agesq         35.0482      2.314     15.149      0.000      30.514      39.583\n",
      "==============================================================================\n",
      "Omnibus:                       28.320   Durbin-Watson:                   1.817\n",
      "Prob(Omnibus):                  0.000   Jarque-Bera (JB):              121.938\n",
      "Skew:                          -0.193   Prob(JB):                     3.32e-27\n",
      "Kurtosis:                       6.204   Cond. No.                         939.\n",
      "==============================================================================\n",
      "\n",
      "Notes:\n",
      "[1] Standard Errors are heteroscedasticity robust (HC1)\n"
     ]
    }
   ],
   "source": [
    "print(reg1.get_robustcov_results(cov_type='HC1').summary())"
   ]
  },
  {
   "cell_type": "code",
   "execution_count": 49,
   "metadata": {
    "tags": []
   },
   "outputs": [
    {
     "data": {
      "text/plain": [
       "5012.682480750544"
      ]
     },
     "execution_count": 49,
     "metadata": {},
     "output_type": "execute_result"
    }
   ],
   "source": [
    "reg1.bic"
   ]
  },
  {
   "cell_type": "markdown",
   "metadata": {},
   "source": [
    "#### Model 2: We are expanding the base models by adding new explanatory variables"
   ]
  },
  {
   "cell_type": "code",
   "execution_count": 50,
   "metadata": {
    "tags": []
   },
   "outputs": [],
   "source": [
    "reg2 = smf.ols(\"price ~ age + agesq + odometer\", data=data).fit(cov_type=\"HC0\")\n",
    "reg3 = smf.ols(\n",
    "    \"price ~ age + agesq + odometer + odometersq + LE + cond_excellent + cond_good + dealer\",\n",
    "    data=data,\n",
    ").fit(cov_type=\"HC0\")\n",
    "reg4 = smf.ols(\n",
    "    \"price ~ age + agesq + odometer + odometersq + LE + XLE + SE + cond_likenew + cond_excellent + cond_good + cylind6 + dealer\",\n",
    "    data=data,\n",
    ").fit(cov_type=\"HC0\")\n",
    "reg5 = smf.ols(\n",
    "    \"price ~ age + agesq + odometer + odometersq + LE * age + XLE * age + SE * age + cond_likenew * age + cond_excellent * age + cond_good * age + cylind6 * age + odometer * age + dealer * age\",\n",
    "    data=data,\n",
    ").fit(cov_type=\"HC0\")"
   ]
  },
  {
   "cell_type": "code",
   "execution_count": 51,
   "metadata": {
    "tags": []
   },
   "outputs": [
    {
     "name": "stdout",
     "output_type": "stream",
     "text": [
      "\n",
      "Regression: reg1\n",
      "                            OLS Regression Results                            \n",
      "==============================================================================\n",
      "Dep. Variable:                  price   R-squared:                       0.847\n",
      "Model:                            OLS   Adj. R-squared:                  0.846\n",
      "Method:                 Least Squares   F-statistic:                     1065.\n",
      "Date:                Sat, 20 Jan 2024   Prob (F-statistic):          4.54e-131\n",
      "Time:                        16:33:27   Log-Likelihood:                -2497.9\n",
      "No. Observations:                 281   AIC:                             5002.\n",
      "Df Residuals:                     278   BIC:                             5013.\n",
      "Df Model:                           2                                         \n",
      "Covariance Type:                  HC1                                         \n",
      "==============================================================================\n",
      "                 coef    std err          z      P>|z|      [0.025      0.975]\n",
      "------------------------------------------------------------------------------\n",
      "Intercept   1.837e+04    353.534     51.948      0.000    1.77e+04    1.91e+04\n",
      "age        -1530.0883     59.643    -25.654      0.000   -1646.987   -1413.190\n",
      "agesq         35.0482      2.314     15.149      0.000      30.514      39.583\n",
      "==============================================================================\n",
      "Omnibus:                       28.320   Durbin-Watson:                   1.817\n",
      "Prob(Omnibus):                  0.000   Jarque-Bera (JB):              121.938\n",
      "Skew:                          -0.193   Prob(JB):                     3.32e-27\n",
      "Kurtosis:                       6.204   Cond. No.                         939.\n",
      "==============================================================================\n",
      "\n",
      "Notes:\n",
      "[1] Standard Errors are heteroscedasticity robust (HC1)\n",
      "\n",
      "Regression: reg2\n",
      "                            OLS Regression Results                            \n",
      "==============================================================================\n",
      "Dep. Variable:                  price   R-squared:                       0.898\n",
      "Model:                            OLS   Adj. R-squared:                  0.897\n",
      "Method:                 Least Squares   F-statistic:                     1151.\n",
      "Date:                Sat, 20 Jan 2024   Prob (F-statistic):          5.39e-156\n",
      "Time:                        16:33:27   Log-Likelihood:                -2441.0\n",
      "No. Observations:                 281   AIC:                             4890.\n",
      "Df Residuals:                     277   BIC:                             4905.\n",
      "Df Model:                           3                                         \n",
      "Covariance Type:                  HC1                                         \n",
      "==============================================================================\n",
      "                 coef    std err          z      P>|z|      [0.025      0.975]\n",
      "------------------------------------------------------------------------------\n",
      "Intercept   1.886e+04    313.505     60.159      0.000    1.82e+04    1.95e+04\n",
      "age        -1149.2234     70.123    -16.389      0.000   -1286.663   -1011.784\n",
      "agesq         27.6534      2.558     10.811      0.000      22.640      32.667\n",
      "odometer    -303.8405     31.105     -9.768      0.000    -364.805    -242.876\n",
      "==============================================================================\n",
      "Omnibus:                       24.630   Durbin-Watson:                   2.034\n",
      "Prob(Omnibus):                  0.000   Jarque-Bera (JB):               99.721\n",
      "Skew:                          -0.088   Prob(JB):                     2.22e-22\n",
      "Kurtosis:                       5.913   Cond. No.                         946.\n",
      "==============================================================================\n",
      "\n",
      "Notes:\n",
      "[1] Standard Errors are heteroscedasticity robust (HC1)\n",
      "\n",
      "Regression: reg3\n",
      "                            OLS Regression Results                            \n",
      "==============================================================================\n",
      "Dep. Variable:                  price   R-squared:                       0.913\n",
      "Model:                            OLS   Adj. R-squared:                  0.910\n",
      "Method:                 Least Squares   F-statistic:                     487.0\n",
      "Date:                Sat, 20 Jan 2024   Prob (F-statistic):          2.19e-156\n",
      "Time:                        16:33:27   Log-Likelihood:                -2418.4\n",
      "No. Observations:                 281   AIC:                             4855.\n",
      "Df Residuals:                     272   BIC:                             4888.\n",
      "Df Model:                           8                                         \n",
      "Covariance Type:                  HC1                                         \n",
      "==================================================================================\n",
      "                     coef    std err          z      P>|z|      [0.025      0.975]\n",
      "----------------------------------------------------------------------------------\n",
      "Intercept       1.943e+04    418.947     46.383      0.000    1.86e+04    2.03e+04\n",
      "age             -873.4732     82.351    -10.607      0.000   -1034.878    -712.068\n",
      "agesq             18.2138      2.602      7.000      0.000      13.114      23.313\n",
      "odometer        -779.8977     88.245     -8.838      0.000    -952.855    -606.941\n",
      "odometersq        18.8084      2.735      6.878      0.000      13.448      24.168\n",
      "LE                28.1128    202.578      0.139      0.890    -368.932     425.158\n",
      "cond_excellent   176.4867    194.196      0.909      0.363    -204.131     557.104\n",
      "cond_good        293.3607    223.992      1.310      0.190    -145.656     732.377\n",
      "dealer           572.9761    224.363      2.554      0.011     133.233    1012.719\n",
      "==============================================================================\n",
      "Omnibus:                       34.564   Durbin-Watson:                   2.116\n",
      "Prob(Omnibus):                  0.000   Jarque-Bera (JB):              139.957\n",
      "Skew:                           0.383   Prob(JB):                     4.06e-31\n",
      "Kurtosis:                       6.372   Cond. No.                     1.84e+03\n",
      "==============================================================================\n",
      "\n",
      "Notes:\n",
      "[1] Standard Errors are heteroscedasticity robust (HC1)\n",
      "[2] The condition number is large, 1.84e+03. This might indicate that there are\n",
      "strong multicollinearity or other numerical problems.\n",
      "\n",
      "Regression: reg4\n",
      "                            OLS Regression Results                            \n",
      "==============================================================================\n",
      "Dep. Variable:                  price   R-squared:                       0.919\n",
      "Model:                            OLS   Adj. R-squared:                  0.916\n",
      "Method:                 Least Squares   F-statistic:                     316.4\n",
      "Date:                Sat, 20 Jan 2024   Prob (F-statistic):          1.62e-150\n",
      "Time:                        16:33:27   Log-Likelihood:                -2407.8\n",
      "No. Observations:                 281   AIC:                             4842.\n",
      "Df Residuals:                     268   BIC:                             4889.\n",
      "Df Model:                          12                                         \n",
      "Covariance Type:                  HC1                                         \n",
      "==================================================================================\n",
      "                     coef    std err          z      P>|z|      [0.025      0.975]\n",
      "----------------------------------------------------------------------------------\n",
      "Intercept       1.896e+04    451.933     41.961      0.000    1.81e+04    1.98e+04\n",
      "age             -836.6435     78.535    -10.653      0.000    -990.569    -682.718\n",
      "agesq             17.6303      2.472      7.131      0.000      12.785      22.476\n",
      "odometer        -788.7017     84.644     -9.318      0.000    -954.601    -622.802\n",
      "odometersq        19.2005      2.662      7.212      0.000      13.982      24.419\n",
      "LE               -20.4815    207.509     -0.099      0.921    -427.192     386.229\n",
      "XLE              301.6854    365.083      0.826      0.409    -413.864    1017.235\n",
      "SE              1338.7874    527.717      2.537      0.011     304.481    2373.094\n",
      "cond_likenew     558.6742    393.994      1.418      0.156    -213.539    1330.888\n",
      "cond_excellent   190.4031    208.324      0.914      0.361    -217.905     598.711\n",
      "cond_good        321.5584    233.367      1.378      0.168    -135.833     778.950\n",
      "cylind6         -370.2747    257.255     -1.439      0.150    -874.485     133.935\n",
      "dealer           822.6493    237.332      3.466      0.001     357.487    1287.812\n",
      "==============================================================================\n",
      "Omnibus:                       17.154   Durbin-Watson:                   2.111\n",
      "Prob(Omnibus):                  0.000   Jarque-Bera (JB):               45.200\n",
      "Skew:                           0.159   Prob(JB):                     1.53e-10\n",
      "Kurtosis:                       4.939   Cond. No.                     2.04e+03\n",
      "==============================================================================\n",
      "\n",
      "Notes:\n",
      "[1] Standard Errors are heteroscedasticity robust (HC1)\n",
      "[2] The condition number is large, 2.04e+03. This might indicate that there are\n",
      "strong multicollinearity or other numerical problems.\n",
      "\n",
      "Regression: reg5\n",
      "                            OLS Regression Results                            \n",
      "==============================================================================\n",
      "Dep. Variable:                  price   R-squared:                       0.923\n",
      "Model:                            OLS   Adj. R-squared:                  0.917\n",
      "Method:                 Least Squares   F-statistic:                     201.9\n",
      "Date:                Sat, 20 Jan 2024   Prob (F-statistic):          2.33e-147\n",
      "Time:                        16:33:27   Log-Likelihood:                -2400.5\n",
      "No. Observations:                 281   AIC:                             4845.\n",
      "Df Residuals:                     259   BIC:                             4925.\n",
      "Df Model:                          21                                         \n",
      "Covariance Type:                  HC1                                         \n",
      "======================================================================================\n",
      "                         coef    std err          z      P>|z|      [0.025      0.975]\n",
      "--------------------------------------------------------------------------------------\n",
      "Intercept           1.848e+04    767.723     24.066      0.000     1.7e+04       2e+04\n",
      "age                 -800.5516     97.208     -8.235      0.000    -991.076    -610.027\n",
      "agesq                 11.2105      3.463      3.238      0.001       4.424      17.997\n",
      "odometer            -783.8117     77.321    -10.137      0.000    -935.358    -632.265\n",
      "odometersq            13.0986      3.591      3.647      0.000       6.060      20.137\n",
      "LE                  1002.5851    818.037      1.226      0.220    -600.738    2605.908\n",
      "LE:age               -72.0799     49.394     -1.459      0.144    -168.891      24.731\n",
      "XLE                  863.7939    936.233      0.923      0.356    -971.190    2698.777\n",
      "XLE:age              -44.2100     59.971     -0.737      0.461    -161.752      73.332\n",
      "SE                   912.1881   1113.534      0.819      0.413   -1270.299    3094.675\n",
      "SE:age                57.6355     92.210      0.625      0.532    -123.092     238.363\n",
      "cond_likenew        1390.9522    974.268      1.428      0.153    -518.577    3300.482\n",
      "cond_likenew:age     -69.2110     65.402     -1.058      0.290    -197.397      58.975\n",
      "cond_excellent       277.1115    531.308      0.522      0.602    -764.233    1318.456\n",
      "cond_excellent:age    -1.7016     35.789     -0.048      0.962     -71.847      68.444\n",
      "cond_good            912.5754    804.010      1.135      0.256    -663.255    2488.406\n",
      "cond_good:age        -44.1931     44.904     -0.984      0.325    -132.204      43.817\n",
      "cylind6            -1609.8891   1092.487     -1.474      0.141   -3751.125     531.347\n",
      "cylind6:age           87.2012     62.512      1.395      0.163     -35.319     209.722\n",
      "odometer:age          12.5010      5.690      2.197      0.028       1.349      23.653\n",
      "dealer              1360.7111    638.848      2.130      0.033     108.592    2612.830\n",
      "dealer:age           -39.5013     42.473     -0.930      0.352    -122.746      43.744\n",
      "==============================================================================\n",
      "Omnibus:                       21.996   Durbin-Watson:                   2.184\n",
      "Prob(Omnibus):                  0.000   Jarque-Bera (JB):               51.209\n",
      "Skew:                           0.353   Prob(JB):                     7.59e-12\n",
      "Kurtosis:                       4.969   Cond. No.                     5.75e+03\n",
      "==============================================================================\n",
      "\n",
      "Notes:\n",
      "[1] Standard Errors are heteroscedasticity robust (HC1)\n",
      "[2] The condition number is large, 5.75e+03. This might indicate that there are\n",
      "strong multicollinearity or other numerical problems.\n"
     ]
    }
   ],
   "source": [
    "models = [reg1, reg2, reg3, reg4, reg5]\n",
    "robustcov_results=[]\n",
    "\n",
    "for i, model in enumerate(models):\n",
    "    result=model.get_robustcov_results(cov_type='HC1').summary()\n",
    "    robustcov_results.append(result)\n",
    "    print()\n",
    "    print(f'Regression: reg{i+1}')\n",
    "    print(result)"
   ]
  },
  {
   "cell_type": "code",
   "execution_count": 52,
   "metadata": {
    "tags": []
   },
   "outputs": [
    {
     "data": {
      "text/html": [
       "<table style=\"text-align:center\"><tr><td colspan=\"2\" style=\"border-bottom: 1px solid black\"></td></tr>\n",
       "<tr><td style=\"text-align:left\"></td><td colspan=\"1\"><em>Dependent variable: price</em></td></tr><tr><td style=\"text-align:left\"></td><tr><td style=\"text-align:left\"></td><td>(1)</td></tr>\n",
       "<tr><td colspan=\"2\" style=\"border-bottom: 1px solid black\"></td></tr>\n",
       "\n",
       "<tr><td style=\"text-align:left\">Intercept</td><td>18365.447<sup>***</sup></td></tr>\n",
       "<tr><td style=\"text-align:left\"></td><td>(351.642)</td></tr>\n",
       "<tr><td style=\"text-align:left\">age</td><td>-1530.088<sup>***</sup></td></tr>\n",
       "<tr><td style=\"text-align:left\"></td><td>(59.324)</td></tr>\n",
       "<tr><td style=\"text-align:left\">agesq</td><td>35.048<sup>***</sup></td></tr>\n",
       "<tr><td style=\"text-align:left\"></td><td>(2.301)</td></tr>\n",
       "\n",
       "<td colspan=\"2\" style=\"border-bottom: 1px solid black\"></td></tr>\n",
       "<tr><td style=\"text-align: left\">Observations</td><td>281</td></tr><tr><td style=\"text-align: left\">R<sup>2</sup></td><td>0.847</td></tr><tr><td style=\"text-align: left\">Adjusted R<sup>2</sup></td><td>0.846</td></tr><tr><td style=\"text-align: left\">Residual Std. Error</td><td>1764.626 (df=278)</td></tr><tr><td style=\"text-align: left\">F Statistic</td><td>1076.794<sup>***</sup> (df=2; 278)</td></tr>\n",
       "<tr><td colspan=\"2\" style=\"border-bottom: 1px solid black\"></td></tr><tr><td style=\"text-align: left\">Note:</td><td colspan=\"1\" style=\"text-align: right\"><sup>*</sup>p&lt;0.1; <sup>**</sup>p&lt;0.05; <sup>***</sup>p&lt;0.01</td></tr></table>"
      ],
      "text/plain": [
       "<stargazer.stargazer.Stargazer at 0x1e0b18febd0>"
      ]
     },
     "execution_count": 52,
     "metadata": {},
     "output_type": "execute_result"
    }
   ],
   "source": [
    "stargazer.Stargazer([reg1])"
   ]
  },
  {
   "cell_type": "code",
   "execution_count": 53,
   "metadata": {
    "tags": []
   },
   "outputs": [
    {
     "ename": "NameError",
     "evalue": "name 'color' is not defined",
     "output_type": "error",
     "traceback": [
      "\u001b[1;31m---------------------------------------------------------------------------\u001b[0m",
      "\u001b[1;31mNameError\u001b[0m                                 Traceback (most recent call last)",
      "Cell \u001b[1;32mIn[53], line 2\u001b[0m\n\u001b[0;32m      1\u001b[0m ggplot(data, aes(x\u001b[38;5;241m=\u001b[39m\u001b[38;5;124m\"\u001b[39m\u001b[38;5;124mage\u001b[39m\u001b[38;5;124m\"\u001b[39m)) \u001b[38;5;241m+\u001b[39m geom_smooth(\n\u001b[1;32m----> 2\u001b[0m     aes(y\u001b[38;5;241m=\u001b[39m\u001b[38;5;124m\"\u001b[39m\u001b[38;5;124mprice\u001b[39m\u001b[38;5;124m\"\u001b[39m),colour\u001b[38;5;241m=\u001b[39mcolor[\u001b[38;5;241m0\u001b[39m],linetype\u001b[38;5;241m=\u001b[39m\u001b[38;5;124m\"\u001b[39m\u001b[38;5;124mdashed\u001b[39m\u001b[38;5;124m\"\u001b[39m, method\u001b[38;5;241m=\u001b[39m\u001b[38;5;124m\"\u001b[39m\u001b[38;5;124mloess\u001b[39m\u001b[38;5;124m\"\u001b[39m, se\u001b[38;5;241m=\u001b[39m\u001b[38;5;28;01mFalse\u001b[39;00m, size\u001b[38;5;241m=\u001b[39m\u001b[38;5;241m1\u001b[39m\n\u001b[0;32m      3\u001b[0m ) \u001b[38;5;241m+\u001b[39m geom_line(aes(y\u001b[38;5;241m=\u001b[39m\u001b[38;5;124m\"\u001b[39m\u001b[38;5;124mreg1.predict()\u001b[39m\u001b[38;5;124m\"\u001b[39m), colour\u001b[38;5;241m=\u001b[39mcolor[\u001b[38;5;241m1\u001b[39m], size\u001b[38;5;241m=\u001b[39m\u001b[38;5;241m1\u001b[39m) \u001b[38;5;241m+\u001b[39m labs(\n\u001b[0;32m      4\u001b[0m     x\u001b[38;5;241m=\u001b[39m\u001b[38;5;124m\"\u001b[39m\u001b[38;5;124mAge (years)\u001b[39m\u001b[38;5;124m\"\u001b[39m, y\u001b[38;5;241m=\u001b[39m\u001b[38;5;124m\"\u001b[39m\u001b[38;5;124mPrice (US dollars)\u001b[39m\u001b[38;5;124m\"\u001b[39m\n\u001b[0;32m      5\u001b[0m ) \u001b[38;5;241m+\u001b[39m scale_color_manual(\n\u001b[0;32m      6\u001b[0m     name\u001b[38;5;241m=\u001b[39m\u001b[38;5;124m\"\u001b[39m\u001b[38;5;124m\"\u001b[39m, values\u001b[38;5;241m=\u001b[39m(color[\u001b[38;5;241m0\u001b[39m], color[\u001b[38;5;241m1\u001b[39m]), labels\u001b[38;5;241m=\u001b[39m(\u001b[38;5;124m\"\u001b[39m\u001b[38;5;124mLowess in age\u001b[39m\u001b[38;5;124m\"\u001b[39m, \u001b[38;5;124m\"\u001b[39m\u001b[38;5;124mQuadratic in age\u001b[39m\u001b[38;5;124m\"\u001b[39m)\n\u001b[0;32m      7\u001b[0m ) \u001b[38;5;241m+\u001b[39m theme_bw() \u001b[38;5;241m+\u001b[39m scale_x_continuous(\n\u001b[0;32m      8\u001b[0m     limits\u001b[38;5;241m=\u001b[39m(\u001b[38;5;241m0\u001b[39m, \u001b[38;5;241m30\u001b[39m), breaks\u001b[38;5;241m=\u001b[39mseq(\u001b[38;5;241m0\u001b[39m, \u001b[38;5;241m30\u001b[39m, \u001b[38;5;241m5\u001b[39m)\n\u001b[0;32m      9\u001b[0m ) \u001b[38;5;241m+\u001b[39m scale_y_continuous(\n\u001b[0;32m     10\u001b[0m     limits\u001b[38;5;241m=\u001b[39m(\u001b[38;5;241m0\u001b[39m, \u001b[38;5;241m20000\u001b[39m), breaks\u001b[38;5;241m=\u001b[39mseq(\u001b[38;5;241m0\u001b[39m, \u001b[38;5;241m20000\u001b[39m, \u001b[38;5;241m5000\u001b[39m)\n\u001b[0;32m     11\u001b[0m ) \u001b[38;5;241m+\u001b[39m theme(\n\u001b[0;32m     12\u001b[0m     legend_position\u001b[38;5;241m=\u001b[39m(\u001b[38;5;241m20\u001b[39m, \u001b[38;5;241m20\u001b[39m),\n\u001b[0;32m     13\u001b[0m     legend_direction\u001b[38;5;241m=\u001b[39m\u001b[38;5;124m\"\u001b[39m\u001b[38;5;124mhorizontal\u001b[39m\u001b[38;5;124m\"\u001b[39m,\n\u001b[0;32m     14\u001b[0m     legend_background\u001b[38;5;241m=\u001b[39melement_blank(),\n\u001b[0;32m     15\u001b[0m     legend_box_background\u001b[38;5;241m=\u001b[39melement_rect(color\u001b[38;5;241m=\u001b[39m\u001b[38;5;124m\"\u001b[39m\u001b[38;5;124mwhite\u001b[39m\u001b[38;5;124m\"\u001b[39m),\n\u001b[0;32m     16\u001b[0m )\n",
      "\u001b[1;31mNameError\u001b[0m: name 'color' is not defined"
     ]
    }
   ],
   "source": [
    "ggplot(data, aes(x=\"age\")) + geom_smooth(\n",
    "    aes(y=\"price\"),colour=color[0],linetype=\"dashed\", method=\"loess\", se=False, size=1\n",
    ") + geom_line(aes(y=\"reg1.predict()\"), colour=color[1], size=1) + labs(\n",
    "    x=\"Age (years)\", y=\"Price (US dollars)\"\n",
    ") + scale_color_manual(\n",
    "    name=\"\", values=(color[0], color[1]), labels=(\"Lowess in age\", \"Quadratic in age\")\n",
    ") + theme_bw() + scale_x_continuous(\n",
    "    limits=(0, 30), breaks=seq(0, 30, 5)\n",
    ") + scale_y_continuous(\n",
    "    limits=(0, 20000), breaks=seq(0, 20000, 5000)\n",
    ") + theme(\n",
    "    legend_position=(20, 20),\n",
    "    legend_direction=\"horizontal\",\n",
    "    legend_background=element_blank(),\n",
    "    legend_box_background=element_rect(color=\"white\"),\n",
    ")"
   ]
  },
  {
   "cell_type": "code",
   "execution_count": 54,
   "metadata": {
    "tags": []
   },
   "outputs": [
    {
     "data": {
      "image/png": "[encoded data removed]",
      "text/plain": [
       "<Figure size 640x480 with 1 Axes>"
      ]
     },
     "metadata": {
      "image/png": {
       "height": 480,
       "width": 640
      }
     },
     "output_type": "display_data"
    }
   ],
   "source": [
    "plt.plot(data.age, reg1.predict(), color = 'steelblue', linestyle = '-')\n",
    "plt.plot(data.age, y_hat_lowess, color = 'k', linestyle = \"--\")\n",
    "plt.legend(labels = ['regression 1', \"statsmodel's lowess\"])\n",
    "plt.title(\"Regression: model 1 vs statsmodel's lowess\");"
   ]
  },
  {
   "cell_type": "code",
   "execution_count": 55,
   "metadata": {
    "tags": []
   },
   "outputs": [
    {
     "data": {
      "text/html": [
       "<table style=\"text-align:center\"><tr><td colspan=\"6\" style=\"border-bottom: 1px solid black\"></td></tr>\n",
       "<tr><td style=\"text-align:left\"></td><td colspan=\"5\"><em>Dependent variable: price</em></td></tr><tr><td style=\"text-align:left\"></td><tr><td style=\"text-align:left\"></td><td>(1)</td><td>(2)</td><td>(3)</td><td>(4)</td><td>(5)</td></tr>\n",
       "<tr><td colspan=\"6\" style=\"border-bottom: 1px solid black\"></td></tr>\n",
       "\n",
       "<tr><td style=\"text-align:left\">Intercept</td><td>18365.447<sup>***</sup></td><td>18860.197<sup>***</sup></td><td>19431.888<sup>***</sup></td><td>18963.354<sup>***</sup></td><td>18476.060<sup>***</sup></td></tr>\n",
       "<tr><td style=\"text-align:left\"></td><td>(351.642)</td><td>(311.265)</td><td>(412.183)</td><td>(441.355)</td><td>(737.058)</td></tr>\n",
       "<tr><td style=\"text-align:left\">LE</td><td></td><td></td><td>28.113<sup></sup></td><td>-20.482<sup></sup></td><td>1002.585<sup></sup></td></tr>\n",
       "<tr><td style=\"text-align:left\"></td><td></td><td></td><td>(199.307)</td><td>(202.652)</td><td>(785.361)</td></tr>\n",
       "<tr><td style=\"text-align:left\">LE:age</td><td></td><td></td><td></td><td></td><td>-72.080<sup></sup></td></tr>\n",
       "<tr><td style=\"text-align:left\"></td><td></td><td></td><td></td><td></td><td>(47.421)</td></tr>\n",
       "<tr><td style=\"text-align:left\">SE</td><td></td><td></td><td></td><td>1338.787<sup>***</sup></td><td>912.188<sup></sup></td></tr>\n",
       "<tr><td style=\"text-align:left\"></td><td></td><td></td><td></td><td>(515.366)</td><td>(1069.056)</td></tr>\n",
       "<tr><td style=\"text-align:left\">SE:age</td><td></td><td></td><td></td><td></td><td>57.636<sup></sup></td></tr>\n",
       "<tr><td style=\"text-align:left\"></td><td></td><td></td><td></td><td></td><td>(88.527)</td></tr>\n",
       "<tr><td style=\"text-align:left\">XLE</td><td></td><td></td><td></td><td>301.685<sup></sup></td><td>863.794<sup></sup></td></tr>\n",
       "<tr><td style=\"text-align:left\"></td><td></td><td></td><td></td><td>(356.538)</td><td>(898.837)</td></tr>\n",
       "<tr><td style=\"text-align:left\">XLE:age</td><td></td><td></td><td></td><td></td><td>-44.210<sup></sup></td></tr>\n",
       "<tr><td style=\"text-align:left\"></td><td></td><td></td><td></td><td></td><td>(57.576)</td></tr>\n",
       "<tr><td style=\"text-align:left\">age</td><td>-1530.088<sup>***</sup></td><td>-1149.223<sup>***</sup></td><td>-873.473<sup>***</sup></td><td>-836.643<sup>***</sup></td><td>-800.552<sup>***</sup></td></tr>\n",
       "<tr><td style=\"text-align:left\"></td><td>(59.324)</td><td>(69.623)</td><td>(81.022)</td><td>(76.697)</td><td>(93.325)</td></tr>\n",
       "<tr><td style=\"text-align:left\">agesq</td><td>35.048<sup>***</sup></td><td>27.653<sup>***</sup></td><td>18.214<sup>***</sup></td><td>17.630<sup>***</sup></td><td>11.210<sup>***</sup></td></tr>\n",
       "<tr><td style=\"text-align:left\"></td><td>(2.301)</td><td>(2.540)</td><td>(2.560)</td><td>(2.414)</td><td>(3.324)</td></tr>\n",
       "<tr><td style=\"text-align:left\">cond_excellent</td><td></td><td></td><td>176.487<sup></sup></td><td>190.403<sup></sup></td><td>277.111<sup></sup></td></tr>\n",
       "<tr><td style=\"text-align:left\"></td><td></td><td></td><td>(191.061)</td><td>(203.448)</td><td>(510.086)</td></tr>\n",
       "<tr><td style=\"text-align:left\">cond_excellent:age</td><td></td><td></td><td></td><td></td><td>-1.702<sup></sup></td></tr>\n",
       "<tr><td style=\"text-align:left\"></td><td></td><td></td><td></td><td></td><td>(34.360)</td></tr>\n",
       "<tr><td style=\"text-align:left\">cond_good</td><td></td><td></td><td>293.361<sup></sup></td><td>321.558<sup></sup></td><td>912.575<sup></sup></td></tr>\n",
       "<tr><td style=\"text-align:left\"></td><td></td><td></td><td>(220.376)</td><td>(227.905)</td><td>(771.895)</td></tr>\n",
       "<tr><td style=\"text-align:left\">cond_good:age</td><td></td><td></td><td></td><td></td><td>-44.193<sup></sup></td></tr>\n",
       "<tr><td style=\"text-align:left\"></td><td></td><td></td><td></td><td></td><td>(43.111)</td></tr>\n",
       "<tr><td style=\"text-align:left\">cond_likenew</td><td></td><td></td><td></td><td>558.674<sup></sup></td><td>1390.952<sup></sup></td></tr>\n",
       "<tr><td style=\"text-align:left\"></td><td></td><td></td><td></td><td>(384.772)</td><td>(935.352)</td></tr>\n",
       "<tr><td style=\"text-align:left\">cond_likenew:age</td><td></td><td></td><td></td><td></td><td>-69.211<sup></sup></td></tr>\n",
       "<tr><td style=\"text-align:left\"></td><td></td><td></td><td></td><td></td><td>(62.790)</td></tr>\n",
       "<tr><td style=\"text-align:left\">cylind6</td><td></td><td></td><td></td><td>-370.275<sup></sup></td><td>-1609.889<sup></sup></td></tr>\n",
       "<tr><td style=\"text-align:left\"></td><td></td><td></td><td></td><td>(251.233)</td><td>(1048.849)</td></tr>\n",
       "<tr><td style=\"text-align:left\">cylind6:age</td><td></td><td></td><td></td><td></td><td>87.201<sup></sup></td></tr>\n",
       "<tr><td style=\"text-align:left\"></td><td></td><td></td><td></td><td></td><td>(60.015)</td></tr>\n",
       "<tr><td style=\"text-align:left\">dealer</td><td></td><td></td><td>572.976<sup>***</sup></td><td>822.649<sup>***</sup></td><td>1360.711<sup>**</sup></td></tr>\n",
       "<tr><td style=\"text-align:left\"></td><td></td><td></td><td>(220.741)</td><td>(231.777)</td><td>(613.330)</td></tr>\n",
       "<tr><td style=\"text-align:left\">dealer:age</td><td></td><td></td><td></td><td></td><td>-39.501<sup></sup></td></tr>\n",
       "<tr><td style=\"text-align:left\"></td><td></td><td></td><td></td><td></td><td>(40.776)</td></tr>\n",
       "<tr><td style=\"text-align:left\">odometer</td><td></td><td>-303.840<sup>***</sup></td><td>-779.898<sup>***</sup></td><td>-788.702<sup>***</sup></td><td>-783.812<sup>***</sup></td></tr>\n",
       "<tr><td style=\"text-align:left\"></td><td></td><td>(30.883)</td><td>(86.820)</td><td>(82.663)</td><td>(74.233)</td></tr>\n",
       "<tr><td style=\"text-align:left\">odometer:age</td><td></td><td></td><td></td><td></td><td>12.501<sup>**</sup></td></tr>\n",
       "<tr><td style=\"text-align:left\"></td><td></td><td></td><td></td><td></td><td>(5.463)</td></tr>\n",
       "<tr><td style=\"text-align:left\">odometersq</td><td></td><td></td><td>18.808<sup>***</sup></td><td>19.200<sup>***</sup></td><td>13.099<sup>***</sup></td></tr>\n",
       "<tr><td style=\"text-align:left\"></td><td></td><td></td><td>(2.691)</td><td>(2.600)</td><td>(3.448)</td></tr>\n",
       "\n",
       "<td colspan=\"6\" style=\"border-bottom: 1px solid black\"></td></tr>\n",
       "<tr><td style=\"text-align: left\">Observations</td><td>281</td><td>281</td><td>281</td><td>281</td><td>281</td></tr><tr><td style=\"text-align: left\">R<sup>2</sup></td><td>0.847</td><td>0.898</td><td>0.913</td><td>0.919</td><td>0.923</td></tr><tr><td style=\"text-align: left\">Adjusted R<sup>2</sup></td><td>0.846</td><td>0.897</td><td>0.910</td><td>0.916</td><td>0.917</td></tr><tr><td style=\"text-align: left\">Residual Std. Error</td><td>1764.626 (df=278)</td><td>1444.030 (df=277)</td><td>1344.373 (df=272)</td><td>1304.178 (df=268)</td><td>1292.968 (df=259)</td></tr><tr><td style=\"text-align: left\">F Statistic</td><td>1076.794<sup>***</sup> (df=2; 278)</td><td>1167.158<sup>***</sup> (df=3; 277)</td><td>503.155<sup>***</sup> (df=8; 272)</td><td>331.790<sup>***</sup> (df=12; 268)</td><td>219.095<sup>***</sup> (df=21; 259)</td></tr>\n",
       "<tr><td style=\"text-align: left\">BIC</td><td>5012.68</td><td>4904.63</td><td>4887.51</td><td>4888.84</td><td>4925.14</td></tr><tr><td colspan=\"6\" style=\"border-bottom: 1px solid black\"></td></tr><tr><td style=\"text-align: left\">Note:</td><td colspan=\"5\" style=\"text-align: right\"><sup>*</sup>p&lt;0.1; <sup>**</sup>p&lt;0.05; <sup>***</sup>p&lt;0.01</td></tr></table>"
      ],
      "text/plain": [
       "<stargazer.stargazer.Stargazer at 0x1e0b107cd90>"
      ]
     },
     "execution_count": 55,
     "metadata": {},
     "output_type": "execute_result"
    }
   ],
   "source": [
    "bic = [round(x.bic, 2) for x in [reg1,reg2,reg3,reg4,reg5]]\n",
    "sg = stargazer.Stargazer([reg1,reg2,reg3,reg4,reg5])\n",
    "sg.add_line('BIC', bic, location=stargazer.LineLocation.FOOTER_BOTTOM)\n",
    "sg"
   ]
  },
  {
   "cell_type": "markdown",
   "metadata": {},
   "source": [
    "How to tailor-make `Stargazer` output see [here](https://github.com/StatsReporting/stargazer/blob/master/examples.ipynb). "
   ]
  },
  {
   "cell_type": "markdown",
   "metadata": {},
   "source": [
    "#### Model 2: Linear Regression with cross validation"
   ]
  },
  {
   "cell_type": "code",
   "execution_count": 56,
   "metadata": {},
   "outputs": [],
   "source": [
    "from sklearn.model_selection import KFold\n",
    "k = KFold(n_splits=4, shuffle=False, random_state=None)"
   ]
  },
  {
   "cell_type": "code",
   "execution_count": 57,
   "metadata": {},
   "outputs": [],
   "source": [
    "### Cross validate OLS with combining sklearn k-fold cross validation and statsmodels ols formula\n",
    "\n",
    "\n",
    "def cv_reg(formula, data, kfold, robustse=None):\n",
    "    regression_list = []\n",
    "    predicts_on_test = []\n",
    "    rsquared = []\n",
    "    rmse_list = []\n",
    "\n",
    "    # Calculating OLS for each fold\n",
    "\n",
    "    for train_index, test_index in k.split(data):\n",
    "        # print(\"TRAIN:\", train_index, \"TEST:\", test_index)\n",
    "        data_train, data_test = data.iloc[train_index, :], data.iloc[test_index, :]\n",
    "        if robustse is None:\n",
    "            model = smf.ols(formula, data=data_train).fit()\n",
    "        else:\n",
    "            model = smf.ols(formula, data=data_train).fit(cov_type=robustse)\n",
    "        regression_list += [model]\n",
    "        predicts_on_test += [model.predict(data_test)]\n",
    "        rsquared += [model.rsquared]\n",
    "        rmse_list += [rmse(data_train[formula.split(\"~\")[0]], model.predict())]\n",
    "\n",
    "    return {\n",
    "        \"regressions\": regression_list,\n",
    "        \"test_predict\": predicts_on_test,\n",
    "        \"r2\": rsquared,\n",
    "        \"rmse\": rmse_list,\n",
    "    }\n",
    "\n",
    "\n",
    "def summarize_cv(cvlist, stat=\"rmse\"):\n",
    "    result = pd.DataFrame(\n",
    "        {\"Model\" + str(x + 1): cvlist[x][stat] for x in range(len(cv_list))}\n",
    "    )\n",
    "    result[\"Resample\"] = [\"Fold\" + str(x + 1) for x in range(len(cvlist[0][\"rmse\"]))]\n",
    "    result = result.set_index(\"Resample\")\n",
    "    result = pd.concat([result, pd.DataFrame(result.mean(), columns=[\"Average\"]).T])\n",
    "    return result"
   ]
  },
  {
   "cell_type": "code",
   "execution_count": 58,
   "metadata": {},
   "outputs": [],
   "source": [
    "cv1 = cv_reg(\"price~age+agesq\", data, k, \"HC0\")\n",
    "cv2 = cv_reg(\"price~age+agesq+odometer\", data, k, \"HC0\")\n",
    "cv3 = cv_reg(\n",
    "    \"price~age+agesq+ odometer + odometersq + LE + cond_excellent + cond_good + dealer\",\n",
    "    data,\n",
    "    k,\n",
    "    \"HC0\",\n",
    ")\n",
    "cv4 = cv_reg(\n",
    "    \"price~age+agesq+ odometer + odometersq + LE + XLE + SE + cond_likenew + cond_excellent + cond_good + cylind6 + dealer\",\n",
    "    data,\n",
    "    k,\n",
    "    \"HC0\",\n",
    ")\n",
    "cv5 = cv_reg(\n",
    "    \"price~age+agesq + odometer + odometersq + LE*age + XLE*age + SE*age + cond_likenew*age + cond_excellent*age + cond_good*age + cylind6*age + odometer*age + dealer*age\",\n",
    "    data,\n",
    "    k,\n",
    "    \"HC0\",\n",
    ")\n",
    "cv_list = [cv1, cv2, cv3, cv4, cv5]"
   ]
  },
  {
   "cell_type": "code",
   "execution_count": 59,
   "metadata": {},
   "outputs": [
    {
     "data": {
      "text/html": [
       "<div>\n",
       "<style scoped>\n",
       "    .dataframe tbody tr th:only-of-type {\n",
       "        vertical-align: middle;\n",
       "    }\n",
       "\n",
       "    .dataframe tbody tr th {\n",
       "        vertical-align: top;\n",
       "    }\n",
       "\n",
       "    .dataframe thead th {\n",
       "        text-align: right;\n",
       "    }\n",
       "</style>\n",
       "<table border=\"1\" class=\"dataframe\">\n",
       "  <thead>\n",
       "    <tr style=\"text-align: right;\">\n",
       "      <th></th>\n",
       "      <th>Model1</th>\n",
       "      <th>Model2</th>\n",
       "      <th>Model3</th>\n",
       "      <th>Model4</th>\n",
       "      <th>Model5</th>\n",
       "    </tr>\n",
       "  </thead>\n",
       "  <tbody>\n",
       "    <tr>\n",
       "      <th>Fold1</th>\n",
       "      <td>1693.336595</td>\n",
       "      <td>1463.591042</td>\n",
       "      <td>1336.541832</td>\n",
       "      <td>1252.446701</td>\n",
       "      <td>1171.842182</td>\n",
       "    </tr>\n",
       "    <tr>\n",
       "      <th>Fold2</th>\n",
       "      <td>1258.550419</td>\n",
       "      <td>1071.328081</td>\n",
       "      <td>991.053993</td>\n",
       "      <td>970.363505</td>\n",
       "      <td>928.408846</td>\n",
       "    </tr>\n",
       "    <tr>\n",
       "      <th>Fold3</th>\n",
       "      <td>1906.120258</td>\n",
       "      <td>1528.711797</td>\n",
       "      <td>1426.251463</td>\n",
       "      <td>1352.165543</td>\n",
       "      <td>1301.668190</td>\n",
       "    </tr>\n",
       "    <tr>\n",
       "      <th>Fold4</th>\n",
       "      <td>1930.562245</td>\n",
       "      <td>1518.277312</td>\n",
       "      <td>1432.464502</td>\n",
       "      <td>1372.367150</td>\n",
       "      <td>1339.426562</td>\n",
       "    </tr>\n",
       "    <tr>\n",
       "      <th>Average</th>\n",
       "      <td>1697.142379</td>\n",
       "      <td>1395.477058</td>\n",
       "      <td>1296.577948</td>\n",
       "      <td>1236.835725</td>\n",
       "      <td>1185.336445</td>\n",
       "    </tr>\n",
       "  </tbody>\n",
       "</table>\n",
       "</div>"
      ],
      "text/plain": [
       "              Model1       Model2       Model3       Model4       Model5\n",
       "Fold1    1693.336595  1463.591042  1336.541832  1252.446701  1171.842182\n",
       "Fold2    1258.550419  1071.328081   991.053993   970.363505   928.408846\n",
       "Fold3    1906.120258  1528.711797  1426.251463  1352.165543  1301.668190\n",
       "Fold4    1930.562245  1518.277312  1432.464502  1372.367150  1339.426562\n",
       "Average  1697.142379  1395.477058  1296.577948  1236.835725  1185.336445"
      ]
     },
     "execution_count": 59,
     "metadata": {},
     "output_type": "execute_result"
    }
   ],
   "source": [
    "summarize_cv(cv_list)"
   ]
  },
  {
   "cell_type": "markdown",
   "metadata": {},
   "source": [
    "### Prediction"
   ]
  },
  {
   "cell_type": "code",
   "execution_count": 60,
   "metadata": {},
   "outputs": [],
   "source": [
    "data = data[\n",
    "    [\n",
    "        \"age\",\n",
    "        \"agesq\",\n",
    "        \"odometer\",\n",
    "        \"odometersq\",\n",
    "        \"SE\",\n",
    "        \"LE\",\n",
    "        \"XLE\",\n",
    "        \"cond_likenew\",\n",
    "        \"cond_excellent\",\n",
    "        \"cond_good\",\n",
    "        \"dealer\",\n",
    "        \"price\",\n",
    "        \"cylind6\"\n",
    "    ]\n",
    "]"
   ]
  },
  {
   "cell_type": "code",
   "execution_count": 61,
   "metadata": {},
   "outputs": [
    {
     "data": {
      "text/plain": [
       "age                 int64\n",
       "agesq               int64\n",
       "odometer          float64\n",
       "odometersq        float64\n",
       "SE                  int64\n",
       "LE                  int64\n",
       "XLE                 int64\n",
       "cond_likenew        int32\n",
       "cond_excellent      int32\n",
       "cond_good           int32\n",
       "dealer              int64\n",
       "price               int64\n",
       "cylind6             int32\n",
       "dtype: object"
      ]
     },
     "execution_count": 61,
     "metadata": {},
     "output_type": "execute_result"
    }
   ],
   "source": [
    "data.dtypes"
   ]
  },
  {
   "cell_type": "code",
   "execution_count": 62,
   "metadata": {},
   "outputs": [
    {
     "data": {
      "text/html": [
       "<div>\n",
       "<style scoped>\n",
       "    .dataframe tbody tr th:only-of-type {\n",
       "        vertical-align: middle;\n",
       "    }\n",
       "\n",
       "    .dataframe tbody tr th {\n",
       "        vertical-align: top;\n",
       "    }\n",
       "\n",
       "    .dataframe thead th {\n",
       "        text-align: right;\n",
       "    }\n",
       "</style>\n",
       "<table border=\"1\" class=\"dataframe\">\n",
       "  <thead>\n",
       "    <tr style=\"text-align: right;\">\n",
       "      <th></th>\n",
       "      <th>age</th>\n",
       "      <th>agesq</th>\n",
       "      <th>odometer</th>\n",
       "      <th>odometersq</th>\n",
       "      <th>SE</th>\n",
       "      <th>LE</th>\n",
       "      <th>XLE</th>\n",
       "      <th>cond_likenew</th>\n",
       "      <th>cond_excellent</th>\n",
       "      <th>cond_good</th>\n",
       "      <th>dealer</th>\n",
       "      <th>price</th>\n",
       "      <th>cylind6</th>\n",
       "    </tr>\n",
       "  </thead>\n",
       "  <tbody>\n",
       "    <tr>\n",
       "      <th>0</th>\n",
       "      <td>10.0</td>\n",
       "      <td>100.0</td>\n",
       "      <td>12.0</td>\n",
       "      <td>144.0</td>\n",
       "      <td>0.0</td>\n",
       "      <td>1.0</td>\n",
       "      <td>0.0</td>\n",
       "      <td>0.0</td>\n",
       "      <td>1.0</td>\n",
       "      <td>0.0</td>\n",
       "      <td>0.0</td>\n",
       "      <td>NaN</td>\n",
       "      <td>0.0</td>\n",
       "    </tr>\n",
       "  </tbody>\n",
       "</table>\n",
       "</div>"
      ],
      "text/plain": [
       "    age  agesq  odometer  odometersq   SE   LE  XLE  cond_likenew  \\\n",
       "0  10.0  100.0      12.0       144.0  0.0  1.0  0.0           0.0   \n",
       "\n",
       "   cond_excellent  cond_good  dealer  price  cylind6  \n",
       "0             1.0        0.0     0.0    NaN      0.0  "
      ]
     },
     "execution_count": 62,
     "metadata": {},
     "output_type": "execute_result"
    }
   ],
   "source": [
    "new = pd.DataFrame(pd.Series({\n",
    "    \"age\":10,\n",
    "    \"agesq\":10**2,\n",
    "    \"odometer\":12,\n",
    "    \"odometersq\":12**2,\n",
    "    \"SE\":0,\n",
    "    \"LE\":1,\n",
    "    \"XLE\":0,\n",
    "    \"cond_likenew\":0,\n",
    "    \"cond_excellent\":1,\n",
    "    \"cond_good\":0,\n",
    "    \"dealer\":0,\n",
    "    \"price\":np.nan,\n",
    "    \"cylind6\":0\n",
    "})).T\n",
    "new"
   ]
  },
  {
   "cell_type": "code",
   "execution_count": 63,
   "metadata": {},
   "outputs": [],
   "source": [
    "#turning off scientific notation\n",
    "pd.set_option('display.float_format', lambda x: '%.3f' % x)"
   ]
  },
  {
   "cell_type": "code",
   "execution_count": 64,
   "metadata": {},
   "outputs": [
    {
     "data": {
      "text/plain": [
       "count     281.000\n",
       "mean        0.000\n",
       "std      1758.313\n",
       "min     -6367.827\n",
       "25%      -863.663\n",
       "50%      -101.332\n",
       "75%       893.620\n",
       "max      7448.668\n",
       "dtype: float64"
      ]
     },
     "execution_count": 64,
     "metadata": {},
     "output_type": "execute_result"
    }
   ],
   "source": [
    "reg1.resid.describe()"
   ]
  },
  {
   "cell_type": "code",
   "execution_count": 65,
   "metadata": {},
   "outputs": [
    {
     "data": {
      "text/html": [
       "<div>\n",
       "<style scoped>\n",
       "    .dataframe tbody tr th:only-of-type {\n",
       "        vertical-align: middle;\n",
       "    }\n",
       "\n",
       "    .dataframe tbody tr th {\n",
       "        vertical-align: top;\n",
       "    }\n",
       "\n",
       "    .dataframe thead th {\n",
       "        text-align: right;\n",
       "    }\n",
       "</style>\n",
       "<table border=\"1\" class=\"dataframe\">\n",
       "  <thead>\n",
       "    <tr style=\"text-align: right;\">\n",
       "      <th></th>\n",
       "      <th>mean</th>\n",
       "      <th>mean_se</th>\n",
       "      <th>mean_ci_lower</th>\n",
       "      <th>mean_ci_upper</th>\n",
       "      <th>obs_ci_lower</th>\n",
       "      <th>obs_ci_upper</th>\n",
       "    </tr>\n",
       "  </thead>\n",
       "  <tbody>\n",
       "    <tr>\n",
       "      <th>0</th>\n",
       "      <td>6569.387</td>\n",
       "      <td>155.912</td>\n",
       "      <td>6263.805</td>\n",
       "      <td>6874.968</td>\n",
       "      <td>3097.309</td>\n",
       "      <td>10041.464</td>\n",
       "    </tr>\n",
       "  </tbody>\n",
       "</table>\n",
       "</div>"
      ],
      "text/plain": [
       "      mean  mean_se  mean_ci_lower  mean_ci_upper  obs_ci_lower  obs_ci_upper\n",
       "0 6569.387  155.912       6263.805       6874.968      3097.309     10041.464"
      ]
     },
     "execution_count": 65,
     "metadata": {},
     "output_type": "execute_result"
    }
   ],
   "source": [
    "p1=reg1.get_prediction(new).summary_frame()\n",
    "p1"
   ]
  },
  {
   "cell_type": "code",
   "execution_count": 66,
   "metadata": {},
   "outputs": [
    {
     "data": {
      "text/plain": [
       "count     281.000\n",
       "mean       -0.000\n",
       "std      1325.029\n",
       "min     -5782.218\n",
       "25%      -584.509\n",
       "50%        10.563\n",
       "75%       628.288\n",
       "max      4245.894\n",
       "dtype: float64"
      ]
     },
     "execution_count": 66,
     "metadata": {},
     "output_type": "execute_result"
    }
   ],
   "source": [
    "(reg3.fittedvalues-data.price).describe()"
   ]
  },
  {
   "cell_type": "code",
   "execution_count": 67,
   "metadata": {},
   "outputs": [
    {
     "data": {
      "text/html": [
       "<div>\n",
       "<style scoped>\n",
       "    .dataframe tbody tr th:only-of-type {\n",
       "        vertical-align: middle;\n",
       "    }\n",
       "\n",
       "    .dataframe tbody tr th {\n",
       "        vertical-align: top;\n",
       "    }\n",
       "\n",
       "    .dataframe thead th {\n",
       "        text-align: right;\n",
       "    }\n",
       "</style>\n",
       "<table border=\"1\" class=\"dataframe\">\n",
       "  <thead>\n",
       "    <tr style=\"text-align: right;\">\n",
       "      <th></th>\n",
       "      <th>mean</th>\n",
       "      <th>mean_se</th>\n",
       "      <th>mean_ci_lower</th>\n",
       "      <th>mean_ci_upper</th>\n",
       "      <th>obs_ci_lower</th>\n",
       "      <th>obs_ci_upper</th>\n",
       "    </tr>\n",
       "  </thead>\n",
       "  <tbody>\n",
       "    <tr>\n",
       "      <th>0</th>\n",
       "      <td>6072.767</td>\n",
       "      <td>234.380</td>\n",
       "      <td>5613.391</td>\n",
       "      <td>6532.142</td>\n",
       "      <td>3398.099</td>\n",
       "      <td>8747.434</td>\n",
       "    </tr>\n",
       "  </tbody>\n",
       "</table>\n",
       "</div>"
      ],
      "text/plain": [
       "      mean  mean_se  mean_ci_lower  mean_ci_upper  obs_ci_lower  obs_ci_upper\n",
       "0 6072.767  234.380       5613.391       6532.142      3398.099      8747.434"
      ]
     },
     "execution_count": 67,
     "metadata": {},
     "output_type": "execute_result"
    }
   ],
   "source": [
    "p2=reg3.get_prediction(new).summary_frame()\n",
    "p2"
   ]
  },
  {
   "cell_type": "code",
   "execution_count": 68,
   "metadata": {},
   "outputs": [
    {
     "data": {
      "text/plain": [
       "1322.668765431708"
      ]
     },
     "execution_count": 68,
     "metadata": {},
     "output_type": "execute_result"
    }
   ],
   "source": [
    "#get model3 rmse\n",
    "rmse(reg3.fittedvalues,data.price)"
   ]
  },
  {
   "cell_type": "code",
   "execution_count": 69,
   "metadata": {},
   "outputs": [
    {
     "data": {
      "text/html": [
       "<div>\n",
       "<style scoped>\n",
       "    .dataframe tbody tr th:only-of-type {\n",
       "        vertical-align: middle;\n",
       "    }\n",
       "\n",
       "    .dataframe tbody tr th {\n",
       "        vertical-align: top;\n",
       "    }\n",
       "\n",
       "    .dataframe thead th {\n",
       "        text-align: right;\n",
       "    }\n",
       "</style>\n",
       "<table border=\"1\" class=\"dataframe\">\n",
       "  <thead>\n",
       "    <tr style=\"text-align: right;\">\n",
       "      <th></th>\n",
       "      <th>Model1</th>\n",
       "      <th>Model3</th>\n",
       "    </tr>\n",
       "    <tr>\n",
       "      <th></th>\n",
       "      <th></th>\n",
       "      <th></th>\n",
       "    </tr>\n",
       "  </thead>\n",
       "  <tbody>\n",
       "    <tr>\n",
       "      <th>Predicted</th>\n",
       "      <td>6569.387</td>\n",
       "      <td>6072.767</td>\n",
       "    </tr>\n",
       "    <tr>\n",
       "      <th>PI_low(95%)</th>\n",
       "      <td>3097.309</td>\n",
       "      <td>3398.099</td>\n",
       "    </tr>\n",
       "    <tr>\n",
       "      <th>PI_high(95%)</th>\n",
       "      <td>10041.464</td>\n",
       "      <td>8747.434</td>\n",
       "    </tr>\n",
       "  </tbody>\n",
       "</table>\n",
       "</div>"
      ],
      "text/plain": [
       "                Model1   Model3\n",
       "                               \n",
       "Predicted     6569.387 6072.767\n",
       "PI_low(95%)   3097.309 3398.099\n",
       "PI_high(95%) 10041.464 8747.434"
      ]
     },
     "execution_count": 69,
     "metadata": {},
     "output_type": "execute_result"
    }
   ],
   "source": [
    "pd.DataFrame(\n",
    "    {\n",
    "        \" \": [\"Predicted\", \"PI_low(95%)\", \"PI_high(95%)\"],\n",
    "        \"Model1\": p1[[\"mean\", \"obs_ci_lower\", \"obs_ci_upper\"]].values.tolist()[0],\n",
    "        \"Model3\": p2[[\"mean\", \"obs_ci_lower\", \"obs_ci_upper\"]].values.tolist()[0],\n",
    "    }\n",
    ").set_index(\" \")"
   ]
  },
  {
   "cell_type": "code",
   "execution_count": 70,
   "metadata": {},
   "outputs": [
    {
     "data": {
      "text/html": [
       "<div>\n",
       "<style scoped>\n",
       "    .dataframe tbody tr th:only-of-type {\n",
       "        vertical-align: middle;\n",
       "    }\n",
       "\n",
       "    .dataframe tbody tr th {\n",
       "        vertical-align: top;\n",
       "    }\n",
       "\n",
       "    .dataframe thead th {\n",
       "        text-align: right;\n",
       "    }\n",
       "</style>\n",
       "<table border=\"1\" class=\"dataframe\">\n",
       "  <thead>\n",
       "    <tr style=\"text-align: right;\">\n",
       "      <th></th>\n",
       "      <th>Model1</th>\n",
       "      <th>Model3</th>\n",
       "    </tr>\n",
       "    <tr>\n",
       "      <th></th>\n",
       "      <th></th>\n",
       "      <th></th>\n",
       "    </tr>\n",
       "  </thead>\n",
       "  <tbody>\n",
       "    <tr>\n",
       "      <th>Predicted</th>\n",
       "      <td>6569.387</td>\n",
       "      <td>6072.767</td>\n",
       "    </tr>\n",
       "    <tr>\n",
       "      <th>PI_low(80%)</th>\n",
       "      <td>4299.117</td>\n",
       "      <td>4323.896</td>\n",
       "    </tr>\n",
       "    <tr>\n",
       "      <th>PI_high(80%)</th>\n",
       "      <td>8839.656</td>\n",
       "      <td>7821.637</td>\n",
       "    </tr>\n",
       "  </tbody>\n",
       "</table>\n",
       "</div>"
      ],
      "text/plain": [
       "               Model1   Model3\n",
       "                              \n",
       "Predicted    6569.387 6072.767\n",
       "PI_low(80%)  4299.117 4323.896\n",
       "PI_high(80%) 8839.656 7821.637"
      ]
     },
     "execution_count": 70,
     "metadata": {},
     "output_type": "execute_result"
    }
   ],
   "source": [
    "# summary of predictions and PI 80% version\n",
    "p1=reg1.get_prediction(new).summary_frame(alpha=0.2)\n",
    "p2=reg3.get_prediction(new).summary_frame(alpha=0.2)\n",
    "\n",
    "pd.DataFrame(\n",
    "    {\n",
    "        \" \": [\"Predicted\", \"PI_low(80%)\", \"PI_high(80%)\"],\n",
    "        \"Model1\": p1[[\"mean\", \"obs_ci_lower\", \"obs_ci_upper\"]].values.tolist()[0],\n",
    "        \"Model3\": p2[[\"mean\", \"obs_ci_lower\", \"obs_ci_upper\"]].values.tolist()[0],\n",
    "    }\n",
    ").set_index(\" \")"
   ]
  },
  {
   "cell_type": "code",
   "execution_count": null,
   "metadata": {},
   "outputs": [],
   "source": []
  }
 ],
 "metadata": {
  "kernelspec": {
   "display_name": "Python 3 (ipykernel)",
   "language": "python",
   "name": "python3"
  },
  "language_info": {
   "codemirror_mode": {
    "name": "ipython",
    "version": 3
   },
   "file_extension": ".py",
   "mimetype": "text/x-python",
   "name": "python",
   "nbconvert_exporter": "python",
   "pygments_lexer": "ipython3",
   "version": "3.11.4"
  }
 },
 "nbformat": 4,
 "nbformat_minor": 4
}
